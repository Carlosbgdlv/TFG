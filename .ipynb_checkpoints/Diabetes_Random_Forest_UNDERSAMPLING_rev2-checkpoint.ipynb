{
 "cells": [
  {
   "cell_type": "code",
   "execution_count": 1,
   "metadata": {},
   "outputs": [
    {
     "name": "stderr",
     "output_type": "stream",
     "text": [
      "C:\\Users\\ywen2\\Anaconda3\\lib\\site-packages\\statsmodels\\tools\\_testing.py:19: FutureWarning: pandas.util.testing is deprecated. Use the functions in the public API at pandas.testing instead.\n",
      "  import pandas.util.testing as tm\n"
     ]
    }
   ],
   "source": [
    "import pandas as pd \n",
    "import seaborn as sns\n",
    "import matplotlib.pyplot as plt\n",
    "import pylab\n",
    "import scipy.stats as ss\n",
    "import csv\n",
    "import numpy as np\n",
    "import sklearn\n",
    "import glob\n",
    "from io import StringIO\n",
    "from sklearn.model_selection import train_test_split\n",
    "from sklearn import datasets\n",
    "from sklearn import svm\n",
    "from sklearn.neighbors import KNeighborsClassifier\n",
    "from sklearn.tree import DecisionTreeClassifier\n",
    "from sklearn.metrics import classification_report\n",
    "from sklearn.metrics import confusion_matrix\n",
    "from sklearn.model_selection import cross_val_score\n",
    "from sklearn.preprocessing import StandardScaler\n",
    "from sklearn.ensemble import RandomForestClassifier\n",
    "from collections import Counter"
   ]
  },
  {
   "cell_type": "markdown",
   "metadata": {},
   "source": [
    "# 1. PREPROCESADO:"
   ]
  },
  {
   "cell_type": "markdown",
   "metadata": {},
   "source": [
    "- **Cargamos las matrices anteriormente creadas** y que fueron divididas en train y test. Cargamos tanto los pacientes con sus variables y revisiones como las etiquetas asociadas a cada paciente"
   ]
  },
  {
   "cell_type": "code",
   "execution_count": 2,
   "metadata": {},
   "outputs": [],
   "source": [
    "X_train = np.load('Conjunto_train.npy')\n",
    "X_test = np.load('Conjunto_test.npy')\n",
    "y_train = np.load('Labels_train.npy')\n",
    "y_test = np.load('Labels_test.npy')"
   ]
  },
  {
   "cell_type": "markdown",
   "metadata": {},
   "source": [
    "- Cargamos las probabilidades de pertenecer a cada clase para imputarlas como nueva columna a la revisión 2."
   ]
  },
  {
   "cell_type": "code",
   "execution_count": 3,
   "metadata": {},
   "outputs": [],
   "source": [
    "Prob_train = np.load('Probabilidades train.npy')\n",
    "Prob_test = np.load('Probabilidades test.npy')\n",
    "Prob_train_1 = np.load('Probabilidades train 1.npy')\n",
    "Prob_test_1 = np.load('Probabilidades test 1.npy')"
   ]
  },
  {
   "cell_type": "markdown",
   "metadata": {},
   "source": [
    "- **Comprobamos las dimensiones de cada matriz**, tenemos 1317 pacientes para train y 330 para test (partición 80/20).\n",
    "\n",
    "El 13 hace referencia al número de revisiones que nosotros mismos decicimos como idóneas. 22 son el número de features."
   ]
  },
  {
   "cell_type": "code",
   "execution_count": 4,
   "metadata": {},
   "outputs": [
    {
     "name": "stdout",
     "output_type": "stream",
     "text": [
      "(1317,)\n",
      "(1317, 13, 22)\n",
      "(330,)\n",
      "(330, 13, 22)\n"
     ]
    }
   ],
   "source": [
    "print(y_train.shape)\n",
    "print(X_train.shape)\n",
    "print(y_test.shape)\n",
    "print(X_test.shape)"
   ]
  },
  {
   "cell_type": "markdown",
   "metadata": {},
   "source": [
    "- Como observamos el el histograma, los **datos están desbalanceados**."
   ]
  },
  {
   "cell_type": "code",
   "execution_count": 5,
   "metadata": {},
   "outputs": [
    {
     "data": {
      "image/png": "[encoded data removed]",
      "text/plain": [
       "<Figure size 432x288 with 1 Axes>"
      ]
     },
     "metadata": {
      "needs_background": "light"
     },
     "output_type": "display_data"
    }
   ],
   "source": [
    "plt.hist(y_train)\n",
    "plt.show()"
   ]
  },
  {
   "cell_type": "code",
   "execution_count": 6,
   "metadata": {},
   "outputs": [],
   "source": [
    "X_train_1 = X_train[:,0,:]\n",
    "X_train_2 = X_train[:,1,:]"
   ]
  },
  {
   "cell_type": "markdown",
   "metadata": {},
   "source": [
    "Vamos a hacer lo siguiente en la función:\n",
    "\n",
    "1. Revisar si hay alguna característica que tenga más del 50% a NaN, entonces habría que considerar eliminarla. Tenemos un problema, porque hay que revisar que tengo más de 50% en todas las revisiones. Para no complicar las cosas, vamos a considerar que trabajamos sólo con tres revisiones (vamos a ver si llegamos rápido a ese punto, en otro caso deberíamos ver si paramos en tres revisiones, que ya es bastante).\n",
    "\n",
    "1. Revisar si hay algún paciente con más de 8 características NaN, con que esto ocurra en cualquiera de las tres revisiones, deberíamos considerarlo que se elimina, en todas las revisiones.\n",
    "\n",
    "## 1.1 Features con problemas:\n",
    "\n",
    "Revisando la información rápidamente hay varias features con problemas:\n",
    "\n",
    "1. **Importante**: las variables *Blood_Glucose* y *Glycated-HB* hay que sacarlas fuera de la base de datos, porque son las que se utilizan para determinar si un pacientes diabético o no.\n",
    "1. Hay cuatro variables que tiene muchos NaN, así que lo que intentaría sería centrarnos en cómo imputarlas, tanto en training como en test. Esto es un poco más complicado de lo que hacemos habitualmente con las bases de datos normales, porque aquí tenemos más datos y de forma un poco más complicada.\n",
    "    * HOMA\n",
    "    * Insulin\n",
    "    * Vitamin-D\n",
    "   \n",
    "Estas son las que más tienen en las tres primeras revisiones. Lo que vamos a hacer es lo siguiente, aprovechando que tenemos un montón de datos y datos temporales vamos a utilizar un esquema diferente para hacer la imputación de forma que sea más razonable, intentando perder el menor número de datos posibles, por ejemplo: \n",
    " * Regresión lineal múltiple con respecto a todas las variables temporales. Otra cosa\n",
    " * Verificar cuál es la correlación entre variables, para una misma revisión, y buscar con las que mayor correlación tengan y proponer un modelo de regresión lineal. \n",
    " \n",
    "Mi propuesta para el TFG: \n",
    " * Vamos a hacer imputación por la mediana (en el caso de Vitamin-D, HOMA e Insulin) casi seguro que vamos a empeorar un poco porque hay muchos NaN, pero la esperanza es que todo se compense.\n",
    " * Si te ves con fuerzas y ganas probamos lo que he comentado anteriormente\n",
    "\n"
   ]
  },
  {
   "cell_type": "code",
   "execution_count": 7,
   "metadata": {},
   "outputs": [],
   "source": [
    "feature_names = ['Age','Weight','Size','IMC','Creatinine','Cystatin','HDL','LDL','Triglyciredes','GOT','GPT','GGT','Albuminuria','Ferritin','HOMA','Insulin','Blood_Glucose','Glycated-HB','PCR','Vitamin-D','TAS','TAD','Date']\n",
    "    \n",
    "df = pd.DataFrame(X_train_2,columns = feature_names[:-1])"
   ]
  },
  {
   "cell_type": "code",
   "execution_count": 8,
   "metadata": {},
   "outputs": [
    {
     "name": "stdout",
     "output_type": "stream",
     "text": [
      "Age 2\n",
      "Weight 13\n",
      "Size 4\n",
      "IMC 15\n",
      "Creatinine 5\n",
      "Cystatin 141\n",
      "HDL 100\n",
      "LDL 119\n",
      "Triglyciredes 8\n",
      "GOT 200\n",
      "GPT 8\n",
      "GGT 35\n",
      "Albuminuria 166\n",
      "Ferritin 81\n",
      "HOMA 919\n",
      "Insulin 903\n",
      "Blood_Glucose 3\n",
      "Glycated-HB 650\n",
      "PCR 132\n",
      "Vitamin-D 993\n"
     ]
    }
   ],
   "source": [
    "for index,value in enumerate (df.isnull().sum()):\n",
    "        if value !=0:\n",
    "            print(df.columns[index],value)"
   ]
  },
  {
   "cell_type": "code",
   "execution_count": 9,
   "metadata": {},
   "outputs": [],
   "source": [
    "def data_nan_review_analysis(X):\n",
    "    \"\"\"\n",
    "    Function that takes as input a matrix with pats and features for one review, and gets back\n",
    "    X_train_rev_imputed,pats_to_drop,feature_to_drop,imputation_data\n",
    "    \"\"\"\n",
    "    feature_names = ['Age','Weight','Size','IMC','Creatinine','Cystatin','HDL','LDL','Triglyciredes','GOT','GPT','GGT','Albuminuria','Ferritin','HOMA','Insulin','Blood_Glucose','Glycated-HB','PCR','Vitamin-D','TAS','TAD','Date']\n",
    "    \n",
    "    df = pd.DataFrame(X,columns = feature_names[:-1]) #convert it to df #delete date [:-1]\n",
    "    \n",
    "    print(df.columns)\n",
    "    df = df.drop('Blood_Glucose',axis = 1)\n",
    "    df = df.drop('Glycated-HB',axis = 1)\n",
    "    \n",
    "    \n",
    "    #initialize vars to return\n",
    "    X_train_rev_imputed = []\n",
    "    pats_to_drop = []\n",
    "    feature_to_drop = []\n",
    "    imputation_data = []\n",
    "    #check number of NaNs per feature\n",
    "    \n",
    "    for index,value in enumerate (df.isnull().sum()):\n",
    "        if value !=0:\n",
    "            print(df.columns[index],value)\n",
    "            \n",
    "    #Drop features: Blood_Glucose and Glycated_HB\n",
    "    \n",
    "\n",
    "    ##reemplazar cada valor por la mediana \n",
    "    \n",
    "    X_train_rev_imputed = df.fillna(df.median()) \n",
    "    \n",
    "    return X_train_rev_imputed,pats_to_drop,feature_to_drop,imputation_data\n",
    "\n",
    "def imputing_data(X):\n",
    "    \"\"\" \n",
    "    Function that check data with nans and replace them with appropriate imputation\n",
    "    \"\"\"\n",
    "    X_train_aux = X_train.copy()\n",
    "    num_review = X_train_aux.shape[1]\n",
    "    \n",
    "    X_train_imp = []\n",
    "    \n",
    "    #run over the reviews and get the X_train_imputed, pats_to_drop, feature_to_drop, and imputation values\n",
    "    for i in range(3):\n",
    "        print(\"review\",i)\n",
    "        print(\"----------\")\n",
    "        X_train_rev_imputed,pats_to_drop,feature_to_drop,imputation_data = data_nan_review_analysis(X_train_aux[:,i,:])\n",
    "        print(\"----------\")\n",
    "        print(\"----------\")\n",
    "        \n",
    "        X_train_imp.append(X_train_rev_imputed)\n",
    "        \n",
    "    return X_train_imp"
   ]
  },
  {
   "cell_type": "markdown",
   "metadata": {},
   "source": [
    "Creamos una nueva variable: **X_train_imp**, obtenida de aplicar la función imputing_data a X_train. Devuelve lo siguiente\n",
    "\n",
    "- Nº de revisión\n",
    "- Features\n",
    "- Features con sus respectivos NaN (no aparecen las features eliminadas previamente por la función)"
   ]
  },
  {
   "cell_type": "code",
   "execution_count": 10,
   "metadata": {},
   "outputs": [
    {
     "name": "stdout",
     "output_type": "stream",
     "text": [
      "review 0\n",
      "----------\n",
      "Index(['Age', 'Weight', 'Size', 'IMC', 'Creatinine', 'Cystatin', 'HDL', 'LDL',\n",
      "       'Triglyciredes', 'GOT', 'GPT', 'GGT', 'Albuminuria', 'Ferritin', 'HOMA',\n",
      "       'Insulin', 'Blood_Glucose', 'Glycated-HB', 'PCR', 'Vitamin-D', 'TAS',\n",
      "       'TAD'],\n",
      "      dtype='object')\n",
      "Weight 15\n",
      "Size 6\n",
      "IMC 19\n",
      "Creatinine 21\n",
      "Cystatin 263\n",
      "HDL 115\n",
      "LDL 135\n",
      "Triglyciredes 24\n",
      "GOT 198\n",
      "GPT 26\n",
      "GGT 54\n",
      "Albuminuria 209\n",
      "Ferritin 133\n",
      "HOMA 958\n",
      "Insulin 939\n",
      "PCR 231\n",
      "Vitamin-D 1079\n",
      "----------\n",
      "----------\n",
      "review 1\n",
      "----------\n",
      "Index(['Age', 'Weight', 'Size', 'IMC', 'Creatinine', 'Cystatin', 'HDL', 'LDL',\n",
      "       'Triglyciredes', 'GOT', 'GPT', 'GGT', 'Albuminuria', 'Ferritin', 'HOMA',\n",
      "       'Insulin', 'Blood_Glucose', 'Glycated-HB', 'PCR', 'Vitamin-D', 'TAS',\n",
      "       'TAD'],\n",
      "      dtype='object')\n",
      "Age 2\n",
      "Weight 13\n",
      "Size 4\n",
      "IMC 15\n",
      "Creatinine 5\n",
      "Cystatin 141\n",
      "HDL 100\n",
      "LDL 119\n",
      "Triglyciredes 8\n",
      "GOT 200\n",
      "GPT 8\n",
      "GGT 35\n",
      "Albuminuria 166\n",
      "Ferritin 81\n",
      "HOMA 919\n",
      "Insulin 903\n",
      "PCR 132\n",
      "Vitamin-D 993\n",
      "----------\n",
      "----------\n",
      "review 2\n",
      "----------\n",
      "Index(['Age', 'Weight', 'Size', 'IMC', 'Creatinine', 'Cystatin', 'HDL', 'LDL',\n",
      "       'Triglyciredes', 'GOT', 'GPT', 'GGT', 'Albuminuria', 'Ferritin', 'HOMA',\n",
      "       'Insulin', 'Blood_Glucose', 'Glycated-HB', 'PCR', 'Vitamin-D', 'TAS',\n",
      "       'TAD'],\n",
      "      dtype='object')\n",
      "Age 112\n",
      "Weight 121\n",
      "Size 112\n",
      "IMC 123\n",
      "Creatinine 119\n",
      "Cystatin 250\n",
      "HDL 206\n",
      "LDL 227\n",
      "Triglyciredes 126\n",
      "GOT 338\n",
      "GPT 124\n",
      "GGT 147\n",
      "Albuminuria 276\n",
      "Ferritin 186\n",
      "HOMA 973\n",
      "Insulin 960\n",
      "PCR 252\n",
      "Vitamin-D 1001\n",
      "TAS 109\n",
      "TAD 109\n",
      "----------\n",
      "----------\n"
     ]
    }
   ],
   "source": [
    "X_train_imp = imputing_data(X_train)"
   ]
  },
  {
   "cell_type": "code",
   "execution_count": 11,
   "metadata": {},
   "outputs": [],
   "source": [
    "#review imputed data #Values for Revision 1 for vitamin D\n",
    "#X_train_imp[1]['Vitamin-D']"
   ]
  },
  {
   "cell_type": "markdown",
   "metadata": {},
   "source": [
    "- Obtenemos las **dos primeras revisiones** ya que nos es más sencillo trabajar. El resultado obtenido será extrapolable a un mayor número de revisiones."
   ]
  },
  {
   "cell_type": "code",
   "execution_count": 12,
   "metadata": {},
   "outputs": [],
   "source": [
    "#Get the two first reviews\n",
    "\n",
    "X_train_1 = X_train_imp[0]\n",
    "X_train_2 = X_train_imp[1]"
   ]
  },
  {
   "cell_type": "code",
   "execution_count": 13,
   "metadata": {},
   "outputs": [],
   "source": [
    "newX_train = np.concatenate((X_train_2, Prob_train[:,None]), axis=1)"
   ]
  },
  {
   "cell_type": "markdown",
   "metadata": {},
   "source": [
    "### Undersampling:\n",
    "\n",
    "Las técnicas de *undersampling* eliminan ejemplos del conjunto de datos de entrenamiento que pertenecen a la clase mayoritaria para equilibrar mejor la distribución de clases.\n",
    "\n",
    "La técnica de submuestreo más simple implica la selección aleatoria de ejemplos de la clase mayoritaria y su eliminación del conjunto de datos de entrenamiento. Esto se conoce como submuestreo aleatorio. Aunque simple y eficaz, una limitación de esta técnica es que los ejemplos se eliminan sin preocuparse por su utilidad o importancia para determinar el límite de decisión entre las clases. Esto significa que es posible, o incluso probable, que se elimine información útil.\n",
    "\n",
    "Una extensión de este enfoque es ser más exigente con respecto a los ejemplos de la clase mayoritaria que se eliminan. Por lo general, se trata de modelos heurísticos o de aprendizaje que intentan identificar ejemplos redundantes para la eliminación o ejemplos útiles para la no eliminación"
   ]
  },
  {
   "cell_type": "markdown",
   "metadata": {},
   "source": [
    "# 2. PREDICCIÓN"
   ]
  },
  {
   "cell_type": "markdown",
   "metadata": {},
   "source": [
    "### 2.1 Random Forest"
   ]
  },
  {
   "cell_type": "markdown",
   "metadata": {},
   "source": [
    "Debemos probar una amplia gama de valores y ver qué funciona. Intentaremos ajustar el siguiente conjunto de hiperparámetros:\n",
    "\n",
    "- max_features = max number of features considered for splitting a node\n",
    "- min_samples_split = min number of data points placed in a node before the node is split\n",
    "- min_samples_leaf = min number of data points allowed in a leaf node"
   ]
  },
  {
   "cell_type": "markdown",
   "metadata": {},
   "source": [
    "Para usar **RandomizedSearchCV**, primero necesitamos crear una cuadrícula de parámetros para muestrear durante el ajuste:"
   ]
  },
  {
   "cell_type": "code",
   "execution_count": 14,
   "metadata": {},
   "outputs": [
    {
     "name": "stdout",
     "output_type": "stream",
     "text": [
      "{'max_features': ['auto', 'sqrt', 'log2'], 'min_samples_split': [2, 5, 10], 'min_samples_leaf': [1, 2, 4, 8, 10, 12, 14, 16, 18, 20]}\n"
     ]
    }
   ],
   "source": [
    "from sklearn.model_selection import RandomizedSearchCV\n",
    "# Number of features to consider at every split\n",
    "max_features = ['auto', 'sqrt','log2']\n",
    "# Minimum number of samples required to split a node\n",
    "min_samples_split = [2, 5, 10]\n",
    "# Minimum number of samples required at each leaf node\n",
    "min_samples_leaf = [1, 2, 4,8,10,12,14,16,18,20]\n",
    "# Create the random grid\n",
    "random_grid = {'max_features': max_features,\n",
    "               'min_samples_split': min_samples_split,\n",
    "               'min_samples_leaf': min_samples_leaf,}\n",
    "print(random_grid)"
   ]
  },
  {
   "cell_type": "markdown",
   "metadata": {},
   "source": [
    "En cada iteración, el algoritmo elegirá una combinación diferente de las características. El beneficio de una búsqueda aleatoria es que no probamos todas las combinaciones, sino que seleccionamos al azar para muestrear una amplia gama de valores."
   ]
  },
  {
   "cell_type": "markdown",
   "metadata": {},
   "source": [
    "**Grid Search**\n",
    "\n",
    "GridSearchCV es una clase disponible en scikit-learn que permite evaluar y seleccionar de forma sistemática los parámetros de un modelo. Indicándole un modelo y los parámetros a probar, puede evaluar el rendimiento del primero en función de los segundos mediante validación cruzada.\n",
    "\n",
    "- cv, que es el número de pliegues que se deben usar para la validación cruzada. \n",
    "\n",
    "Más pliegues de cv reducen las posibilidades de sobreajuste, pero aumentarlo aumentará el tiempo de ejecución."
   ]
  },
  {
   "cell_type": "markdown",
   "metadata": {},
   "source": [
    "**Balanced Random Forest** es una modificación de RF, donde por cada árbol se construyen dos conjuntos bootstrap del mismo tamaño, igual al tamaño de la clase minoritaria: uno para la clase minoritaria, el otro para la clase mayoritaria. Conjuntamente, estos dos conjuntos constituyen el conjunto de entrenamiento."
   ]
  },
  {
   "cell_type": "code",
   "execution_count": 15,
   "metadata": {},
   "outputs": [],
   "source": [
    "# First create the base model to tune\n",
    "\n",
    "#Creo que es mejor la estrategia que se presenta en from imblearn.ensemble import BalancedRandomForestClassifier\n",
    "from imblearn.ensemble import BalancedRandomForestClassifier\n",
    "\n",
    "rf_1 = BalancedRandomForestClassifier(n_estimators=100, criterion='gini',  \n",
    "                   bootstrap=True, oob_score=False, class_weight = 'balanced_subsample')"
   ]
  },
  {
   "cell_type": "code",
   "execution_count": 16,
   "metadata": {},
   "outputs": [],
   "source": [
    "from sklearn.model_selection import GridSearchCV\n",
    "# Use the random grid to search for best hyperparameters\n",
    "# Grid search of parameters, using 7 fold cross validation,\n",
    "\n",
    "grid_random = GridSearchCV(rf_1, random_grid, cv=7 , n_jobs = -1, verbose = 5)"
   ]
  },
  {
   "cell_type": "code",
   "execution_count": 17,
   "metadata": {},
   "outputs": [
    {
     "name": "stdout",
     "output_type": "stream",
     "text": [
      "Fitting 7 folds for each of 90 candidates, totalling 630 fits\n"
     ]
    },
    {
     "data": {
      "text/plain": [
       "GridSearchCV(cv=7,\n",
       "             estimator=BalancedRandomForestClassifier(class_weight='balanced_subsample'),\n",
       "             n_jobs=-1,\n",
       "             param_grid={'max_features': ['auto', 'sqrt', 'log2'],\n",
       "                         'min_samples_leaf': [1, 2, 4, 8, 10, 12, 14, 16, 18,\n",
       "                                              20],\n",
       "                         'min_samples_split': [2, 5, 10]},\n",
       "             verbose=5)"
      ]
     },
     "execution_count": 17,
     "metadata": {},
     "output_type": "execute_result"
    }
   ],
   "source": [
    "# Fit the random search model\n",
    "#grid_random.fit(X_resampled, y_resampled)\n",
    "grid_random.fit(newX_train, y_train)"
   ]
  },
  {
   "cell_type": "code",
   "execution_count": 18,
   "metadata": {},
   "outputs": [
    {
     "data": {
      "text/plain": [
       "{'max_features': 'sqrt', 'min_samples_leaf': 10, 'min_samples_split': 5}"
      ]
     },
     "execution_count": 18,
     "metadata": {},
     "output_type": "execute_result"
    }
   ],
   "source": [
    "grid_random.best_params_"
   ]
  },
  {
   "cell_type": "markdown",
   "metadata": {},
   "source": [
    "Creamos un **nuevo modelo** teniendo en cuenta los hiperparámetros que nos devuelve Grid_Search"
   ]
  },
  {
   "cell_type": "code",
   "execution_count": 19,
   "metadata": {},
   "outputs": [],
   "source": [
    "rf_2 = BalancedRandomForestClassifier(n_estimators=5000, criterion='gini', max_features = grid_random.best_params_['max_features'],\n",
    "                min_samples_leaf = grid_random.best_params_['min_samples_leaf'], min_samples_split = grid_random.best_params_['min_samples_split'],    \n",
    "                   bootstrap=True, oob_score=False, class_weight = 'balanced_subsample')"
   ]
  },
  {
   "cell_type": "code",
   "execution_count": 20,
   "metadata": {},
   "outputs": [
    {
     "data": {
      "text/plain": [
       "BalancedRandomForestClassifier(class_weight='balanced_subsample',\n",
       "                               max_features='sqrt', min_samples_leaf=10,\n",
       "                               min_samples_split=5, n_estimators=5000)"
      ]
     },
     "execution_count": 20,
     "metadata": {},
     "output_type": "execute_result"
    }
   ],
   "source": [
    "rf_2.fit(newX_train, y_train)"
   ]
  },
  {
   "cell_type": "code",
   "execution_count": 21,
   "metadata": {},
   "outputs": [
    {
     "name": "stdout",
     "output_type": "stream",
     "text": [
      "[0 1 0 ... 0 0 0]\n"
     ]
    }
   ],
   "source": [
    "y_pred = rf_2.predict(newX_train)\n",
    "print(y_pred)"
   ]
  },
  {
   "cell_type": "code",
   "execution_count": 22,
   "metadata": {},
   "outputs": [
    {
     "name": "stdout",
     "output_type": "stream",
     "text": [
      "[[0.84257502 0.15742498]\n",
      " [0.17890161 0.82109839]\n",
      " [0.72571996 0.27428004]\n",
      " ...\n",
      " [0.74302612 0.25697388]\n",
      " [0.79813716 0.20186284]\n",
      " [0.71899365 0.28100635]]\n"
     ]
    }
   ],
   "source": [
    "y_pred_prob = rf_2.predict_proba(newX_train)\n",
    "print(y_pred_prob)"
   ]
  },
  {
   "cell_type": "code",
   "execution_count": 23,
   "metadata": {},
   "outputs": [],
   "source": [
    "np.save('Probabilidades train', y_pred_prob[:,1])"
   ]
  },
  {
   "cell_type": "markdown",
   "metadata": {},
   "source": [
    "## 2.2 Prestaciones"
   ]
  },
  {
   "cell_type": "markdown",
   "metadata": {},
   "source": [
    "La **sensibilidad y la especificidad** son dos valores que nos indican la capacidad de nuestro estimador para discriminar los casos positivos, de los negativos. La sensibilidad es la fracción de verdaderos positivos, mientras que la especificidad, es la fracción de verdaderos negativos.\n",
    "\n",
    "-  **La sensibilidad** es la proporción de casos positivos que fueron correctamente identificadas por el algoritmo.\n",
    "-  **La especificidad** se trata de los casos negativos que el algoritmo ha clasificado correctamente.  Expresa cuan bien puede el modelo detectar esa clase.\n",
    "- **La Precisión** se refiere a la dispersión del conjunto de valores obtenidos a partir de mediciones repetidas de una magnitud. Cuanto menor es la dispersión mayor la precisión. Se representa por la proporción entre el número de predicciones correctas (tanto positivas como negativas) y el total de predicciones. En forma práctica es  el porcentaje de casos positivos detectados.\n"
   ]
  },
  {
   "cell_type": "markdown",
   "metadata": {},
   "source": [
    "### Prestaciones en train"
   ]
  },
  {
   "cell_type": "code",
   "execution_count": 24,
   "metadata": {},
   "outputs": [],
   "source": [
    "from sklearn.metrics import confusion_matrix, plot_confusion_matrix"
   ]
  },
  {
   "cell_type": "code",
   "execution_count": 26,
   "metadata": {},
   "outputs": [
    {
     "data": {
      "image/png": "[encoded data removed]",
      "text/plain": [
       "<Figure size 432x288 with 2 Axes>"
      ]
     },
     "metadata": {
      "needs_background": "light"
     },
     "output_type": "display_data"
    },
    {
     "name": "stdout",
     "output_type": "stream",
     "text": [
      "Accuracy :  0.9977220956719818\n",
      "Sensitivity :  1.0\n",
      "Specificity :  0.9975247524752475\n",
      "                   pre       rec       spe        f1       geo       iba       sup\n",
      "\n",
      "          0       1.00      1.00      1.00      1.00      1.00      1.00      1212\n",
      "          1       0.97      1.00      1.00      0.99      1.00      1.00       105\n",
      "\n",
      "avg / total       1.00      1.00      1.00      1.00      1.00      1.00      1317\n",
      "\n"
     ]
    }
   ],
   "source": [
    "#cm = confusion_matrix(y_train_adasyn,y_pred)\n",
    "cm = confusion_matrix(y_train,y_pred)\n",
    "\n",
    "#plot_confusion_matrix(rf_1,X_train_adasyn,y_train_adasyn,cmap=plt.cm.Blues)\n",
    "plot_confusion_matrix(rf_2,newX_train,y_train,cmap=plt.cm.Blues)\n",
    "\n",
    "plt.show()\n",
    "\n",
    "total1=sum(sum(cm))\n",
    "\n",
    "accuracy1=(cm[0,0]+cm[1,1])/total1\n",
    "print ('Accuracy : ', accuracy1)\n",
    "\n",
    "sensitivity1 = cm[1,1]/(cm[1,0]+cm[1,1])\n",
    "print('Sensitivity : ', sensitivity1 )\n",
    "\n",
    "specificity1 = cm[0,0]/(cm[0,0]+cm[0,1])  #ojo, creo que está al revés esto\n",
    "print('Specificity : ', specificity1)\n",
    "\n",
    "from imblearn.metrics import classification_report_imbalanced\n",
    "\n",
    "print(classification_report_imbalanced(y_train, y_pred))"
   ]
  },
  {
   "cell_type": "markdown",
   "metadata": {},
   "source": [
    "### Prestaciones en test"
   ]
  },
  {
   "cell_type": "code",
   "execution_count": 29,
   "metadata": {},
   "outputs": [
    {
     "data": {
      "image/png": "[encoded data removed]",
      "text/plain": [
       "<Figure size 432x288 with 2 Axes>"
      ]
     },
     "metadata": {
      "needs_background": "light"
     },
     "output_type": "display_data"
    }
   ],
   "source": [
    "#modify NaNs in X_test\n",
    "\n",
    "feature_names = ['Age','Weight','Size','IMC','Creatinine','Cystatin','HDL','LDL','Triglyciredes','GOT','GPT','GGT','Albuminuria','Ferritin','HOMA','Insulin','Blood_Glucose','Glycated-HB','PCR','Vitamin-D','TAS','TAD','Date']\n",
    "\n",
    "X_test_2 = pd.DataFrame(X_test[:,1,:],columns = feature_names[:-1])\n",
    "\n",
    "X_test_2 = X_test_2.drop('Blood_Glucose',axis = 1)\n",
    "X_test_2 = X_test_2.drop('Glycated-HB',axis = 1)\n",
    "\n",
    "#impute\n",
    "\n",
    "X_test_2 = X_test_2.fillna(X_train_2.median())\n",
    "newX_test = np.concatenate((X_test_2, Prob_test[:,None]), axis=1)\n",
    "\n",
    "y_pred_test = rf_2.predict(newX_test)\n",
    "y_pred_test_prob = rf_2.predict_proba(newX_test)\n",
    "\n",
    "plot_confusion_matrix(rf_2,newX_test,y_test,cmap=plt.cm.Blues)\n",
    "\n",
    "plt.show()"
   ]
  },
  {
   "cell_type": "code",
   "execution_count": 28,
   "metadata": {},
   "outputs": [
    {
     "name": "stdout",
     "output_type": "stream",
     "text": [
      "Accuracy :  0.8909090909090909\n",
      "Specificity :  0.9702970297029703\n",
      "Sensitivity :  0.0\n"
     ]
    }
   ],
   "source": [
    "cm1 = confusion_matrix(y_test,y_pred_test)\n",
    "\n",
    "total1=sum(sum(cm1))\n",
    "\n",
    "accuracy1=(cm1[0,0]+cm1[1,1])/total1\n",
    "print ('Accuracy : ', accuracy1)\n",
    "\n",
    "specificity1 = cm1[0,0]/(cm1[0,0]+cm1[0,1])\n",
    "print('Specificity : ', specificity1 )\n",
    "\n",
    "sensitivity1 = cm1[1,1]/(cm1[1,0]+cm1[1,1])\n",
    "print('Sensitivity : ', sensitivity1)"
   ]
  },
  {
   "cell_type": "markdown",
   "metadata": {},
   "source": [
    "# Aplicamos el modelo eliminando las variables Vitamin-D, HOMA e Insulin"
   ]
  },
  {
   "cell_type": "markdown",
   "metadata": {},
   "source": [
    "# 1. PREPROCESADO"
   ]
  },
  {
   "cell_type": "code",
   "execution_count": 32,
   "metadata": {},
   "outputs": [],
   "source": [
    "def data_nan_review_analysis_1(X):\n",
    "    \"\"\"\n",
    "    Function that takes as input a matrix with pats and features for one review, and gets back\n",
    "    X_train_rev_imputed,pats_to_drop,feature_to_drop,imputation_data\n",
    "    \"\"\"\n",
    "    feature_names = ['Age','Weight','Size','IMC','Creatinine','Cystatin','HDL','LDL','Triglyciredes','GOT','GPT','GGT','Albuminuria','Ferritin','HOMA','Insulin','Blood_Glucose','Glycated-HB','PCR','Vitamin-D','TAS','TAD','Date']\n",
    "    \n",
    "    df = pd.DataFrame(X,columns = feature_names[:-1]) #convert it to df #delete date [:-1]\n",
    "    \n",
    "    print(df.columns)\n",
    "    df = df.drop('HOMA',axis = 1)\n",
    "    df = df.drop('Insulin',axis = 1)\n",
    "    df = df.drop('Blood_Glucose',axis = 1)\n",
    "    df = df.drop('Glycated-HB',axis = 1)\n",
    "    df = df.drop('Vitamin-D',axis = 1)\n",
    "    \n",
    "    \n",
    "    \n",
    "    #initialize vars to return\n",
    "    X_train_rev_imputed = []\n",
    "    pats_to_drop = []\n",
    "    feature_to_drop = []\n",
    "    imputation_data = []\n",
    "    #check number of NaNs per feature\n",
    "    \n",
    "    for index,value in enumerate (df.isnull().sum()):\n",
    "        if value !=0:\n",
    "            print(df.columns[index],value)\n",
    "            \n",
    "    #Drop features: Blood_Glucose and Glycated_HB\n",
    "    \n",
    "\n",
    "    ##reemplazar cada valor por la mediana \n",
    "    \n",
    "    X_train_rev_imputed = df.fillna(df.median()) \n",
    "    \n",
    "    return X_train_rev_imputed,pats_to_drop,feature_to_drop,imputation_data\n",
    "\n",
    "def imputing_data_1(X):\n",
    "    \"\"\" \n",
    "    Function that check data with nans and replace them with appropriate imputation\n",
    "    \"\"\"\n",
    "    X_train_aux = X_train.copy()\n",
    "    num_review = X_train_aux.shape[1]\n",
    "    \n",
    "    X_train_imp = []\n",
    "    \n",
    "    #run over the reviews and get the X_train_imputed, pats_to_drop, feature_to_drop, and imputation values\n",
    "    for i in range(3):\n",
    "        print(\"review\",i)\n",
    "        print(\"----------\")\n",
    "        X_train_rev_imputed,pats_to_drop,feature_to_drop,imputation_data = data_nan_review_analysis_1(X_train_aux[:,i,:])\n",
    "        print(\"----------\")\n",
    "        print(\"----------\")\n",
    "        \n",
    "        X_train_imp.append(X_train_rev_imputed)\n",
    "        \n",
    "    return X_train_imp"
   ]
  },
  {
   "cell_type": "code",
   "execution_count": 33,
   "metadata": {},
   "outputs": [
    {
     "name": "stdout",
     "output_type": "stream",
     "text": [
      "review 0\n",
      "----------\n",
      "Index(['Age', 'Weight', 'Size', 'IMC', 'Creatinine', 'Cystatin', 'HDL', 'LDL',\n",
      "       'Triglyciredes', 'GOT', 'GPT', 'GGT', 'Albuminuria', 'Ferritin', 'HOMA',\n",
      "       'Insulin', 'Blood_Glucose', 'Glycated-HB', 'PCR', 'Vitamin-D', 'TAS',\n",
      "       'TAD'],\n",
      "      dtype='object')\n",
      "Weight 15\n",
      "Size 6\n",
      "IMC 19\n",
      "Creatinine 21\n",
      "Cystatin 263\n",
      "HDL 115\n",
      "LDL 135\n",
      "Triglyciredes 24\n",
      "GOT 198\n",
      "GPT 26\n",
      "GGT 54\n",
      "Albuminuria 209\n",
      "Ferritin 133\n",
      "PCR 231\n",
      "----------\n",
      "----------\n",
      "review 1\n",
      "----------\n",
      "Index(['Age', 'Weight', 'Size', 'IMC', 'Creatinine', 'Cystatin', 'HDL', 'LDL',\n",
      "       'Triglyciredes', 'GOT', 'GPT', 'GGT', 'Albuminuria', 'Ferritin', 'HOMA',\n",
      "       'Insulin', 'Blood_Glucose', 'Glycated-HB', 'PCR', 'Vitamin-D', 'TAS',\n",
      "       'TAD'],\n",
      "      dtype='object')\n",
      "Age 2\n",
      "Weight 13\n",
      "Size 4\n",
      "IMC 15\n",
      "Creatinine 5\n",
      "Cystatin 141\n",
      "HDL 100\n",
      "LDL 119\n",
      "Triglyciredes 8\n",
      "GOT 200\n",
      "GPT 8\n",
      "GGT 35\n",
      "Albuminuria 166\n",
      "Ferritin 81\n",
      "PCR 132\n",
      "----------\n",
      "----------\n",
      "review 2\n",
      "----------\n",
      "Index(['Age', 'Weight', 'Size', 'IMC', 'Creatinine', 'Cystatin', 'HDL', 'LDL',\n",
      "       'Triglyciredes', 'GOT', 'GPT', 'GGT', 'Albuminuria', 'Ferritin', 'HOMA',\n",
      "       'Insulin', 'Blood_Glucose', 'Glycated-HB', 'PCR', 'Vitamin-D', 'TAS',\n",
      "       'TAD'],\n",
      "      dtype='object')\n",
      "Age 112\n",
      "Weight 121\n",
      "Size 112\n",
      "IMC 123\n",
      "Creatinine 119\n",
      "Cystatin 250\n",
      "HDL 206\n",
      "LDL 227\n",
      "Triglyciredes 126\n",
      "GOT 338\n",
      "GPT 124\n",
      "GGT 147\n",
      "Albuminuria 276\n",
      "Ferritin 186\n",
      "PCR 252\n",
      "TAS 109\n",
      "TAD 109\n",
      "----------\n",
      "----------\n"
     ]
    }
   ],
   "source": [
    "X_train_imp_1 = imputing_data_1(X_train)"
   ]
  },
  {
   "cell_type": "code",
   "execution_count": 34,
   "metadata": {},
   "outputs": [],
   "source": [
    "#Get the two first reviews\n",
    "\n",
    "X_train_11 = X_train_imp_1[0]\n",
    "X_train_22 = X_train_imp_1[1]"
   ]
  },
  {
   "cell_type": "code",
   "execution_count": 41,
   "metadata": {},
   "outputs": [],
   "source": [
    "newX_train_1 = np.concatenate((X_train_22, Prob_train_1[:,None]), axis=1)"
   ]
  },
  {
   "cell_type": "markdown",
   "metadata": {},
   "source": [
    "# 2. PREDICCIÓN"
   ]
  },
  {
   "cell_type": "markdown",
   "metadata": {},
   "source": [
    "## 2.1 Random Forest"
   ]
  },
  {
   "cell_type": "code",
   "execution_count": 42,
   "metadata": {},
   "outputs": [
    {
     "name": "stdout",
     "output_type": "stream",
     "text": [
      "{'max_features': ['auto', 'sqrt', 'log2'], 'min_samples_split': [2, 5, 10], 'min_samples_leaf': [1, 2, 4, 8, 10, 12, 14, 16, 18, 20]}\n"
     ]
    }
   ],
   "source": [
    "from sklearn.model_selection import RandomizedSearchCV\n",
    "# Number of features to consider at every split\n",
    "max_features = ['auto', 'sqrt','log2']\n",
    "# Minimum number of samples required to split a node\n",
    "min_samples_split = [2, 5, 10]\n",
    "# Minimum number of samples required at each leaf node\n",
    "min_samples_leaf = [1, 2, 4,8,10,12,14,16,18,20]\n",
    "# Create the random grid\n",
    "random_grid = {'max_features': max_features,\n",
    "               'min_samples_split': min_samples_split,\n",
    "               'min_samples_leaf': min_samples_leaf,}\n",
    "print(random_grid)"
   ]
  },
  {
   "cell_type": "code",
   "execution_count": 43,
   "metadata": {},
   "outputs": [],
   "source": [
    "# First create the base model to tune\n",
    "rf_11 = BalancedRandomForestClassifier(n_estimators=100, criterion='gini',  \n",
    "                   bootstrap=True, oob_score=False, class_weight = 'balanced_subsample')"
   ]
  },
  {
   "cell_type": "code",
   "execution_count": 44,
   "metadata": {},
   "outputs": [],
   "source": [
    "from sklearn.model_selection import GridSearchCV\n",
    "# Use the random grid to search for best hyperparameters\n",
    "# Grid search of parameters, using 7 fold cross validation,\n",
    "\n",
    "grid_random = GridSearchCV(rf_11, random_grid, cv=7 , n_jobs = -1, verbose = 5)"
   ]
  },
  {
   "cell_type": "code",
   "execution_count": 45,
   "metadata": {},
   "outputs": [
    {
     "name": "stdout",
     "output_type": "stream",
     "text": [
      "Fitting 7 folds for each of 90 candidates, totalling 630 fits\n"
     ]
    },
    {
     "data": {
      "text/plain": [
       "GridSearchCV(cv=7,\n",
       "             estimator=BalancedRandomForestClassifier(class_weight='balanced_subsample'),\n",
       "             n_jobs=-1,\n",
       "             param_grid={'max_features': ['auto', 'sqrt', 'log2'],\n",
       "                         'min_samples_leaf': [1, 2, 4, 8, 10, 12, 14, 16, 18,\n",
       "                                              20],\n",
       "                         'min_samples_split': [2, 5, 10]},\n",
       "             verbose=5)"
      ]
     },
     "execution_count": 45,
     "metadata": {},
     "output_type": "execute_result"
    }
   ],
   "source": [
    "# Fit the random search model\n",
    "grid_random.fit(newX_train_1, y_train)"
   ]
  },
  {
   "cell_type": "code",
   "execution_count": 46,
   "metadata": {},
   "outputs": [
    {
     "data": {
      "text/plain": [
       "{'max_features': 'auto', 'min_samples_leaf': 2, 'min_samples_split': 5}"
      ]
     },
     "execution_count": 46,
     "metadata": {},
     "output_type": "execute_result"
    }
   ],
   "source": [
    "grid_random.best_params_"
   ]
  },
  {
   "cell_type": "markdown",
   "metadata": {},
   "source": [
    "### Rebalancea dentro de cada árbol"
   ]
  },
  {
   "cell_type": "code",
   "execution_count": 47,
   "metadata": {},
   "outputs": [],
   "source": [
    "rf_22 = BalancedRandomForestClassifier(n_estimators=5000, criterion='gini', max_features = grid_random.best_params_['max_features'],\n",
    "                min_samples_leaf = grid_random.best_params_['min_samples_leaf'], min_samples_split = grid_random.best_params_['min_samples_split'],    \n",
    "                   bootstrap=True, oob_score=False, class_weight = 'balanced_subsample')"
   ]
  },
  {
   "cell_type": "code",
   "execution_count": 48,
   "metadata": {},
   "outputs": [
    {
     "data": {
      "text/plain": [
       "BalancedRandomForestClassifier(class_weight='balanced_subsample',\n",
       "                               min_samples_leaf=2, min_samples_split=5,\n",
       "                               n_estimators=5000)"
      ]
     },
     "execution_count": 48,
     "metadata": {},
     "output_type": "execute_result"
    }
   ],
   "source": [
    "rf_22.fit(newX_train_1, y_train)"
   ]
  },
  {
   "cell_type": "code",
   "execution_count": 49,
   "metadata": {},
   "outputs": [
    {
     "name": "stdout",
     "output_type": "stream",
     "text": [
      "[0 1 0 ... 0 0 0]\n",
      "[[0.905651   0.094349  ]\n",
      " [0.05007225 0.94992775]\n",
      " [0.83939468 0.16060532]\n",
      " ...\n",
      " [0.83490501 0.16509499]\n",
      " [0.87472482 0.12527518]\n",
      " [0.85762577 0.14237423]]\n"
     ]
    }
   ],
   "source": [
    "y_pred_1 = rf_22.predict(newX_train_1)\n",
    "y_pred_1_prob = rf_22.predict_proba(newX_train_1)\n",
    "print(y_pred_1)\n",
    "print(y_pred_1_prob)"
   ]
  },
  {
   "cell_type": "markdown",
   "metadata": {},
   "source": [
    "## 2.2 Calibración de la probabilidad"
   ]
  },
  {
   "cell_type": "code",
   "execution_count": null,
   "metadata": {},
   "outputs": [],
   "source": [
    "'''from sklearn.calibration import CalibratedClassifierCV\n",
    "\n",
    "base_clf = BalancedRandomForestClassifier(n_estimators=50, criterion='gini', max_features = grid_random.best_params_['max_features'],\n",
    "                min_samples_leaf = grid_random.best_params_['min_samples_leaf'], min_samples_split = grid_random.best_params_['min_samples_split'],    \n",
    "                   bootstrap=True, oob_score=False, class_weight = 'balanced_subsample')\n",
    "\n",
    "#vamos a calibrar training\n",
    "calibrated_clf = CalibratedClassifierCV(base_estimator=rf_22,cv='prefit', method = 'sigmoid',ensemble = False)\n",
    "\n",
    "calibrated_clf.fit(X_train_11, y_train)'''"
   ]
  },
  {
   "cell_type": "code",
   "execution_count": null,
   "metadata": {},
   "outputs": [],
   "source": [
    "'''#calibrated_clf.\n",
    "from sklearn.calibration import calibration_curve\n",
    "\n",
    "feature_names = ['Age','Weight','Size','IMC','Creatinine','Cystatin','HDL','LDL','Triglyciredes','GOT','GPT','GGT','Albuminuria','Ferritin','HOMA','Insulin','Blood_Glucose','Glycated-HB','PCR','Vitamin-D','TAS','TAD','Date']\n",
    "\n",
    "X_test_1 = pd.DataFrame(X_test[:,0,:],columns = feature_names[:-1])\n",
    "\n",
    "X_test_1 = X_test_1.drop('Blood_Glucose',axis = 1)\n",
    "X_test_1 = X_test_1.drop('Glycated-HB',axis = 1)\n",
    "X_test_1 = X_test_1.drop('HOMA',axis = 1)\n",
    "X_test_1 = X_test_1.drop('Insulin',axis = 1)\n",
    "X_test_1 = X_test_1.drop('Vitamin-D',axis = 1)\n",
    "\n",
    "X_test_1 = X_test_1.fillna(X_train_1.median())\n",
    "\n",
    "\n",
    "y_pred_cali = calibrated_clf.predict_proba(X_test_1)[:,1]\n",
    "\n",
    "y_train_cali = calibrated_clf.predict_proba(X_train_11)[:,1]\n",
    "\n",
    "fraction_of_positives, mean_predicted_value = calibration_curve(y_test, y_pred_cali, n_bins=10)\n",
    "fraction_of_positives_train, mean_predicted_value_train = calibration_curve(y_train, y_train_cali, n_bins=10)\n",
    "\n",
    "plt.figure()\n",
    "plt.plot([0, 1], [0, 1], \"k:\", label=\"Perfectly calibrated\")\n",
    "plt.plot(mean_predicted_value, fraction_of_positives, \"s-\")\n",
    "plt.plot(mean_predicted_value_train, fraction_of_positives_train, \"^-\")\n",
    "\n",
    "\n",
    "plt.figure()\n",
    "plt.hist(y_pred_cali, range=(0, 1), bins=10,histtype=\"step\", lw=2)\n",
    "plt.hist(y_train_cali, range=(0, 1), bins=10,histtype=\"step\", lw=2)\n",
    "\n",
    "\n",
    "plt.hist(rf_22.predict_proba(X_train_11)[:,1],bins = 10,histtype='step')'''"
   ]
  },
  {
   "cell_type": "markdown",
   "metadata": {},
   "source": [
    "## 2.3 Prestaciones"
   ]
  },
  {
   "cell_type": "markdown",
   "metadata": {},
   "source": [
    "### Prestaciones en train"
   ]
  },
  {
   "cell_type": "code",
   "execution_count": 50,
   "metadata": {},
   "outputs": [],
   "source": [
    "from sklearn.metrics import confusion_matrix, plot_confusion_matrix"
   ]
  },
  {
   "cell_type": "code",
   "execution_count": 53,
   "metadata": {},
   "outputs": [
    {
     "name": "stdout",
     "output_type": "stream",
     "text": [
      "[[1209    3]\n",
      " [   0  105]]\n"
     ]
    },
    {
     "data": {
      "image/png": "[encoded data removed]",
      "text/plain": [
       "<Figure size 432x288 with 2 Axes>"
      ]
     },
     "metadata": {
      "needs_background": "light"
     },
     "output_type": "display_data"
    },
    {
     "name": "stdout",
     "output_type": "stream",
     "text": [
      "Accuracy :  3.981818181818182\n",
      "Sensitivity :  1.0\n",
      "Specificity :  0.9975247524752475\n"
     ]
    },
    {
     "data": {
      "image/png": "[encoded data removed]",
      "text/plain": [
       "<Figure size 432x288 with 1 Axes>"
      ]
     },
     "metadata": {
      "needs_background": "light"
     },
     "output_type": "display_data"
    }
   ],
   "source": [
    "#cm = confusion_matrix(y_train_adasyn,y_pred)\n",
    "\n",
    "cm = confusion_matrix(y_train,y_pred_1)\n",
    "print(cm)\n",
    "\n",
    "#plot_confusion_matrix(rf_1,X_train_adasyn,y_train_adasyn,cmap=plt.cm.Blues)\n",
    "plot_confusion_matrix(rf_22,newX_train_1,y_train,cmap=plt.cm.Blues)\n",
    "\n",
    "plt.show()\n",
    "\n",
    "accuracy1=(cm[0,0]+cm[1,1])/total1\n",
    "print ('Accuracy : ', accuracy1)\n",
    "\n",
    "sensitivity1 = cm[1,1]/(cm[1,0]+cm[1,1])\n",
    "print('Sensitivity : ', sensitivity1 )\n",
    "\n",
    "specificity1 = cm[0,0]/(cm[0,0]+cm[0,1])  #ojo, creo que está al revés esto\n",
    "print('Specificity : ', specificity1)\n",
    "\n",
    "\n",
    "from sklearn.metrics import roc_curve, auc\n",
    "from sklearn.metrics import plot_roc_curve\n",
    "\n",
    "plot_roc_curve(rf_22, newX_train_1, y_train)\n",
    "plt.show()"
   ]
  },
  {
   "cell_type": "markdown",
   "metadata": {},
   "source": [
    "### Prestaciones en test"
   ]
  },
  {
   "cell_type": "code",
   "execution_count": 56,
   "metadata": {},
   "outputs": [
    {
     "ename": "ValueError",
     "evalue": "X has 21 features, but DecisionTreeClassifier is expecting 18 features as input.",
     "output_type": "error",
     "traceback": [
      "\u001b[1;31m---------------------------------------------------------------------------\u001b[0m",
      "\u001b[1;31mValueError\u001b[0m                                Traceback (most recent call last)",
      "\u001b[1;32m<ipython-input-56-950348d30388>\u001b[0m in \u001b[0;36m<module>\u001b[1;34m\u001b[0m\n\u001b[0;32m     16\u001b[0m \u001b[0mnewX_test_1\u001b[0m \u001b[1;33m=\u001b[0m \u001b[0mnp\u001b[0m\u001b[1;33m.\u001b[0m\u001b[0mconcatenate\u001b[0m\u001b[1;33m(\u001b[0m\u001b[1;33m(\u001b[0m\u001b[0mX_test_2\u001b[0m\u001b[1;33m,\u001b[0m \u001b[0mProb_test_1\u001b[0m\u001b[1;33m[\u001b[0m\u001b[1;33m:\u001b[0m\u001b[1;33m,\u001b[0m\u001b[1;32mNone\u001b[0m\u001b[1;33m]\u001b[0m\u001b[1;33m)\u001b[0m\u001b[1;33m,\u001b[0m \u001b[0maxis\u001b[0m\u001b[1;33m=\u001b[0m\u001b[1;36m1\u001b[0m\u001b[1;33m)\u001b[0m\u001b[1;33m\u001b[0m\u001b[1;33m\u001b[0m\u001b[0m\n\u001b[0;32m     17\u001b[0m \u001b[1;33m\u001b[0m\u001b[0m\n\u001b[1;32m---> 18\u001b[1;33m \u001b[0my_pred_test_1\u001b[0m \u001b[1;33m=\u001b[0m \u001b[0mrf_22\u001b[0m\u001b[1;33m.\u001b[0m\u001b[0mpredict\u001b[0m\u001b[1;33m(\u001b[0m\u001b[0mnewX_test_1\u001b[0m\u001b[1;33m)\u001b[0m\u001b[1;33m\u001b[0m\u001b[1;33m\u001b[0m\u001b[0m\n\u001b[0m\u001b[0;32m     19\u001b[0m \u001b[0my_pred_test_prob_1\u001b[0m \u001b[1;33m=\u001b[0m \u001b[0mrf_22\u001b[0m\u001b[1;33m.\u001b[0m\u001b[0mpredict_proba\u001b[0m\u001b[1;33m(\u001b[0m\u001b[0mnewX_test_1\u001b[0m\u001b[1;33m)\u001b[0m \u001b[1;31m#Probabilidad de pertenecer a cada clase\u001b[0m\u001b[1;33m\u001b[0m\u001b[1;33m\u001b[0m\u001b[0m\n\u001b[0;32m     20\u001b[0m \u001b[1;33m\u001b[0m\u001b[0m\n",
      "\u001b[1;32m~\\Anaconda3\\lib\\site-packages\\sklearn\\ensemble\\_forest.py\u001b[0m in \u001b[0;36mpredict\u001b[1;34m(self, X)\u001b[0m\n\u001b[0;32m    628\u001b[0m             \u001b[0mThe\u001b[0m \u001b[0mpredicted\u001b[0m \u001b[0mclasses\u001b[0m\u001b[1;33m.\u001b[0m\u001b[1;33m\u001b[0m\u001b[1;33m\u001b[0m\u001b[0m\n\u001b[0;32m    629\u001b[0m         \"\"\"\n\u001b[1;32m--> 630\u001b[1;33m         \u001b[0mproba\u001b[0m \u001b[1;33m=\u001b[0m \u001b[0mself\u001b[0m\u001b[1;33m.\u001b[0m\u001b[0mpredict_proba\u001b[0m\u001b[1;33m(\u001b[0m\u001b[0mX\u001b[0m\u001b[1;33m)\u001b[0m\u001b[1;33m\u001b[0m\u001b[1;33m\u001b[0m\u001b[0m\n\u001b[0m\u001b[0;32m    631\u001b[0m \u001b[1;33m\u001b[0m\u001b[0m\n\u001b[0;32m    632\u001b[0m         \u001b[1;32mif\u001b[0m \u001b[0mself\u001b[0m\u001b[1;33m.\u001b[0m\u001b[0mn_outputs_\u001b[0m \u001b[1;33m==\u001b[0m \u001b[1;36m1\u001b[0m\u001b[1;33m:\u001b[0m\u001b[1;33m\u001b[0m\u001b[1;33m\u001b[0m\u001b[0m\n",
      "\u001b[1;32m~\\Anaconda3\\lib\\site-packages\\sklearn\\ensemble\\_forest.py\u001b[0m in \u001b[0;36mpredict_proba\u001b[1;34m(self, X)\u001b[0m\n\u001b[0;32m    672\u001b[0m         \u001b[0mcheck_is_fitted\u001b[0m\u001b[1;33m(\u001b[0m\u001b[0mself\u001b[0m\u001b[1;33m)\u001b[0m\u001b[1;33m\u001b[0m\u001b[1;33m\u001b[0m\u001b[0m\n\u001b[0;32m    673\u001b[0m         \u001b[1;31m# Check data\u001b[0m\u001b[1;33m\u001b[0m\u001b[1;33m\u001b[0m\u001b[1;33m\u001b[0m\u001b[0m\n\u001b[1;32m--> 674\u001b[1;33m         \u001b[0mX\u001b[0m \u001b[1;33m=\u001b[0m \u001b[0mself\u001b[0m\u001b[1;33m.\u001b[0m\u001b[0m_validate_X_predict\u001b[0m\u001b[1;33m(\u001b[0m\u001b[0mX\u001b[0m\u001b[1;33m)\u001b[0m\u001b[1;33m\u001b[0m\u001b[1;33m\u001b[0m\u001b[0m\n\u001b[0m\u001b[0;32m    675\u001b[0m \u001b[1;33m\u001b[0m\u001b[0m\n\u001b[0;32m    676\u001b[0m         \u001b[1;31m# Assign chunk of trees to jobs\u001b[0m\u001b[1;33m\u001b[0m\u001b[1;33m\u001b[0m\u001b[1;33m\u001b[0m\u001b[0m\n",
      "\u001b[1;32m~\\Anaconda3\\lib\\site-packages\\sklearn\\ensemble\\_forest.py\u001b[0m in \u001b[0;36m_validate_X_predict\u001b[1;34m(self, X)\u001b[0m\n\u001b[0;32m    420\u001b[0m         \u001b[0mcheck_is_fitted\u001b[0m\u001b[1;33m(\u001b[0m\u001b[0mself\u001b[0m\u001b[1;33m)\u001b[0m\u001b[1;33m\u001b[0m\u001b[1;33m\u001b[0m\u001b[0m\n\u001b[0;32m    421\u001b[0m \u001b[1;33m\u001b[0m\u001b[0m\n\u001b[1;32m--> 422\u001b[1;33m         \u001b[1;32mreturn\u001b[0m \u001b[0mself\u001b[0m\u001b[1;33m.\u001b[0m\u001b[0mestimators_\u001b[0m\u001b[1;33m[\u001b[0m\u001b[1;36m0\u001b[0m\u001b[1;33m]\u001b[0m\u001b[1;33m.\u001b[0m\u001b[0m_validate_X_predict\u001b[0m\u001b[1;33m(\u001b[0m\u001b[0mX\u001b[0m\u001b[1;33m,\u001b[0m \u001b[0mcheck_input\u001b[0m\u001b[1;33m=\u001b[0m\u001b[1;32mTrue\u001b[0m\u001b[1;33m)\u001b[0m\u001b[1;33m\u001b[0m\u001b[1;33m\u001b[0m\u001b[0m\n\u001b[0m\u001b[0;32m    423\u001b[0m \u001b[1;33m\u001b[0m\u001b[0m\n\u001b[0;32m    424\u001b[0m     \u001b[1;33m@\u001b[0m\u001b[0mproperty\u001b[0m\u001b[1;33m\u001b[0m\u001b[1;33m\u001b[0m\u001b[0m\n",
      "\u001b[1;32m~\\Anaconda3\\lib\\site-packages\\sklearn\\tree\\_classes.py\u001b[0m in \u001b[0;36m_validate_X_predict\u001b[1;34m(self, X, check_input)\u001b[0m\n\u001b[0;32m    406\u001b[0m         \u001b[1;32mif\u001b[0m \u001b[0mcheck_input\u001b[0m\u001b[1;33m:\u001b[0m\u001b[1;33m\u001b[0m\u001b[1;33m\u001b[0m\u001b[0m\n\u001b[0;32m    407\u001b[0m             X = self._validate_data(X, dtype=DTYPE, accept_sparse=\"csr\",\n\u001b[1;32m--> 408\u001b[1;33m                                     reset=False)\n\u001b[0m\u001b[0;32m    409\u001b[0m             if issparse(X) and (X.indices.dtype != np.intc or\n\u001b[0;32m    410\u001b[0m                                 X.indptr.dtype != np.intc):\n",
      "\u001b[1;32m~\\Anaconda3\\lib\\site-packages\\sklearn\\base.py\u001b[0m in \u001b[0;36m_validate_data\u001b[1;34m(self, X, y, reset, validate_separately, **check_params)\u001b[0m\n\u001b[0;32m    435\u001b[0m \u001b[1;33m\u001b[0m\u001b[0m\n\u001b[0;32m    436\u001b[0m         \u001b[1;32mif\u001b[0m \u001b[0mcheck_params\u001b[0m\u001b[1;33m.\u001b[0m\u001b[0mget\u001b[0m\u001b[1;33m(\u001b[0m\u001b[1;34m'ensure_2d'\u001b[0m\u001b[1;33m,\u001b[0m \u001b[1;32mTrue\u001b[0m\u001b[1;33m)\u001b[0m\u001b[1;33m:\u001b[0m\u001b[1;33m\u001b[0m\u001b[1;33m\u001b[0m\u001b[0m\n\u001b[1;32m--> 437\u001b[1;33m             \u001b[0mself\u001b[0m\u001b[1;33m.\u001b[0m\u001b[0m_check_n_features\u001b[0m\u001b[1;33m(\u001b[0m\u001b[0mX\u001b[0m\u001b[1;33m,\u001b[0m \u001b[0mreset\u001b[0m\u001b[1;33m=\u001b[0m\u001b[0mreset\u001b[0m\u001b[1;33m)\u001b[0m\u001b[1;33m\u001b[0m\u001b[1;33m\u001b[0m\u001b[0m\n\u001b[0m\u001b[0;32m    438\u001b[0m \u001b[1;33m\u001b[0m\u001b[0m\n\u001b[0;32m    439\u001b[0m         \u001b[1;32mreturn\u001b[0m \u001b[0mout\u001b[0m\u001b[1;33m\u001b[0m\u001b[1;33m\u001b[0m\u001b[0m\n",
      "\u001b[1;32m~\\Anaconda3\\lib\\site-packages\\sklearn\\base.py\u001b[0m in \u001b[0;36m_check_n_features\u001b[1;34m(self, X, reset)\u001b[0m\n\u001b[0;32m    364\u001b[0m         \u001b[1;32mif\u001b[0m \u001b[0mn_features\u001b[0m \u001b[1;33m!=\u001b[0m \u001b[0mself\u001b[0m\u001b[1;33m.\u001b[0m\u001b[0mn_features_in_\u001b[0m\u001b[1;33m:\u001b[0m\u001b[1;33m\u001b[0m\u001b[1;33m\u001b[0m\u001b[0m\n\u001b[0;32m    365\u001b[0m             raise ValueError(\n\u001b[1;32m--> 366\u001b[1;33m                 \u001b[1;34mf\"X has {n_features} features, but {self.__class__.__name__} \"\u001b[0m\u001b[1;33m\u001b[0m\u001b[1;33m\u001b[0m\u001b[0m\n\u001b[0m\u001b[0;32m    367\u001b[0m                 f\"is expecting {self.n_features_in_} features as input.\")\n\u001b[0;32m    368\u001b[0m \u001b[1;33m\u001b[0m\u001b[0m\n",
      "\u001b[1;31mValueError\u001b[0m: X has 21 features, but DecisionTreeClassifier is expecting 18 features as input."
     ]
    }
   ],
   "source": [
    "#modify NaNs in X_test\n",
    "\n",
    "feature_names = ['Age','Weight','Size','IMC','Creatinine','Cystatin','HDL','LDL','Triglyciredes','GOT','GPT','GGT','Albuminuria','Ferritin','HOMA','Insulin','Blood_Glucose','Glycated-HB','PCR','Vitamin-D','TAS','TAD','Date']\n",
    "\n",
    "X_test_1 = pd.DataFrame(X_test[:,1,:],columns = feature_names[:-1])\n",
    "\n",
    "X_test_1 = X_test_1.drop('Blood_Glucose',axis = 1)\n",
    "X_test_1 = X_test_1.drop('Glycated-HB',axis = 1)\n",
    "X_test_1 = X_test_1.drop('HOMA',axis = 1)\n",
    "X_test_1 = X_test_1.drop('Insulin',axis = 1)\n",
    "X_test_1 = X_test_1.drop('Vitamin-D',axis = 1)\n",
    "\n",
    "#impute\n",
    "\n",
    "X_test_1 = X_test_1.fillna(X_train_1.median())\n",
    "newX_test_1 = np.concatenate((X_test_2, Prob_test_1[:,None]), axis=1)\n",
    "\n",
    "y_pred_test_1 = rf_22.predict(newX_test_1)\n",
    "y_pred_test_prob_1 = rf_22.predict_proba(newX_test_1) #Probabilidad de pertenecer a cada clase\n",
    "\n",
    "plot_confusion_matrix(rf_22,newX_test_1,y_test,cmap=plt.cm.Blues)\n",
    "\n",
    "plt.show()"
   ]
  },
  {
   "cell_type": "code",
   "execution_count": null,
   "metadata": {
    "scrolled": true
   },
   "outputs": [],
   "source": [
    "print(y_pred_test_prob[:,1])"
   ]
  },
  {
   "cell_type": "code",
   "execution_count": null,
   "metadata": {},
   "outputs": [],
   "source": [
    "cm1 = confusion_matrix(y_test,y_pred_test)\n",
    "print(cm1)\n",
    "\n",
    "total1=sum(sum(cm1))\n",
    "\n",
    "accuracy1=(cm[0,0]+cm[1,1])/total1\n",
    "print ('Accuracy : ', accuracy1)\n",
    "\n",
    "sensitivity1 = cm1[1,1]/(cm1[1,0]+cm1[1,1])\n",
    "print('Sensitivity : ', sensitivity1 )\n",
    "\n",
    "specificity1 = cm1[0,0]/(cm1[0,0]+cm1[0,1])  #ojo, creo que está al revés esto\n",
    "print('Specificity : ', specificity1)\n",
    "\n",
    "\n",
    "from sklearn.metrics import roc_curve, auc\n",
    "from sklearn.metrics import plot_roc_curve\n",
    "\n",
    "plot_roc_curve(rf_22, X_test_1, y_test)\n",
    "plt.show()"
   ]
  }
 ],
 "metadata": {
  "kernelspec": {
   "display_name": "Python 3",
   "language": "python",
   "name": "python3"
  },
  "language_info": {
   "codemirror_mode": {
    "name": "ipython",
    "version": 3
   },
   "file_extension": ".py",
   "mimetype": "text/x-python",
   "name": "python",
   "nbconvert_exporter": "python",
   "pygments_lexer": "ipython3",
   "version": "3.7.4"
  }
 },
 "nbformat": 4,
 "nbformat_minor": 2
}
