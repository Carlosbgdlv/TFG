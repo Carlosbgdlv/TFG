{
 "cells": [
  {
   "cell_type": "code",
   "execution_count": 1,
   "metadata": {},
   "outputs": [],
   "source": [
    "import pandas as pd \n",
    "import seaborn as sns\n",
    "import matplotlib.pyplot as plt\n",
    "import pylab\n",
    "import scipy.stats as ss\n",
    "import csv\n",
    "import numpy as np\n",
    "import sklearn\n",
    "import glob\n",
    "from io import StringIO\n",
    "from sklearn.model_selection import train_test_split\n",
    "from sklearn import datasets\n",
    "from sklearn import svm\n",
    "from sklearn.neighbors import KNeighborsClassifier\n",
    "from sklearn.tree import DecisionTreeClassifier\n",
    "from sklearn.metrics import classification_report\n",
    "from sklearn.metrics import confusion_matrix\n",
    "from sklearn.model_selection import cross_val_score\n",
    "from sklearn.preprocessing import StandardScaler\n",
    "from sklearn.ensemble import RandomForestClassifier\n",
    "from collections import Counter\n",
    "\n",
    "from tfg_tools import *\n",
    "\n",
    "%load_ext autoreload\n",
    "%autoreload 2"
   ]
  },
  {
   "cell_type": "markdown",
   "metadata": {},
   "source": [
    "### Load data: this loads data in the form of a tensor:\n",
    "\n",
    "Pats x reviews x features\n",
    "\n"
   ]
  },
  {
   "cell_type": "code",
   "execution_count": 2,
   "metadata": {},
   "outputs": [],
   "source": [
    "X_train = np.load('Conjunto_train.npy')\n",
    "X_test = np.load('Conjunto_test.npy')\n",
    "y_train = np.load('Labels_train.npy')\n",
    "y_test = np.load('Labels_test.npy')"
   ]
  },
  {
   "cell_type": "code",
   "execution_count": 3,
   "metadata": {},
   "outputs": [
    {
     "name": "stdout",
     "output_type": "stream",
     "text": [
      "(1317,)\n",
      "(1317, 13, 22)\n",
      "(330,)\n",
      "(330, 13, 22)\n"
     ]
    }
   ],
   "source": [
    "#Matrices dimensions\n",
    "\n",
    "print(y_train.shape)\n",
    "print(X_train.shape)\n",
    "print(y_test.shape)\n",
    "print(X_test.shape)"
   ]
  },
  {
   "cell_type": "markdown",
   "metadata": {},
   "source": [
    "#### For over reviews\n",
    "\n",
    "* for over the reviews, for each review, we are going to extract the corresponding matrix. This is the main loop, in order to keep things clear, most of the code is going to be encapsulated in the pthon script.\n",
    "* We are going to use only the first 10 reviews"
   ]
  },
  {
   "cell_type": "code",
   "execution_count": 57,
   "metadata": {},
   "outputs": [],
   "source": [
    "## function train_rf_review_model\n",
    "## Note: after check that it works properly it is going to be encapsulated into the tfg_tools.py\n",
    "\n",
    "from imblearn.ensemble import BalancedRandomForestClassifier\n",
    "from sklearn.model_selection import GridSearchCV\n",
    "\n",
    "def train_rf_review_model(X_train, y_train, imputed_data,rev_i, prob_rev,X_train_previous = None,link_kind = 'prob'):\n",
    "    \"\"\"\n",
    "    X_train: matrix pat X features for the corresponding rev_i\n",
    "    y_train: labels\n",
    "    imputed_data: data to be use in the imputation\n",
    "    rev_i: number of review,\n",
    "    prob_rev: probabilities from previoues reviews to link each of the models\n",
    "    link_kind: string that indicates if the link between models is performed using probabilities or the difference of values\n",
    "    between previoues features values and current ones.\n",
    "                defautl: 'prob'\n",
    "                'local_derivative'\n",
    "\n",
    "    \"\"\"\n",
    "    \n",
    "    rf_rev = []\n",
    "    p_rev = []\n",
    "    #link models with probabilities\n",
    "    \n",
    "    if len(prob_rev[i]) == 0:\n",
    "        #first review, no link at all\n",
    "        x_train = X_train\n",
    "        print(\"Shape of X_train after link\",X_train.shape)\n",
    "    else:\n",
    "        if link_kind == 'prob':\n",
    "            #concatentate the probabilities from previous reviews\n",
    "            prb = np.asarray(prob_rev[1:i+1]).T\n",
    "            print(\"probability shape\",prb.shape)\n",
    "            X_train = np.concatenate((X_train, prb),axis = 1)\n",
    "            print(\"Shape of X_train after link\",X_train.shape)\n",
    "        elif link_kind == 'local_derivative':\n",
    "            \n",
    "            X_diff = X_train - X_train_previous\n",
    "            \n",
    "            X_train = np.concatenate((X_train,X_diff),axis = 1)\n",
    "            print(\"Shape of X_train after link\",X_train.shape)\n",
    "            \n",
    "        elif link_kind == 'concat':\n",
    "            X_train = np.concatenate((X_train,X_train_previous),axis = 1)\n",
    "            print(\"Shape of X_train after link\",X_train.shape)\n",
    "    #----------------------------------------------------------------------------------\n",
    "    #select hypterparameters. \n",
    "    #Note, since it is very very imbalanced dataset we are going to limit \n",
    "    #drastically the number of samples to be leaf and the same for split\n",
    "    \n",
    "    print(\"-----------------------------------------\")\n",
    "    print(\"Selecting hyperparameters review \",i)\n",
    "    \n",
    "    \"\"\"\n",
    "    rf_aux = BalancedRandomForestClassifier(n_estimators=50, criterion='gini',  \n",
    "                   bootstrap=True, oob_score=False, class_weight = 'balanced_subsample')\n",
    "    \n",
    "    #hyperparameters grid\n",
    "    # Number of features to consider at every split\n",
    "    max_features = ['auto', 'sqrt','log2']\n",
    "    # Minimum number of samples required to split a node\n",
    "    min_samples_split = [4, 5, 10]\n",
    "    # Minimum number of samples required at each leaf node\n",
    "    min_samples_leaf = [5,8,10,12,16,20,25]\n",
    "    # Create the random grid\n",
    "    grid_search = {'max_features': max_features,\n",
    "                   'min_samples_split': min_samples_split,\n",
    "                   'min_samples_leaf': min_samples_leaf}\n",
    "\n",
    "    \n",
    "    # Use the random grid to search for best hyperparameters\n",
    "    # Grid search of parameters, using 7 fold cross validation,\n",
    "\n",
    "    grid_random = GridSearchCV(rf_aux, grid_search, cv=7 , n_jobs = -1, verbose = 0)\n",
    "\n",
    "    grid_random.fit(X_train, y_train)\n",
    "    \n",
    "    \"\"\"\n",
    "    \n",
    "    #let's use to work faster, then for the final solution try best ones\n",
    "    max_features = 'sqrt'\n",
    "    min_samples_split = 10\n",
    "    min_samples_leaf = 16\n",
    "    #--------------------------------------------------------------------------------\n",
    "    \n",
    "    print(\"--------------------------------------------\")\n",
    "    print(\"Note this is going to take a while\")\n",
    "    print(\"Training the final model review \",i)\n",
    "    \n",
    "    rf_rev = BalancedRandomForestClassifier(n_estimators=500, criterion='entropy', max_features = max_features,\n",
    "                min_samples_leaf = min_samples_leaf, min_samples_split = min_samples_split,    \n",
    "                   bootstrap=True, oob_score=False, class_weight = 'balanced_subsample',n_jobs=-1,verbose =0)\n",
    "    \n",
    "    rf_rev.fit(X_train,y_train)\n",
    "    \n",
    "    print(\"--------------------------------------------\")\n",
    "    print(\"--------------------------------------------\")\n",
    "    \n",
    "    #--------------------------------------------------------------------------------\n",
    "    \n",
    "    #Estimating probabilities\n",
    "    p_rev = rf_rev.predict_proba(X_train)[:,1]\n",
    "    \n",
    "    return rf_rev, p_rev"
   ]
  },
  {
   "cell_type": "code",
   "execution_count": 59,
   "metadata": {
    "scrolled": false
   },
   "outputs": [
    {
     "name": "stdout",
     "output_type": "stream",
     "text": [
      "review 0\n",
      "review 1\n",
      "review 2\n",
      "review 3\n",
      "review 4\n",
      "review 5\n",
      "review 6\n",
      "review 7\n",
      "review 8\n",
      "review 9\n",
      "1\n",
      "Shape of X_train after link (1317, 20)\n",
      "-----------------------------------------\n",
      "Selecting hyperparameters review  0\n",
      "--------------------------------------------\n",
      "Note this is going to take a while\n",
      "Training the final model review  0\n",
      "--------------------------------------------\n",
      "--------------------------------------------\n",
      "2\n",
      "0.350715033630114\n",
      "Shape of X_train after link (1317, 40)\n",
      "-----------------------------------------\n",
      "Selecting hyperparameters review  1\n",
      "--------------------------------------------\n",
      "Note this is going to take a while\n",
      "Training the final model review  1\n",
      "--------------------------------------------\n",
      "--------------------------------------------\n",
      "3\n",
      "0.3395622275508602\n",
      "Shape of X_train after link (1317, 60)\n",
      "-----------------------------------------\n",
      "Selecting hyperparameters review  1\n",
      "--------------------------------------------\n",
      "Note this is going to take a while\n",
      "Training the final model review  1\n",
      "--------------------------------------------\n",
      "--------------------------------------------\n",
      "4\n",
      "0.346603963544263\n",
      "Shape of X_train after link (1317, 80)\n",
      "-----------------------------------------\n",
      "Selecting hyperparameters review  2\n",
      "--------------------------------------------\n",
      "Note this is going to take a while\n",
      "Training the final model review  2\n",
      "--------------------------------------------\n",
      "--------------------------------------------\n",
      "5\n",
      "0.3853526859259262\n",
      "Shape of X_train after link (1317, 100)\n",
      "-----------------------------------------\n",
      "Selecting hyperparameters review  3\n",
      "--------------------------------------------\n",
      "Note this is going to take a while\n",
      "Training the final model review  3\n",
      "--------------------------------------------\n",
      "--------------------------------------------\n",
      "6\n",
      "0.3805423825614468\n",
      "Shape of X_train after link (1317, 120)\n",
      "-----------------------------------------\n",
      "Selecting hyperparameters review  4\n",
      "--------------------------------------------\n",
      "Note this is going to take a while\n",
      "Training the final model review  4\n",
      "--------------------------------------------\n",
      "--------------------------------------------\n",
      "7\n",
      "0.41429168040517017\n",
      "Shape of X_train after link (1317, 140)\n",
      "-----------------------------------------\n",
      "Selecting hyperparameters review  5\n",
      "--------------------------------------------\n",
      "Note this is going to take a while\n",
      "Training the final model review  5\n",
      "--------------------------------------------\n",
      "--------------------------------------------\n",
      "8\n",
      "0.40940396793213557\n",
      "Shape of X_train after link (1317, 160)\n",
      "-----------------------------------------\n",
      "Selecting hyperparameters review  6\n",
      "--------------------------------------------\n",
      "Note this is going to take a while\n",
      "Training the final model review  6\n",
      "--------------------------------------------\n",
      "--------------------------------------------\n",
      "9\n",
      "0.40972581690870574\n",
      "Shape of X_train after link (1317, 180)\n",
      "-----------------------------------------\n",
      "Selecting hyperparameters review  7\n",
      "--------------------------------------------\n",
      "Note this is going to take a while\n",
      "Training the final model review  7\n",
      "--------------------------------------------\n",
      "--------------------------------------------\n",
      "10\n",
      "0.41288365925710563\n",
      "Shape of X_train after link (1317, 200)\n",
      "-----------------------------------------\n",
      "Selecting hyperparameters review  8\n",
      "--------------------------------------------\n",
      "Note this is going to take a while\n",
      "Training the final model review  8\n",
      "--------------------------------------------\n",
      "--------------------------------------------\n"
     ]
    }
   ],
   "source": [
    "#features_names\n",
    "feature_names = ['Age','Weight','Size','IMC','Creatinine','Cystatin','HDL','LDL','Triglyciredes','GOT','GPT','GGT','Albuminuria','Ferritin','HOMA','Insulin','Blood_Glucose','Glycated-HB','PCR','Vitamin-D','TAS','TAD','Date']\n",
    "\n",
    "# for over reviews\n",
    "\n",
    "num_reviews = 10\n",
    "\n",
    "rf_reviews_model = []\n",
    "prob_rev = [[]]\n",
    "\n",
    "\n",
    "#imputing data\n",
    "  #\n",
    "    \n",
    "#TODO:remove patients with a given number of NaN. In some advanced reviews the number of patients with differ than \n",
    "#NaNs decreases, then it would be needed to remove patients with more than a given number of NaNs \n",
    "\n",
    "#Implement this inside imputing_data\n",
    "\n",
    "#link_kind = 'local_derivative'\n",
    "link_kind = 'concat'\n",
    "\n",
    "X_train_imputed, imputed_data = imputing_data(X_train,num_reviews)\n",
    "\n",
    "#check\n",
    "\n",
    "X_train_imputed = X_train_imputed[:num_reviews]\n",
    "\n",
    "X_train_previous = None\n",
    "\n",
    "for i, X_rev in enumerate(X_train_imputed):\n",
    "    print(len(prob_rev))\n",
    "    if i>0:\n",
    "        print(prob_rev[i][0])\n",
    "        if link_kind == 'local_derivative':\n",
    "            X_train_previous = X_train_imputed[i-1]\n",
    "        elif link_kind == 'concat':\n",
    "            X_train_p = [a.to_numpy() for a in X_train_imputed[:i]]\n",
    "            X_train_previous = X_train_p[0]\n",
    "\n",
    "            for i in range(1,len(X_train_p)):\n",
    "                \n",
    "                X_train_previous = np.concatenate((X_train_previous,X_train_p[i]),axis = 1)\n",
    "                #print(X_train_previous.shape)\n",
    "    # train the model\n",
    "    \n",
    "    #print(X_rev)\n",
    "    rf_rev_model, p_rev = train_rf_review_model(X_rev, y_train, imputed_data,i,prob_rev,X_train_previous = X_train_previous, link_kind= link_kind)\n",
    "    \n",
    "    #append_models\n",
    "    rf_reviews_model.append(rf_rev_model)\n",
    "    prob_rev.append(p_rev)\n",
    "    \n",
    "    \n"
   ]
  },
  {
   "cell_type": "code",
   "execution_count": 55,
   "metadata": {},
   "outputs": [
    {
     "name": "stdout",
     "output_type": "stream",
     "text": [
      "(1317, 80)\n"
     ]
    }
   ],
   "source": [
    "X_train_previous = [a.to_numpy() for a in X_train_imputed[:5]\n",
    "\n",
    "X_train_p = X_train_previous[0]\n",
    "\n",
    "for i in range(1,len(X_train_previous)):\n",
    "    X_train_p = np.concatenate((X_train_p,X_train_previous[i]),axis = 1)\n",
    "    \n",
    "print(X_train_p.shape)"
   ]
  },
  {
   "cell_type": "code",
   "execution_count": 60,
   "metadata": {},
   "outputs": [
    {
     "data": {
      "text/plain": [
       "0"
      ]
     },
     "execution_count": 60,
     "metadata": {},
     "output_type": "execute_result"
    }
   ],
   "source": [
    "rf_reviews_model\n",
    "\n",
    "y_train[0]"
   ]
  },
  {
   "cell_type": "code",
   "execution_count": 61,
   "metadata": {},
   "outputs": [
    {
     "data": {
      "text/plain": [
       "['rf_reviews_model']"
      ]
     },
     "execution_count": 61,
     "metadata": {},
     "output_type": "execute_result"
    }
   ],
   "source": [
    "#Save models in to not train them every time\n",
    "from joblib import dump, load\n",
    "\n",
    "\n",
    "dump(rf_reviews_model,'rf_reviews_model')\n"
   ]
  },
  {
   "cell_type": "code",
   "execution_count": 62,
   "metadata": {},
   "outputs": [
    {
     "data": {
      "text/plain": [
       "[BalancedRandomForestClassifier(class_weight='balanced_subsample',\n",
       "                                criterion='entropy', max_features='sqrt',\n",
       "                                min_samples_leaf=16, min_samples_split=10,\n",
       "                                n_estimators=500, n_jobs=-1),\n",
       " BalancedRandomForestClassifier(class_weight='balanced_subsample',\n",
       "                                criterion='entropy', max_features='sqrt',\n",
       "                                min_samples_leaf=16, min_samples_split=10,\n",
       "                                n_estimators=500, n_jobs=-1),\n",
       " BalancedRandomForestClassifier(class_weight='balanced_subsample',\n",
       "                                criterion='entropy', max_features='sqrt',\n",
       "                                min_samples_leaf=16, min_samples_split=10,\n",
       "                                n_estimators=500, n_jobs=-1),\n",
       " BalancedRandomForestClassifier(class_weight='balanced_subsample',\n",
       "                                criterion='entropy', max_features='sqrt',\n",
       "                                min_samples_leaf=16, min_samples_split=10,\n",
       "                                n_estimators=500, n_jobs=-1),\n",
       " BalancedRandomForestClassifier(class_weight='balanced_subsample',\n",
       "                                criterion='entropy', max_features='sqrt',\n",
       "                                min_samples_leaf=16, min_samples_split=10,\n",
       "                                n_estimators=500, n_jobs=-1),\n",
       " BalancedRandomForestClassifier(class_weight='balanced_subsample',\n",
       "                                criterion='entropy', max_features='sqrt',\n",
       "                                min_samples_leaf=16, min_samples_split=10,\n",
       "                                n_estimators=500, n_jobs=-1),\n",
       " BalancedRandomForestClassifier(class_weight='balanced_subsample',\n",
       "                                criterion='entropy', max_features='sqrt',\n",
       "                                min_samples_leaf=16, min_samples_split=10,\n",
       "                                n_estimators=500, n_jobs=-1),\n",
       " BalancedRandomForestClassifier(class_weight='balanced_subsample',\n",
       "                                criterion='entropy', max_features='sqrt',\n",
       "                                min_samples_leaf=16, min_samples_split=10,\n",
       "                                n_estimators=500, n_jobs=-1),\n",
       " BalancedRandomForestClassifier(class_weight='balanced_subsample',\n",
       "                                criterion='entropy', max_features='sqrt',\n",
       "                                min_samples_leaf=16, min_samples_split=10,\n",
       "                                n_estimators=500, n_jobs=-1),\n",
       " BalancedRandomForestClassifier(class_weight='balanced_subsample',\n",
       "                                criterion='entropy', max_features='sqrt',\n",
       "                                min_samples_leaf=16, min_samples_split=10,\n",
       "                                n_estimators=500, n_jobs=-1)]"
      ]
     },
     "execution_count": 62,
     "metadata": {},
     "output_type": "execute_result"
    }
   ],
   "source": [
    "rf_reviews_model = load(\"rf_reviews_model\")\n",
    "\n",
    "rf_reviews_model"
   ]
  },
  {
   "cell_type": "markdown",
   "metadata": {},
   "source": [
    "### Results on test plot roc curves"
   ]
  },
  {
   "cell_type": "code",
   "execution_count": 70,
   "metadata": {},
   "outputs": [
    {
     "name": "stdout",
     "output_type": "stream",
     "text": [
      "review 0\n",
      "review 1\n",
      "review 2\n",
      "review 3\n",
      "review 4\n",
      "review 5\n",
      "review 6\n",
      "review 7\n",
      "review 8\n",
      "review 9\n"
     ]
    }
   ],
   "source": [
    "#impute test data\n",
    "\n",
    "X_test_revs = []\n",
    "for i in range(num_reviews):\n",
    "        print(\"review\",i)\n",
    "        X_test_rev = pd.DataFrame(X_test[:,1,:],columns = feature_names[:-1])\n",
    "        X_test_rev = X_test_rev.drop('Blood_Glucose',axis = 1)\n",
    "        X_test_rev = X_test_rev.drop('Glycated-HB',axis = 1)\n",
    "        \n",
    "        #impute\n",
    "        X_test_rev = X_test_rev.fillna(imputed_data[i])\n",
    "        \n",
    "        X_test_revs.append(X_test_rev)\n"
   ]
  },
  {
   "cell_type": "code",
   "execution_count": null,
   "metadata": {},
   "outputs": [],
   "source": []
  },
  {
   "cell_type": "code",
   "execution_count": 72,
   "metadata": {
    "scrolled": false
   },
   "outputs": [
    {
     "name": "stdout",
     "output_type": "stream",
     "text": [
      "0\n",
      "1\n",
      "2\n",
      "3\n",
      "4\n",
      "5\n",
      "6\n",
      "7\n",
      "8\n",
      "9\n"
     ]
    },
    {
     "data": {
      "image/png": "[encoded data removed]",
      "text/plain": [
       "<Figure size 720x576 with 1 Axes>"
      ]
     },
     "metadata": {
      "needs_background": "light"
     },
     "output_type": "display_data"
    }
   ],
   "source": [
    "#predict for each test review\n",
    "from sklearn.metrics import roc_curve, auc\n",
    "from sklearn.metrics import plot_roc_curve\n",
    "\n",
    "fig, ax = plt.subplots(figsize = (10,8))\n",
    "\n",
    "prob_test = []\n",
    "for i,X_test_rev in enumerate(X_test_revs[:num_reviews]):\n",
    "   # print(np.sum(np.isnan(X_test_rev)))\n",
    "    \n",
    "    print(i)\n",
    "    rf_rev_model = rf_reviews_model[i]\n",
    "    \n",
    "    if i == 0:\n",
    "        if link_kind == 'prob':\n",
    "            prob_test.append(rf_rev_model.predict_proba(X_test_rev)[:,1])\n",
    "        \n",
    "            #fpr[\"micro\"], tpr[\"micro\"], _ = roc_curve(y_test.ravel(), y_score.ravel())\n",
    "            plot_roc_curve(rf_rev_model, X_test_rev,y_test,ax= ax)\n",
    "            \n",
    "        elif link_kind == 'local_derivative':\n",
    "            plot_roc_curve(rf_rev_model, X_test_rev,y_test,ax= ax)\n",
    "        \n",
    "    else:\n",
    "        \n",
    "        if link_kind == 'prob':\n",
    "            #update the X_test with probabilites from previous review\n",
    "            print(np.asarray(prob_test).shape)\n",
    "            X_test_rev = np.concatenate((X_test_rev,np.asarray(prob_test).T),axis = 1)\n",
    "        \n",
    "            #update prob_test\n",
    "            prob_test.append(rf_rev_model.predict_proba(X_test_rev)[:,1])\n",
    "            plot_roc_curve(rf_rev_model, X_test_rev,y_test,ax = ax)\n",
    "            \n",
    "        elif link_kind == 'local_derivative':\n",
    "            X_diff = X_test_rev - X_test_revs[i-1]\n",
    "            \n",
    "            X_testt = np.concatenate((X_test_rev,X_diff),axis = 1)\n",
    "            \n",
    "            plot_roc_curve(rf_rev_model, X_testt,y_test,ax = ax)\n",
    "            #print(\"Shape of X_train after link\",X_train.shape)\n",
    "        elif link_kind == 'concat':\n",
    "        \n",
    "            X_test_p = [a.to_numpy() for a in X_test_revs[:i+1]]\n",
    "            X_test_previous = X_test_p[0]\n",
    "\n",
    "            for b in range(1,len(X_test_p)):\n",
    "                \n",
    "                X_test_previous = np.concatenate((X_test_previous,X_test_p[b]),axis = 1)\n",
    "\n",
    "            plot_roc_curve(rf_rev_model, X_test_previous,y_test,ax = ax)\n",
    "    "
   ]
  },
  {
   "cell_type": "code",
   "execution_count": null,
   "metadata": {},
   "outputs": [],
   "source": []
  },
  {
   "cell_type": "code",
   "execution_count": null,
   "metadata": {},
   "outputs": [],
   "source": []
  }
 ],
 "metadata": {
  "kernelspec": {
   "display_name": "Python 3",
   "language": "python",
   "name": "python3"
  },
  "language_info": {
   "codemirror_mode": {
    "name": "ipython",
    "version": 3
   },
   "file_extension": ".py",
   "mimetype": "text/x-python",
   "name": "python",
   "nbconvert_exporter": "python",
   "pygments_lexer": "ipython3",
   "version": "3.7.4"
  }
 },
 "nbformat": 4,
 "nbformat_minor": 4
}
