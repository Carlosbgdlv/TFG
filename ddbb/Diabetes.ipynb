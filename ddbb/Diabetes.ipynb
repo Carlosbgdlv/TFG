{
 "cells": [
  {
   "cell_type": "code",
   "execution_count": 1,
   "metadata": {},
   "outputs": [],
   "source": [
    "import pandas as pd \n",
    "import seaborn as sns\n",
    "import matplotlib.pyplot as plt\n",
    "import pylab\n",
    "import scipy.stats as ss\n",
    "import csv\n",
    "import numpy as np\n",
    "import sklearn\n",
    "import glob\n",
    "from io import StringIO\n",
    "from sklearn.model_selection import train_test_split\n",
    "from sklearn import datasets\n",
    "from sklearn import svm\n",
    "from sklearn.neighbors import KNeighborsClassifier\n",
    "from sklearn.tree import DecisionTreeClassifier\n",
    "from sklearn.metrics import classification_report\n",
    "from sklearn.metrics import confusion_matrix\n",
    "from sklearn.model_selection import cross_val_score\n",
    "from sklearn.preprocessing import StandardScaler"
   ]
  },
  {
   "cell_type": "markdown",
   "metadata": {},
   "source": [
    "### CONVERTIR PACIENTES (los 1794 csv de la carpeta pacientes) A UNA LISTA Y LA LISTA A CSV"
   ]
  },
  {
   "cell_type": "code",
   "execution_count": 4,
   "metadata": {},
   "outputs": [],
   "source": [
    "import os\n",
    "#contenido = os.listdir('C:/Users/ywen2/Desktop/URJC/TFG/TFG_Progresion_Diabetes/GitHub/TFG/ddbb/pacientes')\n",
    "\n",
    "contenido = os.listdir('./pacientes')"
   ]
  },
  {
   "cell_type": "code",
   "execution_count": 5,
   "metadata": {},
   "outputs": [],
   "source": [
    "# Primero especificamos un patrón del archivo y lo pasamos como parámetro en la función glob\n",
    "# Se que es redundante crear dos listas, pero es la única forma de trabajar con PANDAS, debo revisarlo!!!!!!!!!!!\n",
    "lista_id_indep =  [item.replace(\".csv\", \"\") for item in contenido]\n",
    "# Mostrar el archivo csv_files, el cual es una lista de nombres\n",
    "#print(lista_id_indep)\n",
    "pacientes_independientes = pd.DataFrame(lista_id_indep, columns=[\"Pacientes\"])\n",
    "pacientes_independientes.to_csv('pacientes_indep.csv', index=False)\n",
    "df_independientes = pd.read_csv('pacientes_indep.csv').fillna(0)\n",
    "pacientes_independientes = df_independientes.iloc[:,0]\n",
    "pacientes_independientes = list(pacientes_independientes)"
   ]
  },
  {
   "cell_type": "markdown",
   "metadata": {},
   "source": [
    "### CREO UNA LISTA A PARTIR DEL CSV PACIENTES PROGRESORES"
   ]
  },
  {
   "cell_type": "code",
   "execution_count": 6,
   "metadata": {},
   "outputs": [],
   "source": [
    "with open('pacientes_progresores.csv', 'r') as archivo:\n",
    "    leer = csv.reader(archivo)\n",
    "    lista = list(leer)\n",
    "    lista.pop(0)\n",
    "    #print(lista)"
   ]
  },
  {
   "cell_type": "code",
   "execution_count": 7,
   "metadata": {},
   "outputs": [
    {
     "name": "stdout",
     "output_type": "stream",
     "text": [
      "     Historia Progresion\n",
      "0      100220          1\n",
      "1      100257          0\n",
      "2       10045          0\n",
      "3      100505          0\n",
      "4      100598          0\n",
      "...       ...        ...\n",
      "1642    99582          0\n",
      "1643     9970          0\n",
      "1644    99828          1\n",
      "1645    99835          0\n",
      "1646     9985          0\n",
      "\n",
      "[1647 rows x 2 columns]\n"
     ]
    }
   ],
   "source": [
    "df = pd.DataFrame (lista,columns=['Historia','Progresion'])\n",
    "print (df)"
   ]
  },
  {
   "cell_type": "code",
   "execution_count": 8,
   "metadata": {},
   "outputs": [],
   "source": [
    "df_progresores = pd.read_csv('pacientes_progresores.csv').fillna(0)\n",
    "pacientes_progresores = df_progresores.iloc[:,0]\n",
    "#print(pacientes_progresores)\n",
    "pacientes_progresores = list(pacientes_progresores)\n",
    "#print(pacientes_progresores)"
   ]
  },
  {
   "cell_type": "markdown",
   "metadata": {},
   "source": [
    "### COMPARO AMBAS LISTAS Y ELIMINO PACIENTES NO COINCIDENTES Y CREO EL CSV CON AQUELLOS PACIENTES QUE COINCIDEN EN AMBAS LISTAS"
   ]
  },
  {
   "cell_type": "code",
   "execution_count": 9,
   "metadata": {},
   "outputs": [],
   "source": [
    "comparacion = []\n",
    " \n",
    "for item in pacientes_independientes:\n",
    "    if item in pacientes_progresores:\n",
    "        comparacion.append(item)"
   ]
  },
  {
   "cell_type": "code",
   "execution_count": 10,
   "metadata": {},
   "outputs": [
    {
     "name": "stdout",
     "output_type": "stream",
     "text": [
      "      Historia\n",
      "0       139201\n",
      "1       373199\n",
      "2       296856\n",
      "3       173427\n",
      "4         3942\n",
      "...        ...\n",
      "1642     42439\n",
      "1643    128011\n",
      "1644     69198\n",
      "1645     50927\n",
      "1646    213635\n",
      "\n",
      "[1647 rows x 1 columns]\n"
     ]
    }
   ],
   "source": [
    "df_procesados = pd.DataFrame(comparacion, columns=[\"Historia\"])\n",
    "print(df_procesados)\n",
    "df_procesados.to_csv('pacientes_procesados.csv', index=False)"
   ]
  },
  {
   "cell_type": "markdown",
   "metadata": {},
   "source": [
    "## AHORA QUIERO COMPARAR EL CSV PACIENTES PROGRESORES CON PACIENTES PROCESADOS Y EN AQUELLOS PACIENTES QUE COINCIDAN AÑADIR AL CSV  PACIENTES PROCESADOS LA ETIQUETA 1 o 0 QUE ACOMPAÑA A CADA NUMERO DE HISTORIA EN EL CSV PACIENTES PROGRESORES . NO SE HACERLO :("
   ]
  },
  {
   "cell_type": "code",
   "execution_count": 11,
   "metadata": {
    "scrolled": false
   },
   "outputs": [],
   "source": [
    "file1 = df['Historia'].astype(int)"
   ]
  },
  {
   "cell_type": "code",
   "execution_count": 12,
   "metadata": {},
   "outputs": [],
   "source": [
    "file2 = df_procesados['Historia'].astype(int)"
   ]
  },
  {
   "cell_type": "code",
   "execution_count": 13,
   "metadata": {},
   "outputs": [
    {
     "name": "stdout",
     "output_type": "stream",
     "text": [
      "      Historia union\n",
      "0       100220  both\n",
      "1       100257  both\n",
      "2        10045  both\n",
      "3       100505  both\n",
      "4       100598  both\n",
      "...        ...   ...\n",
      "1642     99582  both\n",
      "1643      9970  both\n",
      "1644     99828  both\n",
      "1645     99835  both\n",
      "1646      9985  both\n",
      "\n",
      "[1647 rows x 2 columns]\n",
      "0\n"
     ]
    }
   ],
   "source": [
    "mergedStuff = pd.merge(file1, file2, how='inner', indicator = 'union')\n",
    "print(mergedStuff)\n",
    "\n",
    "contador = 0\n",
    "for i in mergedStuff['union']:\n",
    "    if i != 'both':\n",
    "        contador += 1\n",
    "        \n",
    "print(contador)"
   ]
  },
  {
   "cell_type": "markdown",
   "metadata": {},
   "source": [
    "#### EN EL FICHERO PACIENTES_PROGRESORES TENEMOS TODOS LOS PACIENTES A ESTUDIAR"
   ]
  },
  {
   "cell_type": "markdown",
   "metadata": {},
   "source": [
    "## ESCRITO POR OSCAR"
   ]
  },
  {
   "cell_type": "markdown",
   "metadata": {},
   "source": [
    "1. Lista de csv de los nombres de ficheros HECHO\n",
    "1. Ver coincidencias de lista con progresión y lista de ficheros HECHO\n",
    "1. Generar un dataframe con n_historia y con variable targer (progresion) NOS SIRVE PACIENTES_PROCESADOS\n",
    "\n",
    "df['id'] #columna de identificación\n",
    "df['progresion_diab'] = #target\n",
    "\n",
    "df lista de pacientes que tenemos la variable y y tenemos datos.\n",
    "\n",
    "1. Si estamos con la solución ajustar regresión polinómica\n",
    "\n",
    " 1.pinta 5 pacientes progresores y cinco no progresores\n",
    "\n",
    "pat_id = 5050\n",
    "\n",
    "Plots de variables vs revisiones\n",
    "\n",
    "\n",
    "X_prog = list de matrices(mxn) filas= revisiones, columnas= variables, \n",
    "\n",
    "\n",
    "\n",
    "X_no_prog\n"
   ]
  },
  {
   "cell_type": "code",
   "execution_count": 14,
   "metadata": {},
   "outputs": [],
   "source": [
    "def get_pat(idd,path='C:/Users/ywen2/Desktop/URJC/TFG/TFG_Progresion_Diabetes/GitHub/TFG/ddbb/pacientes/'):\n",
    "    \n",
    "    file = df.values.tolist()\n",
    "    paciente = pd.read_csv(path + idd+'.csv')\n",
    "    for i in file:\n",
    "        if i[0] == idd:\n",
    "            print('El paciente presenta la siguiente etiqueta:', i[1])\n",
    "    return(paciente)\n",
    "    \n",
    "    #lee fichero de ese id\n",
    "    "
   ]
  },
  {
   "cell_type": "code",
   "execution_count": 15,
   "metadata": {},
   "outputs": [
    {
     "data": {
      "text/plain": [
       "\"def get_pat(idd,path='C:/Users/ywen2/Desktop/URJC/TFG/TFG_Progresion_Diabetes/GitHub/TFG/ddbb/pacientes/'):\\n    \\n    file = df.values.tolist()\\n    paciente = pd.read_csv(path + idd+'.csv')\\n    for i in df.index: \\n        if df['Progresion'][i] == '1':\\n            print('El paciente:', df['Historia'][i], 'presenta la siguiente etiqueta:', df['Progresion'][i])\\n    return(paciente)\""
      ]
     },
     "execution_count": 15,
     "metadata": {},
     "output_type": "execute_result"
    }
   ],
   "source": [
    "'''def get_pat(idd,path='C:/Users/ywen2/Desktop/URJC/TFG/TFG_Progresion_Diabetes/GitHub/TFG/ddbb/pacientes/'):\n",
    "    \n",
    "    file = df.values.tolist()\n",
    "    paciente = pd.read_csv(path + idd+'.csv')\n",
    "    for i in df.index: \n",
    "        if df['Progresion'][i] == '1':\n",
    "            print('El paciente:', df['Historia'][i], 'presenta la siguiente etiqueta:', df['Progresion'][i])\n",
    "    return(paciente)'''"
   ]
  },
  {
   "cell_type": "code",
   "execution_count": 16,
   "metadata": {},
   "outputs": [
    {
     "name": "stdout",
     "output_type": "stream",
     "text": [
      "100220\n",
      "103000\n",
      "106831\n",
      "111892\n",
      "114131\n",
      "119174\n",
      "123327\n",
      "124769\n",
      "134531\n",
      "135545\n",
      "13563\n",
      "13885\n",
      "141744\n",
      "144086\n",
      "145434\n",
      "15015\n",
      "153504\n",
      "153594\n",
      "158485\n",
      "160242\n",
      "161560\n",
      "163449\n",
      "165050\n",
      "165114\n",
      "168167\n",
      "169536\n",
      "170401\n",
      "171534\n",
      "171985\n",
      "173272\n",
      "17366\n",
      "174093\n",
      "181652\n",
      "19093\n",
      "192620\n",
      "1965\n",
      "205374\n",
      "207739\n",
      "211602\n",
      "212061\n",
      "214596\n",
      "216975\n",
      "217578\n",
      "218361\n",
      "219203\n",
      "22011\n",
      "220637\n",
      "223155\n",
      "223758\n",
      "224674\n",
      "224733\n",
      "227599\n",
      "228642\n",
      "232385\n",
      "236307\n",
      "236819\n",
      "237477\n",
      "241258\n",
      "243242\n",
      "243978\n",
      "249084\n",
      "249238\n",
      "249512\n",
      "253385\n",
      "256244\n",
      "256648\n",
      "261748\n",
      "262296\n",
      "264167\n",
      "264617\n",
      "268560\n",
      "272641\n",
      "275881\n",
      "275994\n",
      "277820\n",
      "282973\n",
      "286191\n",
      "290770\n",
      "292128\n",
      "295200\n",
      "296856\n",
      "309135\n",
      "311879\n",
      "31458\n",
      "314965\n",
      "322352\n",
      "325427\n",
      "325938\n",
      "32708\n",
      "330419\n",
      "331834\n",
      "338722\n",
      "354257\n",
      "356765\n",
      "359622\n",
      "366329\n",
      "368245\n",
      "376926\n",
      "390142\n",
      "391387\n",
      "395377\n",
      "39576\n",
      "40577\n",
      "41986\n",
      "422480\n",
      "43358\n",
      "43693\n",
      "44103\n",
      "451027\n",
      "459655\n",
      "460253\n",
      "46659\n",
      "468603\n",
      "48863\n",
      "50507\n",
      "58046\n",
      "59549\n",
      "6434\n",
      "68282\n",
      "69314\n",
      "69789\n",
      "70759\n",
      "8407\n",
      "86526\n",
      "86765\n",
      "8683\n",
      "87996\n",
      "97408\n",
      "98551\n",
      "99099\n",
      "99397\n",
      "99828\n"
     ]
    }
   ],
   "source": [
    "for i in df.index:\n",
    "    if df['Progresion'][i] == '1':\n",
    "        print (df['Historia'][i])"
   ]
  },
  {
   "cell_type": "code",
   "execution_count": 17,
   "metadata": {},
   "outputs": [
    {
     "ename": "FileNotFoundError",
     "evalue": "[Errno 2] No such file or directory: 'C:/Users/ywen2/Desktop/URJC/TFG/TFG_Progresion_Diabetes/GitHub/TFG/ddbb/pacientes/100220.csv'",
     "output_type": "error",
     "traceback": [
      "\u001b[0;31m---------------------------------------------------------------------------\u001b[0m",
      "\u001b[0;31mFileNotFoundError\u001b[0m                         Traceback (most recent call last)",
      "\u001b[0;32m<ipython-input-17-f8e82df38a74>\u001b[0m in \u001b[0;36m<module>\u001b[0;34m\u001b[0m\n\u001b[0;32m----> 1\u001b[0;31m \u001b[0mpaciente\u001b[0m \u001b[0;34m=\u001b[0m \u001b[0mget_pat\u001b[0m\u001b[0;34m(\u001b[0m\u001b[0;34m'100220'\u001b[0m\u001b[0;34m)\u001b[0m\u001b[0;34m\u001b[0m\u001b[0;34m\u001b[0m\u001b[0m\n\u001b[0m\u001b[1;32m      2\u001b[0m \u001b[0mpaciente1\u001b[0m \u001b[0;34m=\u001b[0m \u001b[0mget_pat\u001b[0m\u001b[0;34m(\u001b[0m\u001b[0;34m'15015'\u001b[0m\u001b[0;34m)\u001b[0m\u001b[0;34m\u001b[0m\u001b[0;34m\u001b[0m\u001b[0m\n\u001b[1;32m      3\u001b[0m \u001b[0mpaciente2\u001b[0m \u001b[0;34m=\u001b[0m \u001b[0mget_pat\u001b[0m\u001b[0;34m(\u001b[0m\u001b[0;34m'13563'\u001b[0m\u001b[0;34m)\u001b[0m\u001b[0;34m\u001b[0m\u001b[0;34m\u001b[0m\u001b[0m\n\u001b[1;32m      4\u001b[0m \u001b[0mpaciente3\u001b[0m \u001b[0;34m=\u001b[0m \u001b[0mget_pat\u001b[0m\u001b[0;34m(\u001b[0m\u001b[0;34m'153504'\u001b[0m\u001b[0;34m)\u001b[0m\u001b[0;34m\u001b[0m\u001b[0;34m\u001b[0m\u001b[0m\n\u001b[1;32m      5\u001b[0m \u001b[0mpaciente4\u001b[0m \u001b[0;34m=\u001b[0m \u001b[0mget_pat\u001b[0m\u001b[0;34m(\u001b[0m\u001b[0;34m'224674'\u001b[0m\u001b[0;34m)\u001b[0m\u001b[0;34m\u001b[0m\u001b[0;34m\u001b[0m\u001b[0m\n",
      "\u001b[0;32m<ipython-input-14-b30ae4545d1a>\u001b[0m in \u001b[0;36mget_pat\u001b[0;34m(idd, path)\u001b[0m\n\u001b[1;32m      2\u001b[0m \u001b[0;34m\u001b[0m\u001b[0m\n\u001b[1;32m      3\u001b[0m     \u001b[0mfile\u001b[0m \u001b[0;34m=\u001b[0m \u001b[0mdf\u001b[0m\u001b[0;34m.\u001b[0m\u001b[0mvalues\u001b[0m\u001b[0;34m.\u001b[0m\u001b[0mtolist\u001b[0m\u001b[0;34m(\u001b[0m\u001b[0;34m)\u001b[0m\u001b[0;34m\u001b[0m\u001b[0;34m\u001b[0m\u001b[0m\n\u001b[0;32m----> 4\u001b[0;31m     \u001b[0mpaciente\u001b[0m \u001b[0;34m=\u001b[0m \u001b[0mpd\u001b[0m\u001b[0;34m.\u001b[0m\u001b[0mread_csv\u001b[0m\u001b[0;34m(\u001b[0m\u001b[0mpath\u001b[0m \u001b[0;34m+\u001b[0m \u001b[0midd\u001b[0m\u001b[0;34m+\u001b[0m\u001b[0;34m'.csv'\u001b[0m\u001b[0;34m)\u001b[0m\u001b[0;34m\u001b[0m\u001b[0;34m\u001b[0m\u001b[0m\n\u001b[0m\u001b[1;32m      5\u001b[0m     \u001b[0;32mfor\u001b[0m \u001b[0mi\u001b[0m \u001b[0;32min\u001b[0m \u001b[0mfile\u001b[0m\u001b[0;34m:\u001b[0m\u001b[0;34m\u001b[0m\u001b[0;34m\u001b[0m\u001b[0m\n\u001b[1;32m      6\u001b[0m         \u001b[0;32mif\u001b[0m \u001b[0mi\u001b[0m\u001b[0;34m[\u001b[0m\u001b[0;36m0\u001b[0m\u001b[0;34m]\u001b[0m \u001b[0;34m==\u001b[0m \u001b[0midd\u001b[0m\u001b[0;34m:\u001b[0m\u001b[0;34m\u001b[0m\u001b[0;34m\u001b[0m\u001b[0m\n",
      "\u001b[0;32m~/anaconda3/lib/python3.8/site-packages/pandas/io/parsers.py\u001b[0m in \u001b[0;36mread_csv\u001b[0;34m(filepath_or_buffer, sep, delimiter, header, names, index_col, usecols, squeeze, prefix, mangle_dupe_cols, dtype, engine, converters, true_values, false_values, skipinitialspace, skiprows, skipfooter, nrows, na_values, keep_default_na, na_filter, verbose, skip_blank_lines, parse_dates, infer_datetime_format, keep_date_col, date_parser, dayfirst, cache_dates, iterator, chunksize, compression, thousands, decimal, lineterminator, quotechar, quoting, doublequote, escapechar, comment, encoding, dialect, error_bad_lines, warn_bad_lines, delim_whitespace, low_memory, memory_map, float_precision)\u001b[0m\n\u001b[1;32m    684\u001b[0m     )\n\u001b[1;32m    685\u001b[0m \u001b[0;34m\u001b[0m\u001b[0m\n\u001b[0;32m--> 686\u001b[0;31m     \u001b[0;32mreturn\u001b[0m \u001b[0m_read\u001b[0m\u001b[0;34m(\u001b[0m\u001b[0mfilepath_or_buffer\u001b[0m\u001b[0;34m,\u001b[0m \u001b[0mkwds\u001b[0m\u001b[0;34m)\u001b[0m\u001b[0;34m\u001b[0m\u001b[0;34m\u001b[0m\u001b[0m\n\u001b[0m\u001b[1;32m    687\u001b[0m \u001b[0;34m\u001b[0m\u001b[0m\n\u001b[1;32m    688\u001b[0m \u001b[0;34m\u001b[0m\u001b[0m\n",
      "\u001b[0;32m~/anaconda3/lib/python3.8/site-packages/pandas/io/parsers.py\u001b[0m in \u001b[0;36m_read\u001b[0;34m(filepath_or_buffer, kwds)\u001b[0m\n\u001b[1;32m    450\u001b[0m \u001b[0;34m\u001b[0m\u001b[0m\n\u001b[1;32m    451\u001b[0m     \u001b[0;31m# Create the parser.\u001b[0m\u001b[0;34m\u001b[0m\u001b[0;34m\u001b[0m\u001b[0;34m\u001b[0m\u001b[0m\n\u001b[0;32m--> 452\u001b[0;31m     \u001b[0mparser\u001b[0m \u001b[0;34m=\u001b[0m \u001b[0mTextFileReader\u001b[0m\u001b[0;34m(\u001b[0m\u001b[0mfp_or_buf\u001b[0m\u001b[0;34m,\u001b[0m \u001b[0;34m**\u001b[0m\u001b[0mkwds\u001b[0m\u001b[0;34m)\u001b[0m\u001b[0;34m\u001b[0m\u001b[0;34m\u001b[0m\u001b[0m\n\u001b[0m\u001b[1;32m    453\u001b[0m \u001b[0;34m\u001b[0m\u001b[0m\n\u001b[1;32m    454\u001b[0m     \u001b[0;32mif\u001b[0m \u001b[0mchunksize\u001b[0m \u001b[0;32mor\u001b[0m \u001b[0miterator\u001b[0m\u001b[0;34m:\u001b[0m\u001b[0;34m\u001b[0m\u001b[0;34m\u001b[0m\u001b[0m\n",
      "\u001b[0;32m~/anaconda3/lib/python3.8/site-packages/pandas/io/parsers.py\u001b[0m in \u001b[0;36m__init__\u001b[0;34m(self, f, engine, **kwds)\u001b[0m\n\u001b[1;32m    944\u001b[0m             \u001b[0mself\u001b[0m\u001b[0;34m.\u001b[0m\u001b[0moptions\u001b[0m\u001b[0;34m[\u001b[0m\u001b[0;34m\"has_index_names\"\u001b[0m\u001b[0;34m]\u001b[0m \u001b[0;34m=\u001b[0m \u001b[0mkwds\u001b[0m\u001b[0;34m[\u001b[0m\u001b[0;34m\"has_index_names\"\u001b[0m\u001b[0;34m]\u001b[0m\u001b[0;34m\u001b[0m\u001b[0;34m\u001b[0m\u001b[0m\n\u001b[1;32m    945\u001b[0m \u001b[0;34m\u001b[0m\u001b[0m\n\u001b[0;32m--> 946\u001b[0;31m         \u001b[0mself\u001b[0m\u001b[0;34m.\u001b[0m\u001b[0m_make_engine\u001b[0m\u001b[0;34m(\u001b[0m\u001b[0mself\u001b[0m\u001b[0;34m.\u001b[0m\u001b[0mengine\u001b[0m\u001b[0;34m)\u001b[0m\u001b[0;34m\u001b[0m\u001b[0;34m\u001b[0m\u001b[0m\n\u001b[0m\u001b[1;32m    947\u001b[0m \u001b[0;34m\u001b[0m\u001b[0m\n\u001b[1;32m    948\u001b[0m     \u001b[0;32mdef\u001b[0m \u001b[0mclose\u001b[0m\u001b[0;34m(\u001b[0m\u001b[0mself\u001b[0m\u001b[0;34m)\u001b[0m\u001b[0;34m:\u001b[0m\u001b[0;34m\u001b[0m\u001b[0;34m\u001b[0m\u001b[0m\n",
      "\u001b[0;32m~/anaconda3/lib/python3.8/site-packages/pandas/io/parsers.py\u001b[0m in \u001b[0;36m_make_engine\u001b[0;34m(self, engine)\u001b[0m\n\u001b[1;32m   1176\u001b[0m     \u001b[0;32mdef\u001b[0m \u001b[0m_make_engine\u001b[0m\u001b[0;34m(\u001b[0m\u001b[0mself\u001b[0m\u001b[0;34m,\u001b[0m \u001b[0mengine\u001b[0m\u001b[0;34m=\u001b[0m\u001b[0;34m\"c\"\u001b[0m\u001b[0;34m)\u001b[0m\u001b[0;34m:\u001b[0m\u001b[0;34m\u001b[0m\u001b[0;34m\u001b[0m\u001b[0m\n\u001b[1;32m   1177\u001b[0m         \u001b[0;32mif\u001b[0m \u001b[0mengine\u001b[0m \u001b[0;34m==\u001b[0m \u001b[0;34m\"c\"\u001b[0m\u001b[0;34m:\u001b[0m\u001b[0;34m\u001b[0m\u001b[0;34m\u001b[0m\u001b[0m\n\u001b[0;32m-> 1178\u001b[0;31m             \u001b[0mself\u001b[0m\u001b[0;34m.\u001b[0m\u001b[0m_engine\u001b[0m \u001b[0;34m=\u001b[0m \u001b[0mCParserWrapper\u001b[0m\u001b[0;34m(\u001b[0m\u001b[0mself\u001b[0m\u001b[0;34m.\u001b[0m\u001b[0mf\u001b[0m\u001b[0;34m,\u001b[0m \u001b[0;34m**\u001b[0m\u001b[0mself\u001b[0m\u001b[0;34m.\u001b[0m\u001b[0moptions\u001b[0m\u001b[0;34m)\u001b[0m\u001b[0;34m\u001b[0m\u001b[0;34m\u001b[0m\u001b[0m\n\u001b[0m\u001b[1;32m   1179\u001b[0m         \u001b[0;32melse\u001b[0m\u001b[0;34m:\u001b[0m\u001b[0;34m\u001b[0m\u001b[0;34m\u001b[0m\u001b[0m\n\u001b[1;32m   1180\u001b[0m             \u001b[0;32mif\u001b[0m \u001b[0mengine\u001b[0m \u001b[0;34m==\u001b[0m \u001b[0;34m\"python\"\u001b[0m\u001b[0;34m:\u001b[0m\u001b[0;34m\u001b[0m\u001b[0;34m\u001b[0m\u001b[0m\n",
      "\u001b[0;32m~/anaconda3/lib/python3.8/site-packages/pandas/io/parsers.py\u001b[0m in \u001b[0;36m__init__\u001b[0;34m(self, src, **kwds)\u001b[0m\n\u001b[1;32m   2006\u001b[0m         \u001b[0mkwds\u001b[0m\u001b[0;34m[\u001b[0m\u001b[0;34m\"usecols\"\u001b[0m\u001b[0;34m]\u001b[0m \u001b[0;34m=\u001b[0m \u001b[0mself\u001b[0m\u001b[0;34m.\u001b[0m\u001b[0musecols\u001b[0m\u001b[0;34m\u001b[0m\u001b[0;34m\u001b[0m\u001b[0m\n\u001b[1;32m   2007\u001b[0m \u001b[0;34m\u001b[0m\u001b[0m\n\u001b[0;32m-> 2008\u001b[0;31m         \u001b[0mself\u001b[0m\u001b[0;34m.\u001b[0m\u001b[0m_reader\u001b[0m \u001b[0;34m=\u001b[0m \u001b[0mparsers\u001b[0m\u001b[0;34m.\u001b[0m\u001b[0mTextReader\u001b[0m\u001b[0;34m(\u001b[0m\u001b[0msrc\u001b[0m\u001b[0;34m,\u001b[0m \u001b[0;34m**\u001b[0m\u001b[0mkwds\u001b[0m\u001b[0;34m)\u001b[0m\u001b[0;34m\u001b[0m\u001b[0;34m\u001b[0m\u001b[0m\n\u001b[0m\u001b[1;32m   2009\u001b[0m         \u001b[0mself\u001b[0m\u001b[0;34m.\u001b[0m\u001b[0munnamed_cols\u001b[0m \u001b[0;34m=\u001b[0m \u001b[0mself\u001b[0m\u001b[0;34m.\u001b[0m\u001b[0m_reader\u001b[0m\u001b[0;34m.\u001b[0m\u001b[0munnamed_cols\u001b[0m\u001b[0;34m\u001b[0m\u001b[0;34m\u001b[0m\u001b[0m\n\u001b[1;32m   2010\u001b[0m \u001b[0;34m\u001b[0m\u001b[0m\n",
      "\u001b[0;32mpandas/_libs/parsers.pyx\u001b[0m in \u001b[0;36mpandas._libs.parsers.TextReader.__cinit__\u001b[0;34m()\u001b[0m\n",
      "\u001b[0;32mpandas/_libs/parsers.pyx\u001b[0m in \u001b[0;36mpandas._libs.parsers.TextReader._setup_parser_source\u001b[0;34m()\u001b[0m\n",
      "\u001b[0;31mFileNotFoundError\u001b[0m: [Errno 2] No such file or directory: 'C:/Users/ywen2/Desktop/URJC/TFG/TFG_Progresion_Diabetes/GitHub/TFG/ddbb/pacientes/100220.csv'"
     ]
    }
   ],
   "source": [
    "paciente = get_pat('100220')\n",
    "paciente1 = get_pat('15015')\n",
    "paciente2 = get_pat('13563')\n",
    "paciente3 = get_pat('153504')\n",
    "paciente4 = get_pat('224674')\n",
    "paciente5 = get_pat('9985')\n",
    "paciente6 = get_pat('5526')\n",
    "paciente7 = get_pat('7658')\n",
    "paciente8 = get_pat('12170')\n",
    "paciente9 = get_pat('390511')"
   ]
  },
  {
   "cell_type": "code",
   "execution_count": 18,
   "metadata": {},
   "outputs": [
    {
     "ename": "NameError",
     "evalue": "name 'paciente' is not defined",
     "output_type": "error",
     "traceback": [
      "\u001b[0;31m---------------------------------------------------------------------------\u001b[0m",
      "\u001b[0;31mNameError\u001b[0m                                 Traceback (most recent call last)",
      "\u001b[0;32m<ipython-input-18-0f89d6ef3215>\u001b[0m in \u001b[0;36m<module>\u001b[0;34m\u001b[0m\n\u001b[0;32m----> 1\u001b[0;31m \u001b[0mX\u001b[0m \u001b[0;34m=\u001b[0m \u001b[0mnp\u001b[0m\u001b[0;34m.\u001b[0m\u001b[0mmatrix\u001b[0m\u001b[0;34m(\u001b[0m\u001b[0mpaciente\u001b[0m\u001b[0;34m)\u001b[0m\u001b[0;34m\u001b[0m\u001b[0;34m\u001b[0m\u001b[0m\n\u001b[0m\u001b[1;32m      2\u001b[0m \u001b[0mX1\u001b[0m \u001b[0;34m=\u001b[0m \u001b[0mnp\u001b[0m\u001b[0;34m.\u001b[0m\u001b[0mmatrix\u001b[0m\u001b[0;34m(\u001b[0m\u001b[0mpaciente1\u001b[0m\u001b[0;34m)\u001b[0m\u001b[0;34m\u001b[0m\u001b[0;34m\u001b[0m\u001b[0m\n\u001b[1;32m      3\u001b[0m \u001b[0mX2\u001b[0m \u001b[0;34m=\u001b[0m \u001b[0mnp\u001b[0m\u001b[0;34m.\u001b[0m\u001b[0mmatrix\u001b[0m\u001b[0;34m(\u001b[0m\u001b[0mpaciente2\u001b[0m\u001b[0;34m)\u001b[0m\u001b[0;34m\u001b[0m\u001b[0;34m\u001b[0m\u001b[0m\n\u001b[1;32m      4\u001b[0m \u001b[0mX3\u001b[0m \u001b[0;34m=\u001b[0m \u001b[0mnp\u001b[0m\u001b[0;34m.\u001b[0m\u001b[0mmatrix\u001b[0m\u001b[0;34m(\u001b[0m\u001b[0mpaciente3\u001b[0m\u001b[0;34m)\u001b[0m\u001b[0;34m\u001b[0m\u001b[0;34m\u001b[0m\u001b[0m\n\u001b[1;32m      5\u001b[0m \u001b[0mX4\u001b[0m \u001b[0;34m=\u001b[0m \u001b[0mnp\u001b[0m\u001b[0;34m.\u001b[0m\u001b[0mmatrix\u001b[0m\u001b[0;34m(\u001b[0m\u001b[0mpaciente4\u001b[0m\u001b[0;34m)\u001b[0m\u001b[0;34m\u001b[0m\u001b[0;34m\u001b[0m\u001b[0m\n",
      "\u001b[0;31mNameError\u001b[0m: name 'paciente' is not defined"
     ]
    }
   ],
   "source": [
    "X = np.matrix(paciente)\n",
    "X1 = np.matrix(paciente1)\n",
    "X2 = np.matrix(paciente2)\n",
    "X3 = np.matrix(paciente3)\n",
    "X4 = np.matrix(paciente4)\n",
    "X5 = np.matrix(paciente5)\n",
    "X6 = np.matrix(paciente6)\n",
    "X7 = np.matrix(paciente7)\n",
    "X8 = np.matrix(paciente8)\n",
    "X9 = np.matrix(paciente9)\n",
    "\n",
    "#X = np.transpose(X)\n",
    "#print(X)"
   ]
  },
  {
   "cell_type": "code",
   "execution_count": 19,
   "metadata": {},
   "outputs": [
    {
     "ename": "NameError",
     "evalue": "name 'X5' is not defined",
     "output_type": "error",
     "traceback": [
      "\u001b[0;31m---------------------------------------------------------------------------\u001b[0m",
      "\u001b[0;31mNameError\u001b[0m                                 Traceback (most recent call last)",
      "\u001b[0;32m<ipython-input-19-9a0c9c516dbc>\u001b[0m in \u001b[0;36m<module>\u001b[0;34m\u001b[0m\n\u001b[0;32m----> 1\u001b[0;31m \u001b[0mprint\u001b[0m\u001b[0;34m(\u001b[0m\u001b[0mX5\u001b[0m\u001b[0;34m.\u001b[0m\u001b[0mshape\u001b[0m\u001b[0;34m)\u001b[0m\u001b[0;34m\u001b[0m\u001b[0;34m\u001b[0m\u001b[0m\n\u001b[0m\u001b[1;32m      2\u001b[0m \u001b[0mprint\u001b[0m\u001b[0;34m(\u001b[0m\u001b[0mX6\u001b[0m\u001b[0;34m.\u001b[0m\u001b[0mshape\u001b[0m\u001b[0;34m)\u001b[0m\u001b[0;34m\u001b[0m\u001b[0;34m\u001b[0m\u001b[0m\n\u001b[1;32m      3\u001b[0m \u001b[0mprint\u001b[0m\u001b[0;34m(\u001b[0m\u001b[0mX7\u001b[0m\u001b[0;34m.\u001b[0m\u001b[0mshape\u001b[0m\u001b[0;34m)\u001b[0m\u001b[0;34m\u001b[0m\u001b[0;34m\u001b[0m\u001b[0m\n\u001b[1;32m      4\u001b[0m \u001b[0mprint\u001b[0m\u001b[0;34m(\u001b[0m\u001b[0mX8\u001b[0m\u001b[0;34m.\u001b[0m\u001b[0mshape\u001b[0m\u001b[0;34m)\u001b[0m\u001b[0;34m\u001b[0m\u001b[0;34m\u001b[0m\u001b[0m\n\u001b[1;32m      5\u001b[0m \u001b[0mprint\u001b[0m\u001b[0;34m(\u001b[0m\u001b[0mX9\u001b[0m\u001b[0;34m.\u001b[0m\u001b[0mshape\u001b[0m\u001b[0;34m)\u001b[0m\u001b[0;34m\u001b[0m\u001b[0;34m\u001b[0m\u001b[0m\n",
      "\u001b[0;31mNameError\u001b[0m: name 'X5' is not defined"
     ]
    }
   ],
   "source": [
    "\n",
    "print(X5.shape)\n",
    "print(X6.shape)\n",
    "print(X7.shape)\n",
    "print(X8.shape)\n",
    "print(X9.shape)"
   ]
  },
  {
   "cell_type": "code",
   "execution_count": 30,
   "metadata": {},
   "outputs": [],
   "source": [
    "def get_matrix():\n",
    "    progresores = []\n",
    "    no_progresores = []\n",
    "    for i in df.index:\n",
    "        if df['Progresion'][i] == '1':\n",
    "             progresores.append((df['Historia'][i]))\n",
    "        else:\n",
    "            no_progresores.append((df['Historia'][i]))\n",
    "   \n"
   ]
  },
  {
   "cell_type": "code",
   "execution_count": 31,
   "metadata": {},
   "outputs": [],
   "source": [
    "progresores = []\n",
    "no_progresores = []\n",
    "fila = []\n",
    "for i in df.index:\n",
    "    if df['Progresion'][i] == '1':\n",
    "         progresores.append((df['Historia'][i]))\n",
    "    else:\n",
    "        no_progresores.append((df['Historia'][i]))"
   ]
  },
  {
   "cell_type": "code",
   "execution_count": 32,
   "metadata": {},
   "outputs": [
    {
     "data": {
      "text/plain": [
       "['100220',\n",
       " '103000',\n",
       " '106831',\n",
       " '111892',\n",
       " '114131',\n",
       " '119174',\n",
       " '123327',\n",
       " '124769',\n",
       " '134531',\n",
       " '135545',\n",
       " '13563',\n",
       " '13885',\n",
       " '141744',\n",
       " '144086',\n",
       " '145434',\n",
       " '15015',\n",
       " '153504',\n",
       " '153594',\n",
       " '158485',\n",
       " '160242',\n",
       " '161560',\n",
       " '163449',\n",
       " '165050',\n",
       " '165114',\n",
       " '168167',\n",
       " '169536',\n",
       " '170401',\n",
       " '171534',\n",
       " '171985',\n",
       " '173272',\n",
       " '17366',\n",
       " '174093',\n",
       " '181652',\n",
       " '19093',\n",
       " '192620',\n",
       " '1965',\n",
       " '205374',\n",
       " '207739',\n",
       " '211602',\n",
       " '212061',\n",
       " '214596',\n",
       " '216975',\n",
       " '217578',\n",
       " '218361',\n",
       " '219203',\n",
       " '22011',\n",
       " '220637',\n",
       " '223155',\n",
       " '223758',\n",
       " '224674',\n",
       " '224733',\n",
       " '227599',\n",
       " '228642',\n",
       " '232385',\n",
       " '236307',\n",
       " '236819',\n",
       " '237477',\n",
       " '241258',\n",
       " '243242',\n",
       " '243978',\n",
       " '249084',\n",
       " '249238',\n",
       " '249512',\n",
       " '253385',\n",
       " '256244',\n",
       " '256648',\n",
       " '261748',\n",
       " '262296',\n",
       " '264167',\n",
       " '264617',\n",
       " '268560',\n",
       " '272641',\n",
       " '275881',\n",
       " '275994',\n",
       " '277820',\n",
       " '282973',\n",
       " '286191',\n",
       " '290770',\n",
       " '292128',\n",
       " '295200',\n",
       " '296856',\n",
       " '309135',\n",
       " '311879',\n",
       " '31458',\n",
       " '314965',\n",
       " '322352',\n",
       " '325427',\n",
       " '325938',\n",
       " '32708',\n",
       " '330419',\n",
       " '331834',\n",
       " '338722',\n",
       " '354257',\n",
       " '356765',\n",
       " '359622',\n",
       " '366329',\n",
       " '368245',\n",
       " '376926',\n",
       " '390142',\n",
       " '391387',\n",
       " '395377',\n",
       " '39576',\n",
       " '40577',\n",
       " '41986',\n",
       " '422480',\n",
       " '43358',\n",
       " '43693',\n",
       " '44103',\n",
       " '451027',\n",
       " '459655',\n",
       " '460253',\n",
       " '46659',\n",
       " '468603',\n",
       " '48863',\n",
       " '50507',\n",
       " '58046',\n",
       " '59549',\n",
       " '6434',\n",
       " '68282',\n",
       " '69314',\n",
       " '69789',\n",
       " '70759',\n",
       " '8407',\n",
       " '86526',\n",
       " '86765',\n",
       " '8683',\n",
       " '87996',\n",
       " '97408',\n",
       " '98551',\n",
       " '99099',\n",
       " '99397',\n",
       " '99828']"
      ]
     },
     "execution_count": 32,
     "metadata": {},
     "output_type": "execute_result"
    }
   ],
   "source": []
  },
  {
   "cell_type": "code",
   "execution_count": 100,
   "metadata": {},
   "outputs": [
    {
     "data": {
      "text/plain": [
       "<matplotlib.legend.Legend at 0x7f7e85f10850>"
      ]
     },
     "execution_count": 100,
     "metadata": {},
     "output_type": "execute_result"
    },
    {
     "data": {
      "image/png": "[encoded data removed]",
      "text/plain": [
       "<Figure size 576x432 with 1 Axes>"
      ]
     },
     "metadata": {
      "needs_background": "light"
     },
     "output_type": "display_data"
    }
   ],
   "source": [
    "row_max = 0\n",
    "matrices = [] #list of matrices. Each list element is a matrix for one patient, with rows = reviews, cols = features\n",
    "\n",
    "for paciente in progresores:\n",
    "        pacientes = pd.read_csv('./pacientes/' + paciente+'.csv',usecols = list(range(22))) #dataframe con variables.\n",
    "        #remove last column (date)\n",
    "        matrix_pat = pacientes.to_numpy() #one patient matrix\n",
    "       \n",
    "        \n",
    "        matrices.append(matrix_pat)\n",
    "        #print(len(matrices))\n",
    "        \n",
    "        #get the maximum number of rows : it is the maiximum number of reviews for a given patient.\n",
    "        \n",
    "        filas = matrix_pat.shape[0]\n",
    "         \n",
    "        if filas > row_max:\n",
    "            row_max = filas\n",
    "\n",
    "            \n",
    "#build complete matrix\n",
    "     \n",
    "X = np.zeros((len(matrices),row_max,22))\n",
    "X[:,:,:] = np.nan\n",
    "#print(X.shape)\n",
    "\n",
    "\n",
    "for i,mat in enumerate(matrices):\n",
    "    \n",
    "    #print(mat.shape)\n",
    "    X[i,:mat.shape[0],:] = mat\n",
    "    \n",
    "#print(X)\n",
    "\n",
    "plt.figure(figsize = (8,6))\n",
    "\n",
    "#__ = plt.plot(X[:,:,13].T,linewidth = 0.1,color = [.5]*3)\n",
    "\n",
    "feature_names = ['Age','Weight'] \n",
    "\n",
    "plt.plot(np.nanmean(X[:,:,13],axis = 0),color ='k',linewidth = 3,label = 'Progresores') \n",
    "plt.title(feature_names[0])\n",
    "plt.legend()\n",
    "\n",
    "#print(row_max)\n",
    "#print(matrices[1].shape)\n",
    "#print(matrices)    \n",
    "\n",
    "#matrices_aux = np.asarray(matrices)\n",
    "\n"
   ]
  },
  {
   "cell_type": "code",
   "execution_count": null,
   "metadata": {},
   "outputs": [],
   "source": [
    "\n",
    "\n",
    "\n",
    "        X_features = np.zeros((len(progresores) ,col_max))\n",
    "        print(X_features.shape)\n",
    "        X_features[:,:] = np.nan\n",
    "        for i in columna:\n",
    "            for j in range(len(progresores)):\n",
    "                X_features[j,:i] = matrices[i][:,4].flatten()'''"
   ]
  },
  {
   "cell_type": "code",
   "execution_count": 25,
   "metadata": {},
   "outputs": [
    {
     "name": "stdout",
     "output_type": "stream",
     "text": [
      "[nan nan nan nan nan nan nan nan nan nan nan nan nan nan nan nan nan nan\n",
      " nan nan nan nan nan nan]\n"
     ]
    },
    {
     "ename": "NameError",
     "evalue": "name 'X6' is not defined",
     "output_type": "error",
     "traceback": [
      "\u001b[0;31m---------------------------------------------------------------------------\u001b[0m",
      "\u001b[0;31mNameError\u001b[0m                                 Traceback (most recent call last)",
      "\u001b[0;32m<ipython-input-25-b60779b51f57>\u001b[0m in \u001b[0;36m<module>\u001b[0;34m\u001b[0m\n\u001b[1;32m      1\u001b[0m \u001b[0mprint\u001b[0m\u001b[0;34m(\u001b[0m\u001b[0mX_pac\u001b[0m\u001b[0;34m[\u001b[0m\u001b[0;36m0\u001b[0m\u001b[0;34m]\u001b[0m\u001b[0;34m)\u001b[0m\u001b[0;34m\u001b[0m\u001b[0;34m\u001b[0m\u001b[0m\n\u001b[0;32m----> 2\u001b[0;31m \u001b[0mprint\u001b[0m\u001b[0;34m(\u001b[0m\u001b[0mX6\u001b[0m\u001b[0;34m[\u001b[0m\u001b[0;34m:\u001b[0m\u001b[0;34m,\u001b[0m\u001b[0;36m0\u001b[0m\u001b[0;34m]\u001b[0m\u001b[0;34m.\u001b[0m\u001b[0mflatten\u001b[0m\u001b[0;34m(\u001b[0m\u001b[0;34m)\u001b[0m\u001b[0;34m)\u001b[0m\u001b[0;34m\u001b[0m\u001b[0;34m\u001b[0m\u001b[0m\n\u001b[0m",
      "\u001b[0;31mNameError\u001b[0m: name 'X6' is not defined"
     ]
    }
   ],
   "source": [
    "print(X_pac[0])\n",
    "print(X6[:,0].flatten())"
   ]
  },
  {
   "cell_type": "code",
   "execution_count": 23,
   "metadata": {},
   "outputs": [
    {
     "ename": "NameError",
     "evalue": "name 'X5' is not defined",
     "output_type": "error",
     "traceback": [
      "\u001b[0;31m---------------------------------------------------------------------------\u001b[0m",
      "\u001b[0;31mNameError\u001b[0m                                 Traceback (most recent call last)",
      "\u001b[0;32m<ipython-input-23-5829e5885cc2>\u001b[0m in \u001b[0;36m<module>\u001b[0;34m\u001b[0m\n\u001b[1;32m      1\u001b[0m \u001b[0mX_pac\u001b[0m \u001b[0;34m=\u001b[0m \u001b[0mnp\u001b[0m\u001b[0;34m.\u001b[0m\u001b[0mzeros\u001b[0m\u001b[0;34m(\u001b[0m\u001b[0;34m(\u001b[0m\u001b[0;36m5\u001b[0m\u001b[0;34m,\u001b[0m\u001b[0;36m24\u001b[0m\u001b[0;34m)\u001b[0m\u001b[0;34m)\u001b[0m\u001b[0;34m\u001b[0m\u001b[0;34m\u001b[0m\u001b[0m\n\u001b[1;32m      2\u001b[0m \u001b[0mX_pac\u001b[0m\u001b[0;34m[\u001b[0m\u001b[0;34m:\u001b[0m\u001b[0;34m,\u001b[0m\u001b[0;34m:\u001b[0m\u001b[0;34m]\u001b[0m \u001b[0;34m=\u001b[0m \u001b[0mnp\u001b[0m\u001b[0;34m.\u001b[0m\u001b[0mnan\u001b[0m\u001b[0;34m\u001b[0m\u001b[0;34m\u001b[0m\u001b[0m\n\u001b[0;32m----> 3\u001b[0;31m \u001b[0mX_pac\u001b[0m\u001b[0;34m[\u001b[0m\u001b[0;36m0\u001b[0m\u001b[0;34m,\u001b[0m\u001b[0;34m:\u001b[0m\u001b[0mX5\u001b[0m\u001b[0;34m.\u001b[0m\u001b[0mshape\u001b[0m\u001b[0;34m[\u001b[0m\u001b[0;36m0\u001b[0m\u001b[0;34m]\u001b[0m\u001b[0;34m]\u001b[0m \u001b[0;34m=\u001b[0m \u001b[0mX5\u001b[0m\u001b[0;34m[\u001b[0m\u001b[0;34m:\u001b[0m\u001b[0;34m,\u001b[0m\u001b[0;36m4\u001b[0m\u001b[0;34m]\u001b[0m\u001b[0;34m.\u001b[0m\u001b[0mflatten\u001b[0m\u001b[0;34m(\u001b[0m\u001b[0;34m)\u001b[0m \u001b[0;31m#En la fila 0 y las columnas de X5.shape meteme la variable 4\u001b[0m\u001b[0;34m\u001b[0m\u001b[0;34m\u001b[0m\u001b[0m\n\u001b[0m\u001b[1;32m      4\u001b[0m \u001b[0mX_pac\u001b[0m\u001b[0;34m[\u001b[0m\u001b[0;36m1\u001b[0m\u001b[0;34m,\u001b[0m\u001b[0;34m:\u001b[0m\u001b[0mX6\u001b[0m\u001b[0;34m.\u001b[0m\u001b[0mshape\u001b[0m\u001b[0;34m[\u001b[0m\u001b[0;36m0\u001b[0m\u001b[0;34m]\u001b[0m\u001b[0;34m]\u001b[0m \u001b[0;34m=\u001b[0m \u001b[0mX6\u001b[0m\u001b[0;34m[\u001b[0m\u001b[0;34m:\u001b[0m\u001b[0;34m,\u001b[0m\u001b[0;36m4\u001b[0m\u001b[0;34m]\u001b[0m\u001b[0;34m.\u001b[0m\u001b[0mflatten\u001b[0m\u001b[0;34m(\u001b[0m\u001b[0;34m)\u001b[0m\u001b[0;34m\u001b[0m\u001b[0;34m\u001b[0m\u001b[0m\n\u001b[1;32m      5\u001b[0m \u001b[0mX_pac\u001b[0m\u001b[0;34m[\u001b[0m\u001b[0;36m2\u001b[0m\u001b[0;34m,\u001b[0m\u001b[0;34m:\u001b[0m\u001b[0mX7\u001b[0m\u001b[0;34m.\u001b[0m\u001b[0mshape\u001b[0m\u001b[0;34m[\u001b[0m\u001b[0;36m0\u001b[0m\u001b[0;34m]\u001b[0m\u001b[0;34m]\u001b[0m \u001b[0;34m=\u001b[0m \u001b[0mX7\u001b[0m\u001b[0;34m[\u001b[0m\u001b[0;34m:\u001b[0m\u001b[0;34m,\u001b[0m\u001b[0;36m4\u001b[0m\u001b[0;34m]\u001b[0m\u001b[0;34m.\u001b[0m\u001b[0mflatten\u001b[0m\u001b[0;34m(\u001b[0m\u001b[0;34m)\u001b[0m\u001b[0;34m\u001b[0m\u001b[0;34m\u001b[0m\u001b[0m\n",
      "\u001b[0;31mNameError\u001b[0m: name 'X5' is not defined"
     ]
    }
   ],
   "source": [
    "X_pac = np.zeros((5,24))\n",
    "X_pac[:,:] = np.nan\n",
    "X_pac[0,:X5.shape[0]] = X5[:,4].flatten() #En la fila 0 y las columnas de X5.shape meteme la variable 4\n",
    "X_pac[1,:X6.shape[0]] = X6[:,4].flatten()\n",
    "X_pac[2,:X7.shape[0]] = X7[:,4].flatten()\n",
    "X_pac[3,:X8.shape[0]] = X8[:,4].flatten()\n",
    "X_pac[4,:X9.shape[0]] = X9[:,4].flatten()\n",
    "X_pac"
   ]
  },
  {
   "cell_type": "code",
   "execution_count": 26,
   "metadata": {},
   "outputs": [
    {
     "name": "stderr",
     "output_type": "stream",
     "text": [
      "<ipython-input-26-d1ea57f70ae1>:1: RuntimeWarning: Mean of empty slice\n",
      "  plt.plot(np.nanmean(X_pac,axis = 0), label = 'no_progresores')\n",
      "<ipython-input-26-d1ea57f70ae1>:2: RuntimeWarning: Mean of empty slice\n",
      "  plt.plot(np.nanmean(X_pac,axis = 0) + np.nanstd(X_pac,axis = 0), linestyle = ':', linewidth = 0.5, color = 'k')\n",
      "/home/obarquero/anaconda3/lib/python3.8/site-packages/numpy/lib/nanfunctions.py:1664: RuntimeWarning: Degrees of freedom <= 0 for slice.\n",
      "  var = nanvar(a, axis=axis, dtype=dtype, out=out, ddof=ddof,\n",
      "<ipython-input-26-d1ea57f70ae1>:3: RuntimeWarning: Mean of empty slice\n",
      "  plt.plot(np.nanmean(X_pac,axis = 0) - np.nanstd(X_pac,axis = 0), linestyle = ':', linewidth = 0.5, color = 'k')\n",
      "/home/obarquero/anaconda3/lib/python3.8/site-packages/numpy/lib/nanfunctions.py:1664: RuntimeWarning: Degrees of freedom <= 0 for slice.\n",
      "  var = nanvar(a, axis=axis, dtype=dtype, out=out, ddof=ddof,\n"
     ]
    },
    {
     "data": {
      "text/plain": [
       "<matplotlib.legend.Legend at 0x7f7e8db7be20>"
      ]
     },
     "execution_count": 26,
     "metadata": {},
     "output_type": "execute_result"
    },
    {
     "data": {
      "image/png": "[encoded data removed]",
      "text/plain": [
       "<Figure size 432x288 with 1 Axes>"
      ]
     },
     "metadata": {
      "needs_background": "light"
     },
     "output_type": "display_data"
    }
   ],
   "source": [
    "plt.plot(np.nanmean(X_pac,axis = 0), label = 'no_progresores')\n",
    "plt.plot(np.nanmean(X_pac,axis = 0) + np.nanstd(X_pac,axis = 0), linestyle = ':', linewidth = 0.5, color = 'k')\n",
    "plt.plot(np.nanmean(X_pac,axis = 0) - np.nanstd(X_pac,axis = 0), linestyle = ':', linewidth = 0.5, color = 'k')\n",
    "plt.legend()\n",
    "#xx = np.arange(X_pac.shape[1])\n",
    "#plt.plot(xx, X_pac.T, linewidth = 0.3, color = [0.5,0.5,0.5])\n"
   ]
  },
  {
   "cell_type": "code",
   "execution_count": 27,
   "metadata": {},
   "outputs": [],
   "source": [
    "## Analizar las 20.. variables, media y varianza de progresores y no progresores\n",
    "## funcion que reciba el dataframe y el string de las varibales y que devuelva dos matrices X, una para progresores y no progresores.\n",
    "## Busco el paciente con mas revisiones y hago una matriz con tantas filas como pacientes y columnas como maximo de revisiones"
   ]
  },
  {
   "cell_type": "code",
   "execution_count": 28,
   "metadata": {},
   "outputs": [
    {
     "data": {
      "text/plain": [
       "1       100257\n",
       "2        10045\n",
       "3       100505\n",
       "4       100598\n",
       "5       100756\n",
       "         ...  \n",
       "1640      9926\n",
       "1642     99582\n",
       "1643      9970\n",
       "1645     99835\n",
       "1646      9985\n",
       "Name: Historia, Length: 1515, dtype: object"
      ]
     },
     "execution_count": 28,
     "metadata": {},
     "output_type": "execute_result"
    }
   ],
   "source": [
    "df['Historia'][df['Progresion'] == '0']\n",
    "##DE LA COLUMNA HISTORIA, COJO DE LA COLUMNA DE PROGRESION AQUELLOS QUE SEAN = 0 o 1"
   ]
  },
  {
   "cell_type": "code",
   "execution_count": 29,
   "metadata": {},
   "outputs": [
    {
     "ename": "SyntaxError",
     "evalue": "invalid syntax (<ipython-input-29-d5bb0b11d38e>, line 4)",
     "output_type": "error",
     "traceback": [
      "\u001b[0;36m  File \u001b[0;32m\"<ipython-input-29-d5bb0b11d38e>\"\u001b[0;36m, line \u001b[0;32m4\u001b[0m\n\u001b[0;31m    plt.plot(X1[:,8]'o-')\u001b[0m\n\u001b[0m                    ^\u001b[0m\n\u001b[0;31mSyntaxError\u001b[0m\u001b[0;31m:\u001b[0m invalid syntax\n"
     ]
    }
   ],
   "source": [
    "import matplotlib.pyplot as plt\n",
    "\n",
    "plt.plot(X[:,8],'o-')\n",
    "plt.plot(X1[:,8]'o-')\n",
    "plt.plot(X2[:,8],'o-')\n",
    "plt.plot(X3[:,8],'o-')\n",
    "plt.plot(X4[:,8],'o-')\n",
    "plt.plot(X5[:,8],'o-')\n",
    "plt.plot(X6[:,8],'o-')\n",
    "plt.plot(X7[:,8],'o-')\n",
    "plt.plot(X8[:,8],'o-')\n",
    "plt.plot(X9[:,8],'o-')\n",
    "\n"
   ]
  },
  {
   "cell_type": "code",
   "execution_count": null,
   "metadata": {},
   "outputs": [],
   "source": [
    "from sklearn.preprocessing import PolynomialFeatures\n",
    "poly_features = PolynomialFeatures(degree=2, include_bias=False)\n",
    "X_poly = poly_features.fit_transform(X[:,8])\n",
    "X[0]"
   ]
  },
  {
   "cell_type": "code",
   "execution_count": null,
   "metadata": {},
   "outputs": [],
   "source": [
    "X_poly[0]\n"
   ]
  },
  {
   "cell_type": "code",
   "execution_count": null,
   "metadata": {},
   "outputs": [],
   "source": []
  },
  {
   "cell_type": "code",
   "execution_count": null,
   "metadata": {},
   "outputs": [],
   "source": []
  },
  {
   "cell_type": "code",
   "execution_count": null,
   "metadata": {},
   "outputs": [],
   "source": []
  },
  {
   "cell_type": "code",
   "execution_count": null,
   "metadata": {},
   "outputs": [],
   "source": []
  },
  {
   "cell_type": "code",
   "execution_count": null,
   "metadata": {},
   "outputs": [],
   "source": []
  }
 ],
 "metadata": {
  "kernelspec": {
   "display_name": "Python 3",
   "language": "python",
   "name": "python3"
  },
  "language_info": {
   "codemirror_mode": {
    "name": "ipython",
    "version": 3
   },
   "file_extension": ".py",
   "mimetype": "text/x-python",
   "name": "python",
   "nbconvert_exporter": "python",
   "pygments_lexer": "ipython3",
   "version": "3.8.5"
  }
 },
 "nbformat": 4,
 "nbformat_minor": 4
}
