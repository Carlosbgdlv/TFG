{
 "cells": [
  {
   "cell_type": "code",
   "execution_count": 1,
   "metadata": {},
   "outputs": [],
   "source": [
    "import pandas as pd \n",
    "import seaborn as sns\n",
    "import matplotlib.pyplot as plt\n",
    "import pylab\n",
    "import scipy.stats as ss\n",
    "import csv\n",
    "import numpy as np\n",
    "import sklearn\n",
    "import glob\n",
    "from sklearn.model_selection import train_test_split\n",
    "from sklearn import datasets\n",
    "from sklearn import svm\n",
    "from sklearn.neighbors import KNeighborsClassifier\n",
    "from sklearn.tree import DecisionTreeClassifier\n",
    "from sklearn.metrics import classification_report\n",
    "from sklearn.metrics import confusion_matrix\n",
    "from sklearn.model_selection import cross_val_score\n",
    "from sklearn.preprocessing import StandardScaler"
   ]
  },
  {
   "cell_type": "code",
   "execution_count": 2,
   "metadata": {},
   "outputs": [],
   "source": [
    "#df = pd.read_csv('499.csv')\n",
    "#df.head()"
   ]
  },
  {
   "cell_type": "code",
   "execution_count": 3,
   "metadata": {},
   "outputs": [],
   "source": [
    "#df.to_csv(\"499.csv\", header=['EDAD', 'PESO','TALLA', 'IMC', 'CREATININA', 'CISTATINA', 'HDL', 'LDL', 'TRIGLICERIDOS', \n",
    "#'GOT', 'GPT', 'GGT', 'ALBUMINURIA', 'FERRITINA', 'HOMA', 'INSULINA', 'GLUCEMIA', \n",
    "#'HB-GLICOSILADA', 'PCR', 'VITAMINA-D', 'TAS', 'TAD', 'FECHA'], index=False)"
   ]
  },
  {
   "cell_type": "markdown",
   "metadata": {},
   "source": [
    "### CONVERTIR PACIENTES (los 1700 csv) A UNA LISTA Y LA LISTA A CSV"
   ]
  },
  {
   "cell_type": "code",
   "execution_count": 4,
   "metadata": {},
   "outputs": [
    {
     "ename": "IndexError",
     "evalue": "pop from empty list",
     "output_type": "error",
     "traceback": [
      "\u001b[0;31m---------------------------------------------------------------------------\u001b[0m",
      "\u001b[0;31mIndexError\u001b[0m                                Traceback (most recent call last)",
      "\u001b[0;32m<ipython-input-4-3b3455ab857c>\u001b[0m in \u001b[0;36m<module>\u001b[0;34m\u001b[0m\n\u001b[1;32m      1\u001b[0m \u001b[0;31m# Primero especificamos un patrón del archivo y lo pasamos como parámetro en la función glob\u001b[0m\u001b[0;34m\u001b[0m\u001b[0;34m\u001b[0m\u001b[0;34m\u001b[0m\u001b[0m\n\u001b[1;32m      2\u001b[0m \u001b[0mcsv_files\u001b[0m \u001b[0;34m=\u001b[0m \u001b[0mglob\u001b[0m\u001b[0;34m.\u001b[0m\u001b[0mglob\u001b[0m\u001b[0;34m(\u001b[0m\u001b[0;34m'*.csv'\u001b[0m\u001b[0;34m)\u001b[0m\u001b[0;34m\u001b[0m\u001b[0;34m\u001b[0m\u001b[0m\n\u001b[0;32m----> 3\u001b[0;31m \u001b[0mcsv_files\u001b[0m\u001b[0;34m.\u001b[0m\u001b[0mpop\u001b[0m\u001b[0;34m(\u001b[0m\u001b[0;34m)\u001b[0m\u001b[0;34m\u001b[0m\u001b[0;34m\u001b[0m\u001b[0m\n\u001b[0m\u001b[1;32m      4\u001b[0m \u001b[0;34m\u001b[0m\u001b[0m\n\u001b[1;32m      5\u001b[0m \u001b[0mnew_csv_files\u001b[0m \u001b[0;34m=\u001b[0m  \u001b[0;34m[\u001b[0m\u001b[0mitem\u001b[0m\u001b[0;34m.\u001b[0m\u001b[0mreplace\u001b[0m\u001b[0;34m(\u001b[0m\u001b[0;34m\".csv\"\u001b[0m\u001b[0;34m,\u001b[0m \u001b[0;34m\"\"\u001b[0m\u001b[0;34m)\u001b[0m \u001b[0;32mfor\u001b[0m \u001b[0mitem\u001b[0m \u001b[0;32min\u001b[0m \u001b[0mcsv_files\u001b[0m\u001b[0;34m]\u001b[0m\u001b[0;34m\u001b[0m\u001b[0;34m\u001b[0m\u001b[0m\n",
      "\u001b[0;31mIndexError\u001b[0m: pop from empty list"
     ]
    }
   ],
   "source": [
    "# Primero especificamos un patrón del archivo y lo pasamos como parámetro en la función glob\n",
    "csv_files = glob.glob('*.csv')\n",
    "csv_files.pop()\n",
    "\n",
    "new_csv_files =  [item.replace(\".csv\", \"\") for item in csv_files]\n",
    "#new_csv_files.pop()\n",
    "# Mostrar el archivo csv_files, el cual es una lista de nombres\n",
    "print(new_csv_files)"
   ]
  },
  {
   "cell_type": "code",
   "execution_count": 8,
   "metadata": {},
   "outputs": [
    {
     "data": {
      "text/plain": [
       "1794"
      ]
     },
     "execution_count": 8,
     "metadata": {},
     "output_type": "execute_result"
    }
   ],
   "source": [
    "len(new_csv_files)"
   ]
  },
  {
   "cell_type": "code",
   "execution_count": 9,
   "metadata": {},
   "outputs": [],
   "source": [
    "df = pd.DataFrame(new_csv_files, columns=[\"Pacientes\"])\n",
    "df.to_csv('new_csv_files.csv', index=False)"
   ]
  },
  {
   "cell_type": "markdown",
   "metadata": {},
   "source": [
    "### CREO UNA LISTA A PARTIR DEL CSV PACIENTES PROGRESORES"
   ]
  },
  {
   "cell_type": "code",
   "execution_count": 10,
   "metadata": {},
   "outputs": [],
   "source": [
    "with open('pacientes_progresores.csv', 'r') as archivo:\n",
    "    leer = csv.reader(archivo)\n",
    "    lista = list(leer)\n",
    "    #print(lista)"
   ]
  },
  {
   "cell_type": "code",
   "execution_count": 11,
   "metadata": {},
   "outputs": [],
   "source": [
    "lista_HC = []\n",
    "for i in lista:\n",
    "    lista_HC.append(i[0])"
   ]
  },
  {
   "cell_type": "code",
   "execution_count": 12,
   "metadata": {},
   "outputs": [
    {
     "name": "stdout",
     "output_type": "stream",
     "text": [
      "1647\n"
     ]
    }
   ],
   "source": [
    "lista_HC.pop(0)\n",
    "#print(lista_HC)\n",
    "print(len(lista_HC))"
   ]
  },
  {
   "cell_type": "markdown",
   "metadata": {},
   "source": [
    "### COMPARO AMBAS LISTAS Y ELIMINO PACIENTES NO COINCIDENTES"
   ]
  },
  {
   "cell_type": "code",
   "execution_count": 13,
   "metadata": {},
   "outputs": [],
   "source": [
    "comparacion = []\n",
    " \n",
    "for item in new_csv_files:\n",
    "    if item in lista_HC:\n",
    "        comparacion.append(item)\n",
    "    "
   ]
  },
  {
   "cell_type": "code",
   "execution_count": 16,
   "metadata": {},
   "outputs": [
    {
     "name": "stdout",
     "output_type": "stream",
     "text": [
      "['100220', '100257', '10045', '100505', '100598', '100756', '100889', '101033', '10113', '101310', '101811', '101956', '102007', '102025', '102370', '102634', '102790', '10281', '103000', '103232', '104288', '104376', '104737', '104809', '105227', '105260', '105426', '105617', '10579', '106070', '106107', '106545', '106810', '106831', '107178', '107918', '107954', '108222', '108390', '108657', '1087', '108789', '109195', '109303', '109322', '109853', '109972', '110337', '110457', '11068', '110788', '11129', '111524', '111529', '111778', '111892', '112021', '112225', '112238', '1129', '11300', '11318', '113556', '114131', '114513', '114541', '114611', '114670', '114840', '115087', '115353', '115857', '115994', '116420', '11667', '116729', '116788', '116994', '117851', '11791', '118197', '118206', '118740', '118769', '119174', '119621', '119972', '120267', '120652', '121079', '121198', '12170', '121800', '121961', '122066', '122138', '122170', '12236', '122688', '122826', '122891', '122938', '123037', '12316', '123302', '123327', '12340', '123666', '123671', '123817', '123859', '1240', '124390', '12475', '124769', '124792', '125127', '125634', '125708', '126415', '126463', '126711', '126735', '126896', '126907', '127426', '127983', '128011', '128064', '128102', '128538', '129044', '129598', '129792', '129800', '130105', '130634', '131062', '131110', '13128', '131896', '13221', '132408', '133127', '133144', '133319', '133402', '133522', '133666', '134074', '134207', '134531', '134926', '13513', '13552', '135545', '135603', '13563', '135836', '13600', '136031', '136039', '136690', '136844', '136886', '136947', '137143', '137398', '138071', '1384', '138409', '138781', '13885', '139049', '139201', '139830', '140107', '140387', '140433', '14047', '14070', '141099', '141256', '1414', '141454', '141744', '141836', '141966', '141981', '142088', '142170', '142474', '142478', '142549', '14258', '142620', '142705', '14307', '143892', '144086', '144401', '14455', '144643', '144742', '144758', '14511', '14535', '145434', '145610', '145981', '146147', '146632', '146662', '14703', '147198', '147617', '147774', '148009', '148079', '148190', '148219', '14833', '148335', '14837', '148434', '14878', '148905', '149046', '149143', '149260', '14975', '149914', '15015', '150155', '150227', '150714', '15087', '151027', '151215', '151419', '1517', '151700', '152598', '152675', '15341', '153486', '153504', '153594', '153733', '154326', '15433', '154840', '154993', '155076', '155203', '15525', '155478', '155797', '15635', '157133', '157233', '157302', '157581', '157633', '158264', '158335', '158480', '158485', '158497', '158686', '15876', '159255', '159264', '159396', '159736', '160054', '160242', '16026', '160589', '160605', '160838', '160860', '161028', '161171', '161337', '161560', '16158', '162179', '162228', '162254', '162273', '162370', '162529', '16261', '162749', '163285', '163449', '163522', '16368', '164142', '164635', '164683', '164698', '164730', '164754', '164816', '165050', '165114', '165259', '165314', '165499', '165758', '165827', '166207', '16636', '166609', '166901', '16730', '167391', '167484', '16750', '167644', '16765', '16775', '167836', '168167', '168259', '169425', '169514', '169536', '169537', '169801', '16990', '17006', '170079', '170139', '170401', '17053', '170793', '171431', '171534', '171985', '17199', '171994', '172026', '172549', '172587', '172623', '172731', '172789', '172882', '173019', '173272', '173427', '173572', '17366', '17377', '173952', '174093', '174223', '174832', '1749', '17516', '17532', '175351', '17637', '176780', '177111', '17712', '177431', '177629', '17802', '178580', '178908', '178917', '17937', '1794', '179447', '1796', '17963', '180249', '180253', '180264', '180384', '180530', '180875', '18099', '181098', '1814', '181495', '181652', '181683', '181802', '18215', '182252', '182839', '18307', '183387', '183408', '184627', '184841', '184852', '184958', '185206', '185409', '18568', '18586', '186030', '186119', '18660', '186609', '187087', '187122', '187298', '187313', '187404', '187897', '187953', '187989', '188059', '188149', '188585', '188617', '189273', '189373', '18938', '189386', '189574', '189703', '189758', '190069', '190125', '190323', '190740', '190764', '19093', '191147', '191474', '191771', '19199', '192498', '192611', '192620', '19283', '192937', '193323', '193452', '194161', '194392', '194565', '195255', '195510', '195517', '195549', '195797', '196393', '1965', '197032', '197502', '197851', '198070', '198146', '199000', '199037', '199298', '199405', '199650', '200264', '20072', '20080', '201638', '201997', '202423', '202713', '203163', '203259', '203695', '2044', '204495', '204514', '204542', '204829', '204895', '205145', '205327', '20533', '205374', '205470', '205749', '206092', '20612', '20617', '20656', '206591', '206724', '20678', '206927', '206928', '207140', '207157', '207188', '207443', '207638', '207701', '207725', '207739', '207881', '208149', '208689', '209045', '209137', '209177', '209651', '209858', '210204', '210215', '210293', '210372', '210558', '210617', '210784', '21089', '211145', '211602', '21191', '211989', '212052', '212061', '21225', '21292', '213132', '213134', '213395', '213399', '213424', '213445', '213555', '213635', '213706', '213771', '214382', '214596', '215012', '215151', '21574', '215816', '216145', '216207', '216237', '216570', '216656', '216759', '216762', '216975', '217296', '217386', '21753', '217578', '218', '218361', '218421', '218465', '218535', '219203', '219396', '219449', '219831', '219856', '21987', '219870', '220009', '220099', '22011', '220414', '22052', '220637', '220685', '22097', '221127', '221137', '221221', '22126', '221387', '221626', '221706', '22205', '22209', '222920', '223155', '223174', '223199', '223282', '223304', '223636', '223758', '224078', '224103', '224145', '224281', '224443', '224455', '224674', '224733', '224781', '225029', '225051', '225110', '225445', '225624', '225800', '226039', '226272', '226386', '226426', '226429', '227412', '227555', '227599', '228071', '228257', '22833', '228389', '228443', '22852', '228642', '228908', '228911', '228920', '22902', '229089', '229390', '229916', '230089', '230138', '230160', '230163', '230296', '230462', '230538', '230560', '230825', '230861', '230881', '230971', '23122', '231369', '231575', '23186', '232120', '232385', '232510', '232549', '232738', '232796', '233043', '233552', '233734', '233770', '233987', '234023', '234151', '234414', '234733', '234823', '234848', '235005', '235052', '235106', '235113', '235359', '235640', '236093', '236205', '236307', '236767', '236819', '236916', '23694', '23725', '237325', '237477', '23748', '237499', '237523', '237673', '237730', '237771', '237902', '237942', '238002', '238163', '23825', '238299', '238365', '23840', '238423', '23843', '238741', '238773', '238813', '23899', '239631', '239660', '239679', '239723', '239841', '239928', '239962', '240119', '240151', '240363', '240385', '240496', '240606', '24109', '24125', '241258', '241641', '241717', '241978', '242139', '242204', '242325', '242464', '24290', '243109', '243217', '243242', '243281', '2434', '24355', '243978', '244004', '244917', '245330', '245456', '245544', '245545', '245652', '245716', '245767', '245881', '246414', '246798', '246818', '246824', '246860', '246934', '24694', '247312', '247532', '247588', '247602', '24774', '247827', '247845', '247953', '24799', '248030', '24815', '248320', '248334', '248363', '248742', '248808', '249084', '249238', '249396', '249420', '249430', '249459', '249512', '250241', '250602', '250687', '250903', '251079', '251140', '251259', '251299', '251379', '251572', '251587', '251643', '252047', '25260', '252612', '252629', '25283', '253167', '253385', '25356', '253827', '253901', '254036', '254489', '254799', '254951', '255105', '255325', '255425', '255535', '255540', '25581', '25600', '2562', '256244', '256246', '256333', '25656', '256648', '256802', '256851', '256914', '257072', '257217', '257334', '257576', '257588', '25769', '258135', '258191', '258287', '258481', '258560', '259005', '259326', '259515', '259938', '260328', '260422', '260606', '26062', '260808', '260955', '260971', '261305', '261343', '261369', '261472', '261686', '261748', '26201', '262060', '26226', '262296', '262641', '262716', '26284', '263876', '264167', '264600', '264617', '264719', '264772', '2648', '264806', '264975', '265151', '265541', '265634', '265970', '26624', '266524', '266576', '266817', '267216', '267743', '2679', '268268', '268560', '268856', '269800', '269871', '269955', '270641', '2708', '270863', '270951', '27097', '271121', '271924', '272101', '272554', '272641', '273285', '273997', '274191', '274193', '274408', '27449', '275180', '275294', '275881', '275994', '276087', '276654', '276675', '276774', '276936', '277074', '277162', '277256', '277426', '277725', '277820', '278177', '278525', '278610', '278865', '278890', '279170', '279352', '279411', '279627', '279773', '2798', '279963', '280061', '280722', '281066', '281333', '281466', '281833', '282057', '282205', '282551', '282659', '282877', '282973', '283044', '28401', '284203', '284385', '284697', '285051', '28533', '285361', '286191', '286422', '286616', '286658', '28672', '286816', '286844', '286895', '287078', '287131', '287746', '287872', '288798', '289132', '289356', '290157', '290318', '290326', '290388', '290589', '290770', '29094', '291347', '292128', '292518', '292680', '292692', '293126', '293232', '29334', '293513', '293755', '294184', '294266', '29432', '294778', '295132', '295200', '295259', '295680', '29594', '29601', '296217', '296294', '296540', '296856', '296929', '29735', '297501', '297688', '297976', '298291', '299063', '299211', '29931', '299562', '29963', '299637', '299975', '300101', '300173', '300334', '300585', '300595', '300604', '300655', '300708', '300885', '301144', '301842', '301917', '302155', '302285', '302526', '302614', '302760', '302910', '303113', '304058', '304123', '30429', '304634', '30464', '304800', '304803', '304970', '305145', '30516', '30545', '305947', '306377', '306739', '306879', '306999', '307282', '307297', '307694', '3080', '308289', '30835', '308603', '308741', '308915', '308980', '309093', '309135', '30916', '309463', '309554', '309854', '310189', '311073', '311879', '311903', '312182', '31225', '312349', '312428', '31266', '312960', '31326', '313493', '313700', '313708', '313908', '314066', '314093', '31458', '314617', '314799', '314927', '314965', '315350', '315634', '315833', '316037', '316039', '316301', '316667', '316901', '316936', '317023', '317093', '317290', '318100', '318141', '318166', '318297', '318776', '319266', '319621', '31974', '320002', '320042', '32007', '32046', '320561', '322352', '322804', '322911', '322949', '32389', '323969', '3245', '32469', '324943', '325101', '325249', '325427', '32557', '325782', '325938', '326023', '326055', '32630', '326313', '326654', '32708', '327295', '327488', '327671', '327701', '327818', '328145', '32865', '32886', '32924', '329328', '32971', '330268', '330419', '330645', '330728', '331834', '332260', '332425', '33313', '333131', '33397', '334270', '334558', '334921', '334996', '336677', '337076', '33719', '337271', '33799', '33810', '33823', '338419', '338686', '338722', '340078', '340848', '341138', '341211', '341329', '341400', '34142', '341702', '342000', '343108', '34319', '343377', '344850', '345038', '345436', '34547', '345541', '345843', '345857', '346054', '346132', '346333', '346407', '346893', '347198', '347260', '347345', '347696', '347924', '348005', '34804', '348559', '348619', '349082', '349840', '350212', '35026', '350884', '351033', '35117', '351359', '351656', '351779', '351932', '35209', '35257', '352754', '353234', '353741', '35376', '354050', '354082', '354257', '354452', '354487', '354677', '35505', '355352', '355825', '356185', '356532', '356765', '35709', '35767', '35799', '358299', '358588', '359225', '359622', '35966', '359677', '360486', '360744', '361102', '361196', '36157', '36167', '36188', '362869', '363364', '363399', '36354', '36392', '364192', '364314', '365649', '366329', '36820', '368245', '369407', '37032', '370429', '370556', '371032', '371930', '37218', '372283', '373199', '37359', '3737', '37432', '376926', '377260', '38249', '3833', '38472', '390142', '39015', '390213', '390511', '390617', '390662', '390734', '391077', '391387', '39158', '391754', '391910', '392357', '392358', '392679', '393340', '393760', '394055', '39415', '3942', '394860', '395190', '395201', '395264', '395358', '395377', '395388', '395436', '395457', '39576', '395957', '39650', '40537', '40577', '40640', '4084', '40968', '40981', '41010', '41071', '41537', '417130', '417141', '417470', '417608', '419335', '41986', '420274', '420375', '420964', '421221', '421501', '42188', '422480', '42325', '423399', '423784', '42439', '424399', '424560', '42505', '425810', '427089', '42736', '427368', '427747', '42823', '428345', '42847', '42905', '429189', '4292', '43014', '43138', '431778', '431976', '432211', '432273', '43358', '4365', '43693', '43732', '437483', '43799', '44033', '44103', '442293', '442881', '443920', '444847', '445027', '44627', '446852', '44906', '451027', '45290', '45305', '45369', '4538', '45598', '456208', '457061', '457706', '45907', '45913', '459655', '460253', '460496', '46204', '4657', '46659', '46715', '468603', '47061', '47069', '47080', '47263', '474558', '47685', '47941', '48292', '48296', '48809', '4881', '48863', '48904', '4894', '48985', '49383', '4940', '49758', '49815', '499', '50095', '50127', '50361', '50507', '5057', '50594', '50927', '51064', '51075', '51105', '51197', '51289', '51434', '51471', '51509', '51578', '5171', '51809', '52013', '52199', '5232', '52380', '5270', '5295', '52970', '53038', '53264', '53415', '53493', '5352', '53528', '53554', '53565', '53580', '53858', '54033', '5427', '54634', '5526', '5559', '55612', '55644', '55738', '56008', '5602', '56145', '56778', '5685', '57068', '57183', '57356', '57441', '5777', '5785', '58016', '58046', '5821', '58228', '58289', '58535', '5854', '58677', '58830', '58889', '58992', '59089', '59209', '59399', '59448', '5948', '59549', '59975', '6003', '60296', '60696', '6076', '61024', '61068', '61129', '61153', '61529', '61546', '6158', '61719', '61939', '61942', '62385', '62770', '62901', '63109', '63147', '6324', '63454', '63644', '63727', '64124', '64190', '6434', '64356', '64579', '64706', '64895', '649', '64906', '65032', '65123', '65246', '65398', '65429', '6629', '66350', '66435', '67136', '6718', '67327', '6733', '68282', '6853', '68616', '69122', '69160', '69198', '69314', '697', '69789', '69876', '70158', '70555', '70759', '71632', '7269', '72825', '73055', '73269', '7360', '7372', '73836', '73999', '7400', '74265', '75488', '76115', '7658', '76600', '76726', '7681', '77310', '77484', '78084', '78198', '78529', '7886', '79080', '79276', '79389', '79714', '7986', '80092', '81183', '82021', '82111', '82540', '82681', '82771', '82774', '83156', '83284', '83671', '83810', '84041', '8407', '84744', '84745', '84950', '84976', '86290', '86325', '86406', '86526', '86688', '86698', '86765', '8683', '87050', '8722', '87232', '8752', '87624', '87638', '87996', '88081', '88311', '88885', '89039', '89090', '8920', '89478', '89601', '90172', '91260', '91474', '91912', '92225', '92422', '92499', '92590', '92690', '92857', '93173', '93261', '93653', '9367', '93808', '93830', '9486', '94889', '94974', '9500', '95109', '95201', '95269', '9529', '95396', '95632', '95846', '9587', '96056', '96135', '96458', '96480', '96641', '96725', '97056', '97089', '97408', '97494', '97645', '977', '97817', '98052', '9821', '98356', '98551', '98552', '98659', '98684', '98909', '98931', '99099', '99145', '9926', '99397', '99582', '9970', '99828', '99835', '9985']\n"
     ]
    }
   ],
   "source": [
    "print(comparacion)"
   ]
  },
  {
   "cell_type": "code",
   "execution_count": 14,
   "metadata": {},
   "outputs": [],
   "source": [
    "df = pd.DataFrame(comparacion, columns=[\"Pacientes\"])\n",
    "df.to_csv('pacientes_procesados.csv', index=False)"
   ]
  },
  {
   "cell_type": "markdown",
   "metadata": {},
   "source": [
    "### AHORA TENGO UN CSV EN EL CUAL CADA LINEA ES CADA UNO DE LOS CSV INDEPENDIENTES QUE TENIA ANTERIORMENTE PARA CADA SUJETO, ¿COMO PUEDO HACER QUE CADA LINEA VUELVA A SER UN CSV INDEPENDIENTE Y ASI TENER 1647 PACIENTES TRAS HABER ELIMINADO LOS 100 Y PICO QUE YA ERAN DIABÉTICOS?"
   ]
  },
  {
   "cell_type": "markdown",
   "metadata": {},
   "source": [
    "1. Lista de csv de los nombres de ficheros\n",
    "1. Ver coincidencias de lista con progresión y lista de ficheros\n",
    "1. Generar un dataframe con n_historia y con variable targer (progresion)\n",
    "\n",
    "df['id'] #columna de identificación\n",
    "df['progresion_diab'] = #target\n",
    "\n",
    "df lista de pacientes que tenemos la variable y y tenemos datos.\n",
    "\n",
    "1. Si estamos con la solución ajustar regresión polinómica\n",
    "\n",
    " 1.pinta 5 pacientes progresores y cinco no progresores\n",
    "\n",
    "pat_id = 5050\n",
    "\n",
    "Plots de variables vs revisiones\n",
    "\n",
    "\n",
    "X_prog = list de matrices(mxn) filas= revisiones, columnas= variables, \n",
    "\n",
    "\n",
    "\n",
    "X_no_prog\n"
   ]
  },
  {
   "cell_type": "code",
   "execution_count": null,
   "metadata": {},
   "outputs": [],
   "source": [
    "df_progresor\n",
    "df_comparacion['progresion'] = df_progresor['progresion'][df_progressor['N_hist'] == df_comparacion['Pacientes']]"
   ]
  },
  {
   "cell_type": "code",
   "execution_count": 5,
   "metadata": {},
   "outputs": [
    {
     "ename": "SyntaxError",
     "evalue": "invalid syntax (<ipython-input-5-5e5490150a06>, line 2)",
     "output_type": "error",
     "traceback": [
      "\u001b[0;36m  File \u001b[0;32m\"<ipython-input-5-5e5490150a06>\"\u001b[0;36m, line \u001b[0;32m2\u001b[0m\n\u001b[0;31m    df['progresion_diab'] = #target\u001b[0m\n\u001b[0m                            ^\u001b[0m\n\u001b[0;31mSyntaxError\u001b[0m\u001b[0;31m:\u001b[0m invalid syntax\n"
     ]
    }
   ],
   "source": [
    "def get_pat(idd,path='./pacientes'):\n",
    "    \n",
    "    \n",
    "    #lee fichero de ese id\n",
    "    "
   ]
  },
  {
   "cell_type": "code",
   "execution_count": 13,
   "metadata": {},
   "outputs": [],
   "source": [
    "import numpy as np\n",
    "\n",
    "idd = '218'\n",
    "X = np.genfromtxt(idd+'.csv',delimiter = ',',usecols = np.arange(21))"
   ]
  },
  {
   "cell_type": "code",
   "execution_count": 14,
   "metadata": {},
   "outputs": [
    {
     "name": "stdout",
     "output_type": "stream",
     "text": [
      "[[ 70.    76.   147.    35.2    0.8    0.79  52.   146.    61.    10.\n",
      "   15.    15.    18.03 157.     3.95  16.   100.      nan   3.41  23.\n",
      "  195.  ]\n",
      " [ 71.    80.   147.    37.     0.8    0.83  54.   184.    52.    10.\n",
      "   16.    16.    19.01 118.     3.82  18.4   84.     5.4    3.34  38.\n",
      "  195.  ]\n",
      " [ 71.    76.   147.    35.2    0.9    0.85  51.   152.    53.      nan\n",
      "   17.    15.    54.12  88.      nan    nan  84.      nan   3.6     nan\n",
      "  209.  ]\n",
      " [ 72.    76.   147.    35.2    0.8    0.79  53.   167.    66.    13.\n",
      "   13.    12.    71.18  94.     2.67  13.2   82.     5.6    3.48  36.\n",
      "  196.  ]\n",
      " [ 72.    77.   147.    35.6    1.     1.09  53.    65.    55.     9.\n",
      "   18.    14.     0.   158.     3.91  18.2   87.     5.2    3.19    nan\n",
      "  155.  ]\n",
      " [ 73.    76.   147.    35.2    0.9    0.85  42.   130.    76.     9.\n",
      "   14.    12.     5.2   94.     3.14  15.3   83.     5.4    3.45  52.\n",
      "  148.  ]\n",
      " [ 73.    80.   147.    37.     0.9     nan  50.   133.    55.     9.\n",
      "   11.    14.     0.    99.     3.03  14.8   83.     5.6    3.3   46.\n",
      "  161.  ]\n",
      " [ 73.    80.   147.    37.     0.8    1.01    nan    nan  52.      nan\n",
      "   14.    15.      nan    nan    nan    nan  88.      nan    nan    nan\n",
      "  158.  ]\n",
      " [ 74.    80.   147.    37.     0.8    0.95  45.   152.    67.     9.\n",
      "   16.    15.    12.57  88.     3.93  18.5   86.     5.4    3.88  41.\n",
      "  142.  ]\n",
      " [ 74.    81.   147.    37.5    0.8    1.06  36.   124.    74.     6.\n",
      "   12.    17.     0.    93.     3.48  17.2   82.     5.5    3.27  44.\n",
      "  170.  ]\n",
      " [ 75.    81.   147.    37.5    0.9    1.06  41.   138.    81.    11.\n",
      "   15.    14.    13.82 100.     2.79  13.8   82.     5.4    4.41    nan\n",
      "  126.  ]]\n"
     ]
    }
   ],
   "source": [
    "print(X)\n",
    "\n"
   ]
  },
  {
   "cell_type": "code",
   "execution_count": 22,
   "metadata": {},
   "outputs": [
    {
     "data": {
      "text/plain": [
       "[<matplotlib.lines.Line2D at 0x7f38d327f4c0>]"
      ]
     },
     "execution_count": 22,
     "metadata": {},
     "output_type": "execute_result"
    },
    {
     "data": {
      "image/png": "[encoded data removed]",
      "text/plain": [
       "<Figure size 432x288 with 1 Axes>"
      ]
     },
     "metadata": {
      "needs_background": "light"
     },
     "output_type": "display_data"
    }
   ],
   "source": [
    "import matplotlib.pyplot as plt\n",
    "\n",
    "\n",
    "\n",
    "plt.plot(X[:,8],'o-')"
   ]
  },
  {
   "cell_type": "code",
   "execution_count": null,
   "metadata": {},
   "outputs": [],
   "source": []
  },
  {
   "cell_type": "code",
   "execution_count": null,
   "metadata": {},
   "outputs": [],
   "source": []
  },
  {
   "cell_type": "code",
   "execution_count": null,
   "metadata": {},
   "outputs": [],
   "source": []
  },
  {
   "cell_type": "code",
   "execution_count": null,
   "metadata": {},
   "outputs": [],
   "source": [
    "from contextlib import ExitStack\n",
    "import math\n",
    "\n",
    "# Generamos una función para leer las líneas de \n",
    "# un fichero.\n",
    "def get_lines(fname):\n",
    "    with open(fname, 'rt') as file:\n",
    "        lines = 0\n",
    "        for l in file: lines += 1\n",
    "    return lines\n",
    "\n",
    "# Función para dividir el fichero csv en varios\n",
    "def split_csv(path_csv, splitby):\n",
    "\n",
    "    with open(path_csv, 'r') as csvfile, ExitStack() as stack:\n",
    "        # Líneas totales del fichero\n",
    "        lines = get_lines(path_csv)\n",
    "\n",
    "        # número de líneas por fichero (excepto el último)\n",
    "        chunk_num_lines = math.floor(lines/splitby)\n",
    "        chunk_num_lines = chunk_num_lines if chunk_num_lines > 0 else 1\n",
    "\n",
    "        # Máximo de ficheros que podemos generar\n",
    "        # por si ponemos un número \"loco\"\n",
    "        max_files = min(lines, splitby)\n",
    "\n",
    "        # Archivos que vamos a crear\n",
    "        filenames = ['chunk{}.csv'.format(i) for i in range(0, max_files)]\n",
    "\n",
    "        # Ficheros (Chunks)\n",
    "        files = [ stack.enter_context(open(fname, 'wt')) for fname in filenames ]\n",
    "\n",
    "        # Índice del fihcero actual\n",
    "        file_index = 0\n",
    "        # Máximo índice\n",
    "        max_index = len(filenames) - 1\n",
    "\n",
    "        # Recorremos el fichero\n",
    "        for idx, line in enumerate(csvfile):\n",
    "            # Obtenemos el chunk sobre el que escribir\n",
    "            # en base al índice actual\n",
    "            file = files[file_index]\n",
    "            # Escribimos línea\n",
    "            file.write(line)\n",
    "\n",
    "            # Actualizamos el índice cuando hayamos escrito\n",
    "            # el máximo de líneas para el fichero\n",
    "            # escepto si file_index == max_index\n",
    "            if (idx + 1) % chunk_num_lines == 0 and file_index < max_index:\n",
    "                file_index += 1"
   ]
  },
  {
   "cell_type": "code",
   "execution_count": null,
   "metadata": {},
   "outputs": [],
   "source": [
    "#get_lines('pacientes_procesados.csv')"
   ]
  },
  {
   "cell_type": "code",
   "execution_count": null,
   "metadata": {},
   "outputs": [],
   "source": [
    "#split_csv('pacientes_procesados.csv', 1648)"
   ]
  },
  {
   "cell_type": "code",
   "execution_count": null,
   "metadata": {},
   "outputs": [],
   "source": []
  },
  {
   "cell_type": "code",
   "execution_count": null,
   "metadata": {},
   "outputs": [],
   "source": []
  },
  {
   "cell_type": "code",
   "execution_count": 15,
   "metadata": {},
   "outputs": [
    {
     "ename": "FileNotFoundError",
     "evalue": "[Errno 2] File b'100220' does not exist: b'100220'",
     "output_type": "error",
     "traceback": [
      "\u001b[1;31m---------------------------------------------------------------------------\u001b[0m",
      "\u001b[1;31mFileNotFoundError\u001b[0m                         Traceback (most recent call last)",
      "\u001b[1;32m<ipython-input-15-b6fa1f448ad6>\u001b[0m in \u001b[0;36m<module>\u001b[1;34m\u001b[0m\n\u001b[0;32m      3\u001b[0m \u001b[1;31m# Escribimos un loop que irá a través de cada uno de los nombres de archivo a través de globbing y el resultado final será la lista dataframes\u001b[0m\u001b[1;33m\u001b[0m\u001b[1;33m\u001b[0m\u001b[1;33m\u001b[0m\u001b[0m\n\u001b[0;32m      4\u001b[0m \u001b[1;32mfor\u001b[0m \u001b[0mfilename\u001b[0m \u001b[1;32min\u001b[0m \u001b[0mnew_csv_files\u001b[0m\u001b[1;33m:\u001b[0m\u001b[1;33m\u001b[0m\u001b[1;33m\u001b[0m\u001b[0m\n\u001b[1;32m----> 5\u001b[1;33m     \u001b[0mdata\u001b[0m \u001b[1;33m=\u001b[0m \u001b[0mpd\u001b[0m\u001b[1;33m.\u001b[0m\u001b[0mread_csv\u001b[0m\u001b[1;33m(\u001b[0m\u001b[0mfilename\u001b[0m\u001b[1;33m)\u001b[0m\u001b[1;33m\u001b[0m\u001b[1;33m\u001b[0m\u001b[0m\n\u001b[0m\u001b[0;32m      6\u001b[0m     \u001b[0mlist_data\u001b[0m\u001b[1;33m.\u001b[0m\u001b[0mappend\u001b[0m\u001b[1;33m(\u001b[0m\u001b[0mdata\u001b[0m\u001b[1;33m)\u001b[0m\u001b[1;33m\u001b[0m\u001b[1;33m\u001b[0m\u001b[0m\n\u001b[0;32m      7\u001b[0m \u001b[1;31m#Para chequear que todo está bien, mostramos la list_data por consola\u001b[0m\u001b[1;33m\u001b[0m\u001b[1;33m\u001b[0m\u001b[1;33m\u001b[0m\u001b[0m\n",
      "\u001b[1;32m~\\Anaconda3\\lib\\site-packages\\pandas\\io\\parsers.py\u001b[0m in \u001b[0;36mparser_f\u001b[1;34m(filepath_or_buffer, sep, delimiter, header, names, index_col, usecols, squeeze, prefix, mangle_dupe_cols, dtype, engine, converters, true_values, false_values, skipinitialspace, skiprows, skipfooter, nrows, na_values, keep_default_na, na_filter, verbose, skip_blank_lines, parse_dates, infer_datetime_format, keep_date_col, date_parser, dayfirst, cache_dates, iterator, chunksize, compression, thousands, decimal, lineterminator, quotechar, quoting, doublequote, escapechar, comment, encoding, dialect, error_bad_lines, warn_bad_lines, delim_whitespace, low_memory, memory_map, float_precision)\u001b[0m\n\u001b[0;32m    683\u001b[0m         )\n\u001b[0;32m    684\u001b[0m \u001b[1;33m\u001b[0m\u001b[0m\n\u001b[1;32m--> 685\u001b[1;33m         \u001b[1;32mreturn\u001b[0m \u001b[0m_read\u001b[0m\u001b[1;33m(\u001b[0m\u001b[0mfilepath_or_buffer\u001b[0m\u001b[1;33m,\u001b[0m \u001b[0mkwds\u001b[0m\u001b[1;33m)\u001b[0m\u001b[1;33m\u001b[0m\u001b[1;33m\u001b[0m\u001b[0m\n\u001b[0m\u001b[0;32m    686\u001b[0m \u001b[1;33m\u001b[0m\u001b[0m\n\u001b[0;32m    687\u001b[0m     \u001b[0mparser_f\u001b[0m\u001b[1;33m.\u001b[0m\u001b[0m__name__\u001b[0m \u001b[1;33m=\u001b[0m \u001b[0mname\u001b[0m\u001b[1;33m\u001b[0m\u001b[1;33m\u001b[0m\u001b[0m\n",
      "\u001b[1;32m~\\Anaconda3\\lib\\site-packages\\pandas\\io\\parsers.py\u001b[0m in \u001b[0;36m_read\u001b[1;34m(filepath_or_buffer, kwds)\u001b[0m\n\u001b[0;32m    455\u001b[0m \u001b[1;33m\u001b[0m\u001b[0m\n\u001b[0;32m    456\u001b[0m     \u001b[1;31m# Create the parser.\u001b[0m\u001b[1;33m\u001b[0m\u001b[1;33m\u001b[0m\u001b[1;33m\u001b[0m\u001b[0m\n\u001b[1;32m--> 457\u001b[1;33m     \u001b[0mparser\u001b[0m \u001b[1;33m=\u001b[0m \u001b[0mTextFileReader\u001b[0m\u001b[1;33m(\u001b[0m\u001b[0mfp_or_buf\u001b[0m\u001b[1;33m,\u001b[0m \u001b[1;33m**\u001b[0m\u001b[0mkwds\u001b[0m\u001b[1;33m)\u001b[0m\u001b[1;33m\u001b[0m\u001b[1;33m\u001b[0m\u001b[0m\n\u001b[0m\u001b[0;32m    458\u001b[0m \u001b[1;33m\u001b[0m\u001b[0m\n\u001b[0;32m    459\u001b[0m     \u001b[1;32mif\u001b[0m \u001b[0mchunksize\u001b[0m \u001b[1;32mor\u001b[0m \u001b[0miterator\u001b[0m\u001b[1;33m:\u001b[0m\u001b[1;33m\u001b[0m\u001b[1;33m\u001b[0m\u001b[0m\n",
      "\u001b[1;32m~\\Anaconda3\\lib\\site-packages\\pandas\\io\\parsers.py\u001b[0m in \u001b[0;36m__init__\u001b[1;34m(self, f, engine, **kwds)\u001b[0m\n\u001b[0;32m    893\u001b[0m             \u001b[0mself\u001b[0m\u001b[1;33m.\u001b[0m\u001b[0moptions\u001b[0m\u001b[1;33m[\u001b[0m\u001b[1;34m\"has_index_names\"\u001b[0m\u001b[1;33m]\u001b[0m \u001b[1;33m=\u001b[0m \u001b[0mkwds\u001b[0m\u001b[1;33m[\u001b[0m\u001b[1;34m\"has_index_names\"\u001b[0m\u001b[1;33m]\u001b[0m\u001b[1;33m\u001b[0m\u001b[1;33m\u001b[0m\u001b[0m\n\u001b[0;32m    894\u001b[0m \u001b[1;33m\u001b[0m\u001b[0m\n\u001b[1;32m--> 895\u001b[1;33m         \u001b[0mself\u001b[0m\u001b[1;33m.\u001b[0m\u001b[0m_make_engine\u001b[0m\u001b[1;33m(\u001b[0m\u001b[0mself\u001b[0m\u001b[1;33m.\u001b[0m\u001b[0mengine\u001b[0m\u001b[1;33m)\u001b[0m\u001b[1;33m\u001b[0m\u001b[1;33m\u001b[0m\u001b[0m\n\u001b[0m\u001b[0;32m    896\u001b[0m \u001b[1;33m\u001b[0m\u001b[0m\n\u001b[0;32m    897\u001b[0m     \u001b[1;32mdef\u001b[0m \u001b[0mclose\u001b[0m\u001b[1;33m(\u001b[0m\u001b[0mself\u001b[0m\u001b[1;33m)\u001b[0m\u001b[1;33m:\u001b[0m\u001b[1;33m\u001b[0m\u001b[1;33m\u001b[0m\u001b[0m\n",
      "\u001b[1;32m~\\Anaconda3\\lib\\site-packages\\pandas\\io\\parsers.py\u001b[0m in \u001b[0;36m_make_engine\u001b[1;34m(self, engine)\u001b[0m\n\u001b[0;32m   1133\u001b[0m     \u001b[1;32mdef\u001b[0m \u001b[0m_make_engine\u001b[0m\u001b[1;33m(\u001b[0m\u001b[0mself\u001b[0m\u001b[1;33m,\u001b[0m \u001b[0mengine\u001b[0m\u001b[1;33m=\u001b[0m\u001b[1;34m\"c\"\u001b[0m\u001b[1;33m)\u001b[0m\u001b[1;33m:\u001b[0m\u001b[1;33m\u001b[0m\u001b[1;33m\u001b[0m\u001b[0m\n\u001b[0;32m   1134\u001b[0m         \u001b[1;32mif\u001b[0m \u001b[0mengine\u001b[0m \u001b[1;33m==\u001b[0m \u001b[1;34m\"c\"\u001b[0m\u001b[1;33m:\u001b[0m\u001b[1;33m\u001b[0m\u001b[1;33m\u001b[0m\u001b[0m\n\u001b[1;32m-> 1135\u001b[1;33m             \u001b[0mself\u001b[0m\u001b[1;33m.\u001b[0m\u001b[0m_engine\u001b[0m \u001b[1;33m=\u001b[0m \u001b[0mCParserWrapper\u001b[0m\u001b[1;33m(\u001b[0m\u001b[0mself\u001b[0m\u001b[1;33m.\u001b[0m\u001b[0mf\u001b[0m\u001b[1;33m,\u001b[0m \u001b[1;33m**\u001b[0m\u001b[0mself\u001b[0m\u001b[1;33m.\u001b[0m\u001b[0moptions\u001b[0m\u001b[1;33m)\u001b[0m\u001b[1;33m\u001b[0m\u001b[1;33m\u001b[0m\u001b[0m\n\u001b[0m\u001b[0;32m   1136\u001b[0m         \u001b[1;32melse\u001b[0m\u001b[1;33m:\u001b[0m\u001b[1;33m\u001b[0m\u001b[1;33m\u001b[0m\u001b[0m\n\u001b[0;32m   1137\u001b[0m             \u001b[1;32mif\u001b[0m \u001b[0mengine\u001b[0m \u001b[1;33m==\u001b[0m \u001b[1;34m\"python\"\u001b[0m\u001b[1;33m:\u001b[0m\u001b[1;33m\u001b[0m\u001b[1;33m\u001b[0m\u001b[0m\n",
      "\u001b[1;32m~\\Anaconda3\\lib\\site-packages\\pandas\\io\\parsers.py\u001b[0m in \u001b[0;36m__init__\u001b[1;34m(self, src, **kwds)\u001b[0m\n\u001b[0;32m   1915\u001b[0m         \u001b[0mkwds\u001b[0m\u001b[1;33m[\u001b[0m\u001b[1;34m\"usecols\"\u001b[0m\u001b[1;33m]\u001b[0m \u001b[1;33m=\u001b[0m \u001b[0mself\u001b[0m\u001b[1;33m.\u001b[0m\u001b[0musecols\u001b[0m\u001b[1;33m\u001b[0m\u001b[1;33m\u001b[0m\u001b[0m\n\u001b[0;32m   1916\u001b[0m \u001b[1;33m\u001b[0m\u001b[0m\n\u001b[1;32m-> 1917\u001b[1;33m         \u001b[0mself\u001b[0m\u001b[1;33m.\u001b[0m\u001b[0m_reader\u001b[0m \u001b[1;33m=\u001b[0m \u001b[0mparsers\u001b[0m\u001b[1;33m.\u001b[0m\u001b[0mTextReader\u001b[0m\u001b[1;33m(\u001b[0m\u001b[0msrc\u001b[0m\u001b[1;33m,\u001b[0m \u001b[1;33m**\u001b[0m\u001b[0mkwds\u001b[0m\u001b[1;33m)\u001b[0m\u001b[1;33m\u001b[0m\u001b[1;33m\u001b[0m\u001b[0m\n\u001b[0m\u001b[0;32m   1918\u001b[0m         \u001b[0mself\u001b[0m\u001b[1;33m.\u001b[0m\u001b[0munnamed_cols\u001b[0m \u001b[1;33m=\u001b[0m \u001b[0mself\u001b[0m\u001b[1;33m.\u001b[0m\u001b[0m_reader\u001b[0m\u001b[1;33m.\u001b[0m\u001b[0munnamed_cols\u001b[0m\u001b[1;33m\u001b[0m\u001b[1;33m\u001b[0m\u001b[0m\n\u001b[0;32m   1919\u001b[0m \u001b[1;33m\u001b[0m\u001b[0m\n",
      "\u001b[1;32mpandas\\_libs\\parsers.pyx\u001b[0m in \u001b[0;36mpandas._libs.parsers.TextReader.__cinit__\u001b[1;34m()\u001b[0m\n",
      "\u001b[1;32mpandas\\_libs\\parsers.pyx\u001b[0m in \u001b[0;36mpandas._libs.parsers.TextReader._setup_parser_source\u001b[1;34m()\u001b[0m\n",
      "\u001b[1;31mFileNotFoundError\u001b[0m: [Errno 2] File b'100220' does not exist: b'100220'"
     ]
    }
   ],
   "source": [
    "list_data = []\n",
    "  \n",
    "# Escribimos un loop que irá a través de cada uno de los nombres de archivo a través de globbing y el resultado final será la lista dataframes\n",
    "for filename in new_csv_files:\n",
    "    data = pd.read_csv(filename)\n",
    "    list_data.append(data)\n",
    "#Para chequear que todo está bien, mostramos la list_data por consola\n",
    "#list_data\n",
    " \n",
    "#pd.concat(list_data,axis = 1, sort = False)"
   ]
  },
  {
   "cell_type": "code",
   "execution_count": null,
   "metadata": {},
   "outputs": [],
   "source": []
  }
 ],
 "metadata": {
  "kernelspec": {
   "display_name": "Python 3",
   "language": "python",
   "name": "python3"
  },
  "language_info": {
   "codemirror_mode": {
    "name": "ipython",
    "version": 3
   },
   "file_extension": ".py",
   "mimetype": "text/x-python",
   "name": "python",
   "nbconvert_exporter": "python",
   "pygments_lexer": "ipython3",
   "version": "3.8.5"
  }
 },
 "nbformat": 4,
 "nbformat_minor": 4
}
