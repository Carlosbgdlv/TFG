{
 "cells": [
  {
   "cell_type": "code",
   "execution_count": 1,
   "metadata": {},
   "outputs": [
    {
     "name": "stderr",
     "output_type": "stream",
     "text": [
      "C:\\Users\\ywen2\\Anaconda3\\lib\\site-packages\\statsmodels\\tools\\_testing.py:19: FutureWarning: pandas.util.testing is deprecated. Use the functions in the public API at pandas.testing instead.\n",
      "  import pandas.util.testing as tm\n"
     ]
    }
   ],
   "source": [
    "import pandas as pd \n",
    "import seaborn as sns\n",
    "import matplotlib.pyplot as plt\n",
    "import pylab\n",
    "import scipy.stats as ss\n",
    "import csv\n",
    "import numpy as np\n",
    "import sklearn\n",
    "import glob\n",
    "from io import StringIO\n",
    "from sklearn.model_selection import train_test_split\n",
    "from sklearn import datasets\n",
    "from sklearn import svm\n",
    "from sklearn.neighbors import KNeighborsClassifier\n",
    "from sklearn.tree import DecisionTreeClassifier\n",
    "from sklearn.metrics import classification_report\n",
    "from sklearn.metrics import confusion_matrix\n",
    "from sklearn.model_selection import cross_val_score\n",
    "from sklearn.preprocessing import StandardScaler\n",
    "from sklearn.ensemble import RandomForestClassifier\n",
    "from collections import Counter\n",
    "\n",
    "from tfg_tools import *\n",
    "\n",
    "%load_ext autoreload\n",
    "%autoreload 2"
   ]
  },
  {
   "cell_type": "markdown",
   "metadata": {},
   "source": [
    "Para que sea más sencillo nombrar las variables, vamos a definir dos modelos, añadiremos rev2 para diferenciarlos de los modelos de la revisión 1:\n",
    "- **Modelo 1 rev2**: eliminamos las variables Blood Glucose y Glycated-HB\n",
    "- **Modelo 2 rev2**: eliminamos también Vitamin-D, HOMA, Insulin"
   ]
  },
  {
   "cell_type": "markdown",
   "metadata": {},
   "source": [
    "# 1. PREPROCESADO:"
   ]
  },
  {
   "cell_type": "markdown",
   "metadata": {},
   "source": [
    "- **Cargamos las matrices anteriormente creadas** y que fueron divididas en train y test. Cargamos tanto los pacientes con sus variables y revisiones como las etiquetas asociadas a cada paciente"
   ]
  },
  {
   "cell_type": "code",
   "execution_count": 2,
   "metadata": {},
   "outputs": [],
   "source": [
    "X_train = np.load('Conjunto_train.npy')\n",
    "X_test = np.load('Conjunto_test.npy')\n",
    "y_train = np.load('Labels_train.npy')\n",
    "y_test = np.load('Labels_test.npy')"
   ]
  },
  {
   "cell_type": "markdown",
   "metadata": {},
   "source": [
    "- Cargamos las probabilidades de pertenecer a cada clase para imputarlas como nueva columna a la revisión 2."
   ]
  },
  {
   "cell_type": "code",
   "execution_count": 3,
   "metadata": {},
   "outputs": [],
   "source": [
    "\"\"\"\n",
    "Prob_train_without_BG_HB = np.load('Prob_train_review_1_all_features.npy')\n",
    "Prob_test_without_BG_HB = np.load('Prob_test_review_1_all_features.npy')\n",
    "Prob_train_1_without_BG_HB_VD_Ins_HOMA = np.load('Prob_train_review_1_without_homa_vit_d.npy')\n",
    "Prob_test_1_without_BG_HB_VD_Ins_HOMA = np.load('Prob_test_review_1_without_homa_vit_d.npy')\n",
    "\"\"\"\n",
    "Prob_train_without_BG_HB = np.load('Dec_train_review_1_all_features.npy')\n",
    "Prob_test_without_BG_HB = np.load('Dec_test_review_1_all_features.npy')\n",
    "Prob_train_1_without_BG_HB_VD_Ins_HOMA = np.load('Dec_train_review_1_without_homa_vit_d.npy')\n",
    "Prob_test_1_without_BG_HB_VD_Ins_HOMA = np.load('Dec_test_review_1_without_homa_vit_d.npy')\n"
   ]
  },
  {
   "cell_type": "markdown",
   "metadata": {},
   "source": [
    "- **Comprobamos las dimensiones de cada matriz**, tenemos 1317 pacientes para train y 330 para test (partición 80/20).\n",
    "\n",
    "El 13 hace referencia al número de revisiones que nosotros mismos decicimos como idóneas. 22 son el número de features."
   ]
  },
  {
   "cell_type": "code",
   "execution_count": 4,
   "metadata": {},
   "outputs": [
    {
     "name": "stdout",
     "output_type": "stream",
     "text": [
      "(1317,)\n",
      "(1317, 13, 22)\n",
      "(330,)\n",
      "(330, 13, 22)\n",
      "(1317,)\n",
      "(330,)\n",
      "(1317,)\n",
      "(330,)\n"
     ]
    }
   ],
   "source": [
    "print(y_train.shape)\n",
    "print(X_train.shape)\n",
    "print(y_test.shape)\n",
    "print(X_test.shape)\n",
    "\n",
    "print(Prob_train_without_BG_HB.shape)  \n",
    "print(Prob_test_without_BG_HB.shape)\n",
    "print(Prob_train_1_without_BG_HB_VD_Ins_HOMA.shape)\n",
    "print(Prob_test_1_without_BG_HB_VD_Ins_HOMA.shape)"
   ]
  },
  {
   "cell_type": "markdown",
   "metadata": {},
   "source": [
    "- Como observamos el el histograma, los **datos están desbalanceados**."
   ]
  },
  {
   "cell_type": "code",
   "execution_count": 5,
   "metadata": {},
   "outputs": [
    {
     "data": {
      "image/png": "[encoded data removed]",
      "text/plain": [
       "<Figure size 432x288 with 1 Axes>"
      ]
     },
     "metadata": {
      "needs_background": "light"
     },
     "output_type": "display_data"
    }
   ],
   "source": [
    "plt.hist(y_train)\n",
    "plt.show()"
   ]
  },
  {
   "cell_type": "code",
   "execution_count": 6,
   "metadata": {},
   "outputs": [],
   "source": [
    "X_train_2 = X_train[:,1,:]"
   ]
  },
  {
   "cell_type": "markdown",
   "metadata": {},
   "source": [
    "Vamos a hacer lo siguiente en la función:\n",
    "\n",
    "1. Revisar si hay alguna característica que tenga más del 50% a NaN, entonces habría que considerar eliminarla. Tenemos un problema, porque hay que revisar que tengo más de 50% en todas las revisiones. Para no complicar las cosas, vamos a considerar que trabajamos sólo con tres revisiones (vamos a ver si llegamos rápido a ese punto, en otro caso deberíamos ver si paramos en tres revisiones, que ya es bastante).\n",
    "\n",
    "1. Revisar si hay algún paciente con más de 8 características NaN, con que esto ocurra en cualquiera de las tres revisiones, deberíamos considerarlo que se elimina, en todas las revisiones.\n",
    "\n",
    "## 1.1 Features con problemas:\n",
    "\n",
    "Revisando la información rápidamente hay varias features con problemas:\n",
    "\n",
    "1. **Importante**: las variables *Blood_Glucose* y *Glycated-HB* hay que sacarlas fuera de la base de datos, porque son las que se utilizan para determinar si un pacientes diabético o no.\n",
    "1. Hay cuatro variables que tiene muchos NaN, así que lo que intentaría sería centrarnos en cómo imputarlas, tanto en training como en test. Esto es un poco más complicado de lo que hacemos habitualmente con las bases de datos normales, porque aquí tenemos más datos y de forma un poco más complicada.\n",
    "    * HOMA\n",
    "    * Insulin\n",
    "    * Vitamin-D\n",
    "   \n",
    "Estas son las que más tienen en las tres primeras revisiones. Lo que vamos a hacer es lo siguiente, aprovechando que tenemos un montón de datos y datos temporales vamos a utilizar un esquema diferente para hacer la imputación de forma que sea más razonable, intentando perder el menor número de datos posibles, por ejemplo: \n",
    " * Regresión lineal múltiple con respecto a todas las variables temporales. Otra cosa\n",
    " * Verificar cuál es la correlación entre variables, para una misma revisión, y buscar con las que mayor correlación tengan y proponer un modelo de regresión lineal. \n",
    " \n",
    "Mi propuesta para el TFG: \n",
    " * Vamos a hacer imputación por la mediana (en el caso de Vitamin-D, HOMA e Insulin) casi seguro que vamos a empeorar un poco porque hay muchos NaN, pero la esperanza es que todo se compense.\n",
    " * Si te ves con fuerzas y ganas probamos lo que he comentado anteriormente\n",
    "\n"
   ]
  },
  {
   "cell_type": "code",
   "execution_count": 7,
   "metadata": {},
   "outputs": [],
   "source": [
    "feature_names = ['Age','Weight','Size','IMC','Creatinine','Cystatin','HDL','LDL','Triglyciredes','GOT','GPT','GGT','Albuminuria','Ferritin','HOMA','Insulin','Blood_Glucose','Glycated-HB','PCR','Vitamin-D','TAS','TAD','Date']\n",
    "    \n",
    "df = pd.DataFrame(X_train_2,columns = feature_names[:-1])"
   ]
  },
  {
   "cell_type": "code",
   "execution_count": 8,
   "metadata": {},
   "outputs": [
    {
     "name": "stdout",
     "output_type": "stream",
     "text": [
      "Age 2\n",
      "Weight 13\n",
      "Size 4\n",
      "IMC 15\n",
      "Creatinine 5\n",
      "Cystatin 141\n",
      "HDL 100\n",
      "LDL 119\n",
      "Triglyciredes 8\n",
      "GOT 200\n",
      "GPT 8\n",
      "GGT 35\n",
      "Albuminuria 166\n",
      "Ferritin 81\n",
      "HOMA 919\n",
      "Insulin 903\n",
      "Blood_Glucose 3\n",
      "Glycated-HB 650\n",
      "PCR 132\n",
      "Vitamin-D 993\n"
     ]
    }
   ],
   "source": [
    "for index,value in enumerate (df.isnull().sum()):\n",
    "        if value !=0:\n",
    "            print(df.columns[index],value)"
   ]
  },
  {
   "cell_type": "markdown",
   "metadata": {},
   "source": [
    "Creamos una nueva variable: **X_train_imp**, obtenida de aplicar la función imputing_data a X_train. Devuelve lo siguiente\n",
    "\n",
    "- Nº de revisión\n",
    "- Features\n",
    "- Features con sus respectivos NaN (no aparecen las features eliminadas previamente por la función)"
   ]
  },
  {
   "cell_type": "code",
   "execution_count": 9,
   "metadata": {},
   "outputs": [
    {
     "name": "stdout",
     "output_type": "stream",
     "text": [
      "review 0\n",
      "review 1\n",
      "review 2\n"
     ]
    }
   ],
   "source": [
    "X_train_sin_NaN_modelo1_rev2_imputing, imputed_data = imputing_data(X_train)"
   ]
  },
  {
   "cell_type": "markdown",
   "metadata": {},
   "source": [
    "- Obtenemos las **dos primeras revisiones** ya que nos es más sencillo trabajar. El resultado obtenido será extrapolable a un mayor número de revisiones."
   ]
  },
  {
   "cell_type": "code",
   "execution_count": 10,
   "metadata": {},
   "outputs": [],
   "source": [
    "#Get the second review\n",
    "\n",
    "X_train_rev2_imputed = X_train_sin_NaN_modelo1_rev2_imputing[1]"
   ]
  },
  {
   "cell_type": "code",
   "execution_count": 11,
   "metadata": {},
   "outputs": [
    {
     "name": "stdout",
     "output_type": "stream",
     "text": [
      "(1317, 21)\n"
     ]
    }
   ],
   "source": [
    "newX_train_modelo1_rev2 = np.concatenate((X_train_rev2_imputed, Prob_train_without_BG_HB[:,np.newaxis]), axis=1)\n",
    "print(newX_train_modelo1_rev2.shape)"
   ]
  },
  {
   "cell_type": "markdown",
   "metadata": {},
   "source": [
    "### Undersampling:\n",
    "\n",
    "Las técnicas de *undersampling* eliminan ejemplos del conjunto de datos de entrenamiento que pertenecen a la clase mayoritaria para equilibrar mejor la distribución de clases.\n",
    "\n",
    "La técnica de submuestreo más simple implica la selección aleatoria de ejemplos de la clase mayoritaria y su eliminación del conjunto de datos de entrenamiento. Esto se conoce como submuestreo aleatorio. Aunque simple y eficaz, una limitación de esta técnica es que los ejemplos se eliminan sin preocuparse por su utilidad o importancia para determinar el límite de decisión entre las clases. Esto significa que es posible, o incluso probable, que se elimine información útil.\n",
    "\n",
    "Una extensión de este enfoque es ser más exigente con respecto a los ejemplos de la clase mayoritaria que se eliminan. Por lo general, se trata de modelos heurísticos o de aprendizaje que intentan identificar ejemplos redundantes para la eliminación o ejemplos útiles para la no eliminación"
   ]
  },
  {
   "cell_type": "markdown",
   "metadata": {},
   "source": [
    "# 2. PREDICCIÓN"
   ]
  },
  {
   "cell_type": "markdown",
   "metadata": {},
   "source": [
    "### 2.1 Random Forest"
   ]
  },
  {
   "cell_type": "markdown",
   "metadata": {},
   "source": [
    "Debemos probar una amplia gama de valores y ver qué funciona. Intentaremos ajustar el siguiente conjunto de hiperparámetros:\n",
    "\n",
    "- max_features = max number of features considered for splitting a node\n",
    "- min_samples_split = min number of data points placed in a node before the node is split\n",
    "- min_samples_leaf = min number of data points allowed in a leaf node"
   ]
  },
  {
   "cell_type": "markdown",
   "metadata": {},
   "source": [
    "Para usar **RandomizedSearchCV**, primero necesitamos crear una cuadrícula de parámetros para muestrear durante el ajuste:"
   ]
  },
  {
   "cell_type": "code",
   "execution_count": 12,
   "metadata": {},
   "outputs": [
    {
     "name": "stdout",
     "output_type": "stream",
     "text": [
      "{'max_features': ['auto', 'sqrt', 'log2'], 'min_samples_split': [2, 5, 10], 'min_samples_leaf': [1, 2, 4, 8, 10, 12, 14, 16, 18, 20]}\n"
     ]
    }
   ],
   "source": [
    "from sklearn.model_selection import RandomizedSearchCV\n",
    "# Number of features to consider at every split\n",
    "max_features = ['auto', 'sqrt','log2']\n",
    "# Minimum number of samples required to split a node\n",
    "min_samples_split = [2, 5, 10]\n",
    "# Minimum number of samples required at each leaf node\n",
    "min_samples_leaf = [1, 2, 4,8,10,12,14,16,18,20]\n",
    "# Create the random grid\n",
    "random_grid = {'max_features': max_features,\n",
    "               'min_samples_split': min_samples_split,\n",
    "               'min_samples_leaf': min_samples_leaf,}\n",
    "print(random_grid)"
   ]
  },
  {
   "cell_type": "markdown",
   "metadata": {},
   "source": [
    "En cada iteración, el algoritmo elegirá una combinación diferente de las características. El beneficio de una búsqueda aleatoria es que no probamos todas las combinaciones, sino que seleccionamos al azar para muestrear una amplia gama de valores."
   ]
  },
  {
   "cell_type": "markdown",
   "metadata": {},
   "source": [
    "**Grid Search**\n",
    "\n",
    "GridSearchCV es una clase disponible en scikit-learn que permite evaluar y seleccionar de forma sistemática los parámetros de un modelo. Indicándole un modelo y los parámetros a probar, puede evaluar el rendimiento del primero en función de los segundos mediante validación cruzada.\n",
    "\n",
    "- cv, que es el número de pliegues que se deben usar para la validación cruzada. \n",
    "\n",
    "Más pliegues de cv reducen las posibilidades de sobreajuste, pero aumentarlo aumentará el tiempo de ejecución."
   ]
  },
  {
   "cell_type": "markdown",
   "metadata": {},
   "source": [
    "**Balanced Random Forest** es una modificación de RF, donde por cada árbol se construyen dos conjuntos bootstrap del mismo tamaño, igual al tamaño de la clase minoritaria: uno para la clase minoritaria, el otro para la clase mayoritaria. Conjuntamente, estos dos conjuntos constituyen el conjunto de entrenamiento."
   ]
  },
  {
   "cell_type": "code",
   "execution_count": 13,
   "metadata": {},
   "outputs": [],
   "source": [
    "# First create the base model to tune\n",
    "\n",
    "#Creo que es mejor la estrategia que se presenta en from imblearn.ensemble import BalancedRandomForestClassifier\n",
    "from imblearn.ensemble import BalancedRandomForestClassifier\n",
    "\n",
    "rf_1 = BalancedRandomForestClassifier(n_estimators=150, criterion='gini',  \n",
    "                   bootstrap=True, oob_score=False, class_weight = 'balanced_subsample')"
   ]
  },
  {
   "cell_type": "code",
   "execution_count": 14,
   "metadata": {},
   "outputs": [],
   "source": [
    "from sklearn.model_selection import GridSearchCV\n",
    "# Use the random grid to search for best hyperparameters\n",
    "# Grid search of parameters, using 7 fold cross validation,\n",
    "\n",
    "grid_random = GridSearchCV(rf_1, random_grid, cv=7 , n_jobs = -1, verbose = 3)"
   ]
  },
  {
   "cell_type": "code",
   "execution_count": 15,
   "metadata": {
    "scrolled": true
   },
   "outputs": [
    {
     "name": "stdout",
     "output_type": "stream",
     "text": [
      "Fitting 7 folds for each of 90 candidates, totalling 630 fits\n"
     ]
    },
    {
     "data": {
      "text/plain": [
       "GridSearchCV(cv=7,\n",
       "             estimator=BalancedRandomForestClassifier(class_weight='balanced_subsample',\n",
       "                                                      n_estimators=150),\n",
       "             n_jobs=-1,\n",
       "             param_grid={'max_features': ['auto', 'sqrt', 'log2'],\n",
       "                         'min_samples_leaf': [1, 2, 4, 8, 10, 12, 14, 16, 18,\n",
       "                                              20],\n",
       "                         'min_samples_split': [2, 5, 10]},\n",
       "             verbose=3)"
      ]
     },
     "execution_count": 15,
     "metadata": {},
     "output_type": "execute_result"
    }
   ],
   "source": [
    "# Fit the random search model\n",
    "grid_random.fit(newX_train_modelo1_rev2, y_train)"
   ]
  },
  {
   "cell_type": "code",
   "execution_count": 16,
   "metadata": {},
   "outputs": [
    {
     "data": {
      "text/plain": [
       "{'max_features': 'sqrt', 'min_samples_leaf': 1, 'min_samples_split': 10}"
      ]
     },
     "execution_count": 16,
     "metadata": {},
     "output_type": "execute_result"
    }
   ],
   "source": [
    "grid_random.best_params_"
   ]
  },
  {
   "cell_type": "markdown",
   "metadata": {},
   "source": [
    "Creamos un **nuevo modelo** teniendo en cuenta los hiperparámetros que nos devuelve Grid_Search"
   ]
  },
  {
   "cell_type": "code",
   "execution_count": 17,
   "metadata": {},
   "outputs": [],
   "source": [
    "rf_2 = BalancedRandomForestClassifier(n_estimators=1000, criterion='gini', max_features = grid_random.best_params_['max_features'],\n",
    "                min_samples_leaf = grid_random.best_params_['min_samples_leaf'], min_samples_split = grid_random.best_params_['min_samples_split'],    \n",
    "                   bootstrap=True, oob_score=False, class_weight = 'balanced_subsample',n_jobs=-1,verbose = 3)"
   ]
  },
  {
   "cell_type": "code",
   "execution_count": 18,
   "metadata": {},
   "outputs": [
    {
     "name": "stderr",
     "output_type": "stream",
     "text": [
      "[Parallel(n_jobs=-1)]: Using backend ThreadingBackend with 4 concurrent workers.\n"
     ]
    },
    {
     "name": "stdout",
     "output_type": "stream",
     "text": [
      "building tree 2 of 1000building tree 3 of 1000building tree 4 of 1000\n",
      "\n",
      "\n",
      "building tree 1 of 1000\n",
      "building tree 6 of 1000\n",
      "building tree 5 of 1000\n",
      "building tree 7 of 1000\n",
      "building tree 8 of 1000\n",
      "building tree 11 of 1000building tree 9 of 1000\n",
      "\n",
      "building tree 10 of 1000\n",
      "building tree 12 of 1000\n",
      "building tree 15 of 1000\n",
      "building tree 13 of 1000building tree 14 of 1000\n",
      "\n",
      "building tree 16 of 1000\n",
      "building tree 17 of 1000\n",
      "building tree 19 of 1000\n",
      "building tree 18 of 1000\n",
      "building tree 21 of 1000\n",
      "building tree 20 of 1000\n",
      "building tree 23 of 1000\n",
      "building tree 22 of 1000\n",
      "building tree 24 of 1000\n",
      "building tree 25 of 1000\n",
      "building tree 26 of 1000\n",
      "building tree 27 of 1000\n",
      "building tree 28 of 1000\n",
      "building tree 29 of 1000\n",
      "building tree 30 of 1000\n",
      "building tree 31 of 1000\n",
      "building tree 32 of 1000building tree 33 of 1000\n",
      "\n",
      "building tree 34 of 1000\n",
      "building tree 35 of 1000\n",
      "building tree 36 of 1000\n",
      "building tree 37 of 1000"
     ]
    },
    {
     "name": "stderr",
     "output_type": "stream",
     "text": [
      "[Parallel(n_jobs=-1)]: Done  24 tasks      | elapsed:    0.3s\n"
     ]
    },
    {
     "name": "stdout",
     "output_type": "stream",
     "text": [
      "\n",
      "building tree 38 of 1000\n",
      "building tree 39 of 1000\n",
      "building tree 40 of 1000\n",
      "building tree 41 of 1000\n",
      "building tree 42 of 1000\n",
      "building tree 43 of 1000\n",
      "building tree 45 of 1000\n",
      "building tree 44 of 1000\n",
      "building tree 46 of 1000building tree 49 of 1000\n",
      "\n",
      "building tree 47 of 1000building tree 48 of 1000\n",
      "\n",
      "building tree 51 of 1000\n",
      "building tree 50 of 1000\n",
      "building tree 52 of 1000building tree 53 of 1000\n",
      "\n",
      "building tree 54 of 1000\n",
      "building tree 55 of 1000\n",
      "building tree 56 of 1000\n",
      "building tree 57 of 1000\n",
      "building tree 58 of 1000\n",
      "building tree 59 of 1000\n",
      "building tree 60 of 1000\n",
      "building tree 61 of 1000\n",
      "building tree 63 of 1000\n",
      "building tree 62 of 1000\n",
      "building tree 64 of 1000\n",
      "building tree 67 of 1000building tree 65 of 1000\n",
      "\n",
      "building tree 66 of 1000\n",
      "building tree 68 of 1000\n",
      "building tree 69 of 1000\n",
      "building tree 70 of 1000\n",
      "building tree 71 of 1000\n",
      "building tree 72 of 1000\n",
      "building tree 74 of 1000\n",
      "building tree 73 of 1000\n",
      "building tree 75 of 1000\n",
      "building tree 76 of 1000\n",
      "building tree 77 of 1000\n",
      "building tree 78 of 1000\n",
      "building tree 80 of 1000\n",
      "building tree 79 of 1000\n",
      "building tree 81 of 1000\n",
      "building tree 82 of 1000\n",
      "building tree 83 of 1000\n",
      "building tree 84 of 1000\n",
      "building tree 85 of 1000\n",
      "building tree 86 of 1000\n",
      "building tree 87 of 1000\n",
      "building tree 88 of 1000\n",
      "building tree 89 of 1000\n",
      "building tree 90 of 1000\n",
      "building tree 91 of 1000\n",
      "building tree 92 of 1000\n",
      "building tree 93 of 1000\n",
      "building tree 94 of 1000\n",
      "building tree 95 of 1000\n",
      "building tree 96 of 1000\n",
      "building tree 97 of 1000\n",
      "building tree 99 of 1000\n",
      "building tree 98 of 1000\n",
      "building tree 100 of 1000\n",
      "building tree 101 of 1000\n",
      "building tree 102 of 1000\n",
      "building tree 104 of 1000building tree 103 of 1000\n",
      "\n",
      "building tree 105 of 1000\n",
      "building tree 106 of 1000\n",
      "building tree 107 of 1000\n",
      "building tree 108 of 1000\n",
      "building tree 109 of 1000\n",
      "building tree 110 of 1000\n",
      "building tree 111 of 1000\n",
      "building tree 113 of 1000\n",
      "building tree 112 of 1000\n",
      "building tree 114 of 1000\n",
      "building tree 115 of 1000\n",
      "building tree 116 of 1000\n",
      "building tree 117 of 1000\n",
      "building tree 118 of 1000\n",
      "building tree 119 of 1000\n",
      "building tree 120 of 1000\n",
      "building tree 121 of 1000\n",
      "building tree 122 of 1000\n",
      "building tree 124 of 1000"
     ]
    },
    {
     "name": "stderr",
     "output_type": "stream",
     "text": [
      "[Parallel(n_jobs=-1)]: Done 120 tasks      | elapsed:    1.3s\n"
     ]
    },
    {
     "name": "stdout",
     "output_type": "stream",
     "text": [
      "building tree 123 of 1000\n",
      "\n",
      "building tree 126 of 1000\n",
      "building tree 125 of 1000\n",
      "building tree 127 of 1000\n",
      "building tree 128 of 1000\n",
      "building tree 129 of 1000\n",
      "building tree 130 of 1000\n",
      "building tree 131 of 1000\n",
      "building tree 132 of 1000\n",
      "building tree 133 of 1000building tree 134 of 1000\n",
      "building tree 135 of 1000\n",
      "\n",
      "building tree 136 of 1000\n",
      "building tree 138 of 1000\n",
      "building tree 137 of 1000\n",
      "building tree 139 of 1000\n",
      "building tree 140 of 1000\n",
      "building tree 141 of 1000\n",
      "building tree 142 of 1000\n",
      "building tree 143 of 1000\n",
      "building tree 144 of 1000\n",
      "building tree 146 of 1000\n",
      "building tree 145 of 1000\n",
      "building tree 147 of 1000\n",
      "building tree 148 of 1000\n",
      "building tree 149 of 1000\n",
      "building tree 150 of 1000\n",
      "building tree 151 of 1000\n",
      "building tree 152 of 1000\n",
      "building tree 153 of 1000\n",
      "building tree 154 of 1000\n",
      "building tree 155 of 1000\n",
      "building tree 156 of 1000\n",
      "building tree 157 of 1000\n",
      "building tree 158 of 1000\n",
      "building tree 159 of 1000building tree 161 of 1000\n",
      "\n",
      "building tree 160 of 1000\n",
      "building tree 162 of 1000\n",
      "building tree 163 of 1000\n",
      "building tree 164 of 1000\n",
      "building tree 165 of 1000\n",
      "building tree 166 of 1000building tree 167 of 1000\n",
      "\n",
      "building tree 168 of 1000\n",
      "building tree 169 of 1000\n",
      "building tree 170 of 1000\n",
      "building tree 171 of 1000\n",
      "building tree 173 of 1000building tree 172 of 1000\n",
      "\n",
      "building tree 174 of 1000\n",
      "building tree 175 of 1000\n",
      "building tree 176 of 1000building tree 177 of 1000\n",
      "\n",
      "building tree 178 of 1000\n",
      "building tree 179 of 1000\n",
      "building tree 180 of 1000\n",
      "building tree 181 of 1000\n",
      "building tree 182 of 1000\n",
      "building tree 183 of 1000\n",
      "building tree 184 of 1000\n",
      "building tree 185 of 1000\n",
      "building tree 186 of 1000\n",
      "building tree 187 of 1000\n",
      "building tree 188 of 1000\n",
      "building tree 189 of 1000\n",
      "building tree 191 of 1000\n",
      "building tree 192 of 1000building tree 190 of 1000building tree 193 of 1000\n",
      "\n",
      "\n",
      "building tree 194 of 1000\n",
      "building tree 195 of 1000\n",
      "building tree 197 of 1000\n",
      "building tree 196 of 1000\n",
      "building tree 198 of 1000\n",
      "building tree 200 of 1000\n",
      "building tree 199 of 1000\n",
      "building tree 201 of 1000\n",
      "building tree 202 of 1000\n",
      "building tree 203 of 1000\n",
      "building tree 204 of 1000\n",
      "building tree 205 of 1000\n",
      "building tree 206 of 1000\n",
      "building tree 209 of 1000building tree 207 of 1000\n",
      "\n",
      "building tree 208 of 1000\n",
      "building tree 211 of 1000\n",
      "building tree 210 of 1000\n",
      "building tree 212 of 1000\n",
      "building tree 213 of 1000\n",
      "building tree 214 of 1000\n",
      "building tree 215 of 1000\n",
      "building tree 216 of 1000\n",
      "building tree 217 of 1000\n",
      "building tree 218 of 1000\n",
      "building tree 219 of 1000\n",
      "building tree 220 of 1000\n",
      "building tree 221 of 1000\n",
      "building tree 224 of 1000building tree 222 of 1000\n",
      "\n",
      "building tree 223 of 1000\n",
      "building tree 225 of 1000\n",
      "building tree 227 of 1000\n",
      "building tree 226 of 1000\n",
      "building tree 228 of 1000\n",
      "building tree 229 of 1000\n",
      "building tree 231 of 1000\n",
      "building tree 230 of 1000\n",
      "building tree 232 of 1000\n",
      "building tree 233 of 1000\n",
      "building tree 234 of 1000building tree 235 of 1000\n",
      "\n",
      "building tree 236 of 1000\n",
      "building tree 237 of 1000\n",
      "building tree 238 of 1000\n",
      "building tree 239 of 1000\n",
      "building tree 240 of 1000\n",
      "building tree 241 of 1000\n",
      "building tree 243 of 1000\n",
      "building tree 242 of 1000\n",
      "building tree 244 of 1000\n",
      "building tree 247 of 1000building tree 245 of 1000\n",
      "building tree 246 of 1000\n",
      "\n",
      "building tree 248 of 1000\n",
      "building tree 251 of 1000building tree 249 of 1000\n",
      "building tree 250 of 1000\n",
      "\n",
      "building tree 252 of 1000\n",
      "building tree 254 of 1000\n",
      "building tree 255 of 1000\n",
      "building tree 253 of 1000\n",
      "building tree 256 of 1000\n",
      "building tree 257 of 1000\n",
      "building tree 258 of 1000\n",
      "building tree 259 of 1000\n",
      "building tree 260 of 1000\n",
      "building tree 261 of 1000\n",
      "building tree 262 of 1000\n",
      "building tree 263 of 1000\n",
      "building tree 264 of 1000\n",
      "building tree 265 of 1000\n",
      "building tree 266 of 1000\n",
      "building tree 267 of 1000\n",
      "building tree 268 of 1000\n",
      "building tree 269 of 1000\n",
      "building tree 270 of 1000\n",
      "building tree 271 of 1000\n",
      "building tree 272 of 1000\n",
      "building tree 273 of 1000\n",
      "building tree 275 of 1000building tree 274 of 1000\n",
      "\n",
      "building tree 276 of 1000\n",
      "building tree 277 of 1000\n",
      "building tree 278 of 1000\n",
      "building tree 279 of 1000\n",
      "building tree 280 of 1000\n",
      "building tree 281 of 1000\n"
     ]
    },
    {
     "name": "stderr",
     "output_type": "stream",
     "text": [
      "[Parallel(n_jobs=-1)]: Done 280 tasks      | elapsed:    3.0s\n"
     ]
    },
    {
     "name": "stdout",
     "output_type": "stream",
     "text": [
      "building tree 283 of 1000\n",
      "building tree 282 of 1000\n",
      "building tree 284 of 1000\n",
      "building tree 285 of 1000\n",
      "building tree 286 of 1000\n",
      "building tree 287 of 1000\n",
      "building tree 288 of 1000\n",
      "building tree 289 of 1000\n",
      "building tree 290 of 1000\n",
      "building tree 291 of 1000\n",
      "building tree 292 of 1000\n",
      "building tree 293 of 1000building tree 294 of 1000\n",
      "\n",
      "building tree 295 of 1000building tree 296 of 1000\n",
      "\n",
      "building tree 297 of 1000\n",
      "building tree 298 of 1000\n",
      "building tree 299 of 1000\n",
      "building tree 300 of 1000\n",
      "building tree 301 of 1000\n",
      "building tree 302 of 1000\n",
      "building tree 303 of 1000\n",
      "building tree 304 of 1000\n",
      "building tree 305 of 1000\n",
      "building tree 306 of 1000\n",
      "building tree 307 of 1000\n",
      "building tree 308 of 1000\n",
      "building tree 309 of 1000\n",
      "building tree 310 of 1000\n",
      "building tree 311 of 1000\n",
      "building tree 312 of 1000\n",
      "building tree 313 of 1000\n",
      "building tree 314 of 1000\n",
      "building tree 316 of 1000building tree 315 of 1000\n",
      "\n",
      "building tree 317 of 1000\n",
      "building tree 318 of 1000\n",
      "building tree 319 of 1000\n",
      "building tree 320 of 1000\n",
      "building tree 321 of 1000\n",
      "building tree 322 of 1000\n",
      "building tree 323 of 1000building tree 324 of 1000\n",
      "\n",
      "building tree 325 of 1000\n",
      "building tree 326 of 1000\n",
      "building tree 327 of 1000\n",
      "building tree 328 of 1000\n",
      "building tree 329 of 1000\n",
      "building tree 330 of 1000\n",
      "building tree 331 of 1000\n",
      "building tree 332 of 1000\n",
      "building tree 333 of 1000\n",
      "building tree 334 of 1000\n",
      "building tree 335 of 1000\n",
      "building tree 336 of 1000\n",
      "building tree 337 of 1000\n",
      "building tree 338 of 1000\n",
      "building tree 339 of 1000\n",
      "building tree 340 of 1000\n",
      "building tree 341 of 1000\n",
      "building tree 343 of 1000\n",
      "building tree 342 of 1000\n",
      "building tree 344 of 1000\n",
      "building tree 345 of 1000\n",
      "building tree 346 of 1000\n",
      "building tree 347 of 1000\n",
      "building tree 348 of 1000\n",
      "building tree 349 of 1000\n",
      "building tree 350 of 1000\n",
      "building tree 351 of 1000building tree 352 of 1000\n",
      "\n",
      "building tree 353 of 1000building tree 355 of 1000\n",
      "building tree 354 of 1000\n",
      "\n",
      "building tree 356 of 1000\n",
      "building tree 357 of 1000building tree 358 of 1000\n",
      "\n",
      "building tree 359 of 1000building tree 360 of 1000\n",
      "\n",
      "building tree 361 of 1000\n",
      "building tree 362 of 1000\n",
      "building tree 363 of 1000\n",
      "building tree 364 of 1000\n",
      "building tree 365 of 1000\n",
      "building tree 367 of 1000\n",
      "building tree 366 of 1000\n",
      "building tree 368 of 1000\n",
      "building tree 369 of 1000\n",
      "building tree 371 of 1000\n",
      "building tree 370 of 1000\n",
      "building tree 372 of 1000\n",
      "building tree 375 of 1000\n",
      "building tree 373 of 1000building tree 374 of 1000\n",
      "\n",
      "building tree 376 of 1000\n",
      "building tree 377 of 1000\n",
      "building tree 378 of 1000building tree 379 of 1000\n",
      "\n",
      "building tree 382 of 1000\n",
      "building tree 380 of 1000\n",
      "building tree 381 of 1000\n",
      "building tree 383 of 1000\n",
      "building tree 384 of 1000building tree 385 of 1000\n",
      "\n",
      "building tree 386 of 1000\n",
      "building tree 387 of 1000\n",
      "building tree 388 of 1000\n",
      "building tree 390 of 1000\n",
      "building tree 389 of 1000\n",
      "building tree 391 of 1000\n",
      "building tree 392 of 1000\n",
      "building tree 393 of 1000\n",
      "building tree 394 of 1000\n",
      "building tree 395 of 1000\n",
      "building tree 396 of 1000\n",
      "building tree 397 of 1000\n",
      "building tree 398 of 1000\n",
      "building tree 399 of 1000\n",
      "building tree 400 of 1000\n",
      "building tree 401 of 1000\n",
      "building tree 402 of 1000\n",
      "building tree 404 of 1000\n",
      "building tree 403 of 1000\n",
      "building tree 405 of 1000\n",
      "building tree 406 of 1000\n",
      "building tree 407 of 1000\n",
      "building tree 408 of 1000\n",
      "building tree 411 of 1000building tree 409 of 1000\n",
      "\n",
      "building tree 410 of 1000\n",
      "building tree 412 of 1000\n",
      "building tree 413 of 1000building tree 415 of 1000building tree 414 of 1000\n",
      "\n",
      "\n",
      "building tree 416 of 1000\n",
      "building tree 417 of 1000\n",
      "building tree 419 of 1000building tree 418 of 1000\n",
      "\n",
      "building tree 420 of 1000\n",
      "building tree 421 of 1000\n",
      "building tree 422 of 1000\n",
      "building tree 423 of 1000\n",
      "building tree 424 of 1000\n",
      "building tree 425 of 1000\n",
      "building tree 427 of 1000\n",
      "building tree 426 of 1000\n",
      "building tree 429 of 1000\n",
      "building tree 428 of 1000\n",
      "building tree 431 of 1000\n",
      "building tree 430 of 1000\n",
      "building tree 432 of 1000\n",
      "building tree 433 of 1000\n",
      "building tree 435 of 1000building tree 434 of 1000\n",
      "\n",
      "building tree 436 of 1000\n",
      "building tree 438 of 1000\n",
      "building tree 437 of 1000\n",
      "building tree 439 of 1000\n",
      "building tree 440 of 1000building tree 442 of 1000\n",
      "\n",
      "building tree 441 of 1000\n",
      "building tree 443 of 1000\n",
      "building tree 445 of 1000\n",
      "building tree 446 of 1000\n",
      "building tree 444 of 1000\n",
      "building tree 447 of 1000\n",
      "building tree 448 of 1000\n",
      "building tree 449 of 1000\n",
      "building tree 450 of 1000\n",
      "building tree 451 of 1000\n",
      "building tree 453 of 1000\n",
      "building tree 452 of 1000\n",
      "building tree 454 of 1000\n",
      "building tree 455 of 1000\n",
      "building tree 456 of 1000\n",
      "building tree 457 of 1000\n",
      "building tree 458 of 1000\n",
      "building tree 460 of 1000building tree 459 of 1000\n",
      "\n",
      "building tree 461 of 1000\n",
      "building tree 462 of 1000\n",
      "building tree 464 of 1000\n",
      "building tree 463 of 1000\n",
      "building tree 465 of 1000\n",
      "building tree 466 of 1000\n",
      "building tree 468 of 1000\n",
      "building tree 469 of 1000building tree 467 of 1000\n",
      "\n",
      "building tree 470 of 1000\n",
      "building tree 472 of 1000building tree 471 of 1000\n",
      "\n",
      "building tree 473 of 1000\n",
      "building tree 475 of 1000\n",
      "building tree 476 of 1000building tree 474 of 1000\n",
      "\n",
      "building tree 477 of 1000\n",
      "building tree 478 of 1000\n",
      "building tree 479 of 1000\n",
      "building tree 480 of 1000\n",
      "building tree 481 of 1000\n",
      "building tree 482 of 1000\n",
      "building tree 483 of 1000\n",
      "building tree 484 of 1000\n",
      "building tree 485 of 1000\n",
      "building tree 486 of 1000\n",
      "building tree 488 of 1000building tree 487 of 1000\n",
      "\n",
      "building tree 489 of 1000\n",
      "building tree 490 of 1000\n",
      "building tree 491 of 1000\n",
      "building tree 492 of 1000\n",
      "building tree 494 of 1000building tree 493 of 1000\n",
      "\n",
      "building tree 495 of 1000\n",
      "building tree 496 of 1000\n",
      "building tree 497 of 1000\n",
      "building tree 499 of 1000\n",
      "building tree 498 of 1000\n",
      "building tree 500 of 1000\n",
      "building tree 501 of 1000\n",
      "building tree 502 of 1000\n",
      "building tree 503 of 1000\n",
      "building tree 504 of 1000\n",
      "building tree 505 of 1000\n",
      "building tree 506 of 1000\n",
      "building tree 507 of 1000\n",
      "building tree 508 of 1000\n",
      "building tree 509 of 1000\n",
      "building tree 511 of 1000\n",
      "building tree 510 of 1000\n",
      "building tree 512 of 1000\n",
      "building tree 514 of 1000building tree 513 of 1000\n",
      "\n",
      "building tree 515 of 1000\n",
      "building tree 516 of 1000\n",
      "building tree 519 of 1000\n",
      "building tree 517 of 1000building tree 518 of 1000\n",
      "\n"
     ]
    },
    {
     "name": "stderr",
     "output_type": "stream",
     "text": [
      "[Parallel(n_jobs=-1)]: Done 504 tasks      | elapsed:    5.4s\n"
     ]
    },
    {
     "name": "stdout",
     "output_type": "stream",
     "text": [
      "building tree 521 of 1000building tree 520 of 1000\n",
      "\n",
      "building tree 522 of 1000\n",
      "building tree 523 of 1000\n",
      "building tree 524 of 1000\n",
      "building tree 526 of 1000\n",
      "building tree 525 of 1000\n",
      "building tree 528 of 1000building tree 529 of 1000building tree 527 of 1000building tree 530 of 1000\n",
      "\n",
      "\n",
      "\n",
      "building tree 533 of 1000\n",
      "building tree 532 of 1000building tree 534 of 1000\n",
      "\n",
      "building tree 531 of 1000\n",
      "building tree 536 of 1000\n",
      "building tree 535 of 1000\n",
      "building tree 537 of 1000\n",
      "building tree 538 of 1000\n",
      "building tree 540 of 1000\n",
      "building tree 541 of 1000\n",
      "building tree 539 of 1000\n",
      "building tree 542 of 1000\n",
      "building tree 545 of 1000\n",
      "building tree 543 of 1000\n",
      "building tree 544 of 1000\n",
      "building tree 546 of 1000\n",
      "building tree 547 of 1000\n",
      "building tree 548 of 1000\n",
      "building tree 549 of 1000\n",
      "building tree 550 of 1000\n",
      "building tree 551 of 1000\n",
      "building tree 553 of 1000\n",
      "building tree 552 of 1000\n",
      "building tree 554 of 1000building tree 555 of 1000\n",
      "\n",
      "building tree 556 of 1000\n",
      "building tree 557 of 1000\n",
      "building tree 560 of 1000building tree 558 of 1000\n",
      "building tree 559 of 1000\n",
      "\n",
      "building tree 561 of 1000\n",
      "building tree 563 of 1000building tree 562 of 1000\n",
      "\n",
      "building tree 564 of 1000\n",
      "building tree 565 of 1000\n",
      "building tree 566 of 1000\n",
      "building tree 567 of 1000\n",
      "building tree 568 of 1000building tree 569 of 1000\n",
      "\n",
      "building tree 570 of 1000\n",
      "building tree 571 of 1000\n",
      "building tree 572 of 1000building tree 573 of 1000\n",
      "\n",
      "building tree 574 of 1000\n",
      "building tree 576 of 1000\n",
      "building tree 575 of 1000\n",
      "building tree 577 of 1000\n",
      "building tree 578 of 1000\n",
      "building tree 580 of 1000\n",
      "building tree 579 of 1000\n",
      "building tree 581 of 1000\n",
      "building tree 582 of 1000\n",
      "building tree 584 of 1000building tree 583 of 1000\n",
      "\n",
      "building tree 585 of 1000\n",
      "building tree 586 of 1000\n",
      "building tree 588 of 1000building tree 587 of 1000\n",
      "\n",
      "building tree 589 of 1000\n",
      "building tree 590 of 1000\n",
      "building tree 592 of 1000\n",
      "building tree 593 of 1000\n",
      "building tree 591 of 1000\n",
      "building tree 595 of 1000\n",
      "building tree 594 of 1000building tree 596 of 1000\n",
      "\n",
      "building tree 597 of 1000\n",
      "building tree 598 of 1000\n",
      "building tree 599 of 1000\n",
      "building tree 600 of 1000\n",
      "building tree 601 of 1000\n",
      "building tree 603 of 1000\n",
      "building tree 602 of 1000\n",
      "building tree 604 of 1000\n",
      "building tree 605 of 1000\n",
      "building tree 606 of 1000\n",
      "building tree 607 of 1000\n",
      "building tree 608 of 1000\n",
      "building tree 609 of 1000\n",
      "building tree 611 of 1000\n",
      "building tree 610 of 1000\n",
      "building tree 612 of 1000\n",
      "building tree 613 of 1000\n",
      "building tree 615 of 1000\n",
      "building tree 614 of 1000\n",
      "building tree 616 of 1000\n",
      "building tree 617 of 1000\n",
      "building tree 618 of 1000\n",
      "building tree 619 of 1000\n",
      "building tree 620 of 1000\n",
      "building tree 621 of 1000\n",
      "building tree 623 of 1000building tree 622 of 1000\n",
      "\n",
      "building tree 624 of 1000\n",
      "building tree 625 of 1000\n",
      "building tree 627 of 1000building tree 626 of 1000\n",
      "\n",
      "building tree 628 of 1000\n",
      "building tree 631 of 1000\n",
      "building tree 630 of 1000building tree 629 of 1000\n",
      "\n",
      "building tree 632 of 1000\n",
      "building tree 633 of 1000\n",
      "building tree 634 of 1000building tree 635 of 1000\n",
      "\n",
      "building tree 636 of 1000\n",
      "building tree 637 of 1000\n",
      "building tree 638 of 1000\n",
      "building tree 639 of 1000\n",
      "building tree 640 of 1000\n",
      "building tree 641 of 1000\n",
      "building tree 642 of 1000\n",
      "building tree 645 of 1000\n",
      "building tree 643 of 1000\n",
      "building tree 644 of 1000\n",
      "building tree 646 of 1000\n",
      "building tree 648 of 1000building tree 647 of 1000\n",
      "\n",
      "building tree 649 of 1000\n",
      "building tree 650 of 1000\n",
      "building tree 651 of 1000\n",
      "building tree 653 of 1000\n",
      "building tree 652 of 1000\n",
      "building tree 654 of 1000\n",
      "building tree 655 of 1000\n",
      "building tree 656 of 1000\n",
      "building tree 657 of 1000\n",
      "building tree 658 of 1000\n",
      "building tree 659 of 1000\n",
      "building tree 660 of 1000\n",
      "building tree 661 of 1000\n",
      "building tree 662 of 1000\n",
      "building tree 663 of 1000\n",
      "building tree 664 of 1000\n",
      "building tree 665 of 1000building tree 666 of 1000\n",
      "\n",
      "building tree 667 of 1000\n",
      "building tree 668 of 1000\n",
      "building tree 670 of 1000\n",
      "building tree 669 of 1000\n",
      "building tree 671 of 1000\n",
      "building tree 672 of 1000\n",
      "building tree 673 of 1000\n",
      "building tree 675 of 1000\n",
      "building tree 674 of 1000\n",
      "building tree 676 of 1000\n",
      "building tree 677 of 1000\n",
      "building tree 678 of 1000\n",
      "building tree 679 of 1000\n",
      "building tree 680 of 1000\n",
      "building tree 681 of 1000\n",
      "building tree 682 of 1000\n",
      "building tree 683 of 1000\n",
      "building tree 685 of 1000\n",
      "building tree 684 of 1000\n",
      "building tree 686 of 1000\n",
      "building tree 687 of 1000\n",
      "building tree 688 of 1000\n",
      "building tree 689 of 1000\n",
      "building tree 691 of 1000\n",
      "building tree 690 of 1000\n",
      "building tree 692 of 1000\n",
      "building tree 693 of 1000\n",
      "building tree 694 of 1000\n",
      "building tree 695 of 1000\n",
      "building tree 696 of 1000\n",
      "building tree 697 of 1000\n",
      "building tree 698 of 1000\n",
      "building tree 700 of 1000\n",
      "building tree 699 of 1000\n",
      "building tree 702 of 1000building tree 701 of 1000\n",
      "\n",
      "building tree 704 of 1000\n",
      "building tree 705 of 1000\n",
      "building tree 703 of 1000\n",
      "building tree 706 of 1000\n",
      "building tree 707 of 1000\n",
      "building tree 709 of 1000\n",
      "building tree 708 of 1000\n",
      "building tree 710 of 1000\n",
      "building tree 711 of 1000\n",
      "building tree 713 of 1000\n",
      "building tree 712 of 1000\n",
      "building tree 714 of 1000\n",
      "building tree 715 of 1000\n",
      "building tree 716 of 1000\n",
      "building tree 717 of 1000\n",
      "building tree 718 of 1000\n",
      "building tree 721 of 1000building tree 720 of 1000\n",
      "\n",
      "building tree 719 of 1000\n",
      "building tree 722 of 1000\n",
      "building tree 723 of 1000\n",
      "building tree 724 of 1000\n",
      "building tree 725 of 1000\n",
      "building tree 726 of 1000\n",
      "building tree 727 of 1000\n",
      "building tree 728 of 1000\n",
      "building tree 729 of 1000\n",
      "building tree 730 of 1000\n",
      "building tree 731 of 1000building tree 732 of 1000\n",
      "\n",
      "building tree 733 of 1000\n",
      "building tree 734 of 1000\n",
      "building tree 735 of 1000\n",
      "building tree 736 of 1000\n",
      "building tree 737 of 1000\n",
      "building tree 738 of 1000\n",
      "building tree 739 of 1000building tree 740 of 1000\n",
      "\n",
      "building tree 741 of 1000\n",
      "building tree 742 of 1000\n",
      "building tree 743 of 1000\n",
      "building tree 744 of 1000\n",
      "building tree 746 of 1000\n",
      "building tree 745 of 1000\n",
      "building tree 747 of 1000\n",
      "building tree 748 of 1000\n",
      "building tree 749 of 1000\n",
      "building tree 750 of 1000\n",
      "building tree 751 of 1000\n",
      "building tree 753 of 1000\n",
      "building tree 752 of 1000\n",
      "building tree 754 of 1000\n",
      "building tree 757 of 1000building tree 756 of 1000\n",
      "\n",
      "building tree 755 of 1000\n",
      "building tree 758 of 1000\n",
      "building tree 759 of 1000\n",
      "building tree 760 of 1000\n",
      "building tree 762 of 1000\n",
      "building tree 761 of 1000\n",
      "building tree 764 of 1000\n",
      "building tree 765 of 1000building tree 763 of 1000\n",
      "\n",
      "building tree 766 of 1000\n",
      "building tree 768 of 1000building tree 767 of 1000\n",
      "\n",
      "building tree 769 of 1000\n",
      "building tree 770 of 1000\n",
      "building tree 771 of 1000\n",
      "building tree 774 of 1000\n",
      "building tree 773 of 1000building tree 772 of 1000\n",
      "\n",
      "building tree 775 of 1000\n",
      "building tree 776 of 1000\n",
      "building tree 778 of 1000building tree 777 of 1000\n",
      "\n",
      "building tree 779 of 1000\n",
      "building tree 780 of 1000\n",
      "building tree 781 of 1000\n",
      "building tree 782 of 1000\n",
      "building tree 783 of 1000\n",
      "building tree 784 of 1000\n",
      "building tree 785 of 1000\n",
      "building tree 786 of 1000\n",
      "building tree 788 of 1000\n",
      "building tree 787 of 1000\n",
      "building tree 790 of 1000\n",
      "building tree 789 of 1000\n",
      "building tree 792 of 1000building tree 791 of 1000\n",
      "\n",
      "building tree 794 of 1000\n",
      "building tree 793 of 1000\n",
      "building tree 795 of 1000\n",
      "building tree 796 of 1000\n",
      "building tree 797 of 1000\n",
      "building tree 798 of 1000\n",
      "building tree 799 of 1000building tree 800 of 1000\n",
      "\n",
      "building tree 801 of 1000\n",
      "building tree 802 of 1000\n",
      "building tree 803 of 1000\n",
      "building tree 805 of 1000building tree 806 of 1000\n",
      "\n",
      "building tree 804 of 1000\n",
      "building tree 807 of 1000\n",
      "building tree 809 of 1000\n",
      "building tree 808 of 1000\n",
      "building tree 810 of 1000\n",
      "building tree 811 of 1000"
     ]
    },
    {
     "name": "stderr",
     "output_type": "stream",
     "text": [
      "[Parallel(n_jobs=-1)]: Done 792 tasks      | elapsed:    8.3s\n"
     ]
    },
    {
     "name": "stdout",
     "output_type": "stream",
     "text": [
      "\n",
      "building tree 812 of 1000\n",
      "building tree 814 of 1000building tree 813 of 1000\n",
      "\n",
      "building tree 815 of 1000\n",
      "building tree 816 of 1000\n",
      "building tree 818 of 1000\n",
      "building tree 817 of 1000\n",
      "building tree 819 of 1000\n",
      "building tree 820 of 1000\n",
      "building tree 821 of 1000building tree 823 of 1000\n",
      "\n",
      "building tree 822 of 1000\n",
      "building tree 824 of 1000\n",
      "building tree 826 of 1000building tree 825 of 1000\n",
      "building tree 827 of 1000\n",
      "\n",
      "building tree 828 of 1000\n",
      "building tree 830 of 1000building tree 831 of 1000\n",
      "\n",
      "building tree 829 of 1000\n",
      "building tree 832 of 1000\n",
      "building tree 833 of 1000\n",
      "building tree 834 of 1000\n",
      "building tree 835 of 1000\n",
      "building tree 836 of 1000\n",
      "building tree 837 of 1000\n",
      "building tree 838 of 1000\n",
      "building tree 839 of 1000\n",
      "building tree 840 of 1000\n",
      "building tree 841 of 1000\n",
      "building tree 842 of 1000\n",
      "building tree 843 of 1000\n",
      "building tree 844 of 1000\n",
      "building tree 845 of 1000\n",
      "building tree 847 of 1000\n",
      "building tree 846 of 1000\n",
      "building tree 848 of 1000\n",
      "building tree 849 of 1000\n",
      "building tree 850 of 1000\n",
      "building tree 851 of 1000building tree 852 of 1000\n",
      "\n",
      "building tree 853 of 1000\n",
      "building tree 854 of 1000\n",
      "building tree 855 of 1000\n",
      "building tree 856 of 1000\n",
      "building tree 857 of 1000\n",
      "building tree 860 of 1000\n",
      "building tree 859 of 1000\n",
      "building tree 858 of 1000\n",
      "building tree 861 of 1000\n",
      "building tree 862 of 1000\n",
      "building tree 864 of 1000building tree 863 of 1000\n",
      "\n",
      "building tree 865 of 1000\n",
      "building tree 866 of 1000\n",
      "building tree 867 of 1000\n",
      "building tree 868 of 1000\n",
      "building tree 869 of 1000building tree 870 of 1000\n",
      "\n",
      "building tree 872 of 1000\n",
      "building tree 871 of 1000\n",
      "building tree 873 of 1000\n",
      "building tree 874 of 1000\n",
      "building tree 876 of 1000\n",
      "building tree 875 of 1000\n",
      "building tree 877 of 1000\n",
      "building tree 878 of 1000\n",
      "building tree 880 of 1000\n",
      "building tree 879 of 1000\n",
      "building tree 881 of 1000\n",
      "building tree 882 of 1000\n",
      "building tree 883 of 1000\n",
      "building tree 884 of 1000\n",
      "building tree 885 of 1000\n",
      "building tree 886 of 1000\n",
      "building tree 887 of 1000\n",
      "building tree 888 of 1000\n",
      "building tree 889 of 1000\n",
      "building tree 890 of 1000\n",
      "building tree 891 of 1000\n",
      "building tree 892 of 1000\n",
      "building tree 894 of 1000\n",
      "building tree 893 of 1000\n",
      "building tree 895 of 1000\n",
      "building tree 896 of 1000\n",
      "building tree 897 of 1000\n",
      "building tree 898 of 1000\n",
      "building tree 899 of 1000\n",
      "building tree 901 of 1000building tree 900 of 1000\n",
      "\n",
      "building tree 902 of 1000\n",
      "building tree 903 of 1000\n",
      "building tree 904 of 1000\n",
      "building tree 905 of 1000\n",
      "building tree 906 of 1000\n",
      "building tree 907 of 1000\n",
      "building tree 908 of 1000\n",
      "building tree 909 of 1000\n",
      "building tree 910 of 1000\n",
      "building tree 912 of 1000\n",
      "building tree 913 of 1000\n",
      "building tree 911 of 1000\n",
      "building tree 914 of 1000\n",
      "building tree 916 of 1000\n",
      "building tree 915 of 1000\n",
      "building tree 917 of 1000\n",
      "building tree 918 of 1000\n",
      "building tree 919 of 1000\n",
      "building tree 920 of 1000\n",
      "building tree 922 of 1000\n",
      "building tree 921 of 1000\n",
      "building tree 923 of 1000\n",
      "building tree 924 of 1000\n",
      "building tree 925 of 1000\n",
      "building tree 926 of 1000\n",
      "building tree 927 of 1000\n",
      "building tree 929 of 1000\n",
      "building tree 928 of 1000\n",
      "building tree 930 of 1000\n",
      "building tree 931 of 1000\n",
      "building tree 932 of 1000\n",
      "building tree 933 of 1000\n",
      "building tree 934 of 1000\n",
      "building tree 935 of 1000\n",
      "building tree 936 of 1000building tree 937 of 1000\n",
      "\n",
      "building tree 938 of 1000\n",
      "building tree 939 of 1000\n",
      "building tree 940 of 1000\n",
      "building tree 941 of 1000\n",
      "building tree 942 of 1000\n",
      "building tree 944 of 1000\n",
      "building tree 943 of 1000\n",
      "building tree 945 of 1000\n",
      "building tree 946 of 1000\n",
      "building tree 947 of 1000\n",
      "building tree 948 of 1000\n",
      "building tree 949 of 1000\n",
      "building tree 950 of 1000building tree 951 of 1000\n",
      "\n",
      "building tree 952 of 1000\n",
      "building tree 953 of 1000\n",
      "building tree 954 of 1000\n",
      "building tree 955 of 1000\n",
      "building tree 957 of 1000building tree 956 of 1000\n",
      "\n",
      "building tree 958 of 1000\n",
      "building tree 959 of 1000\n",
      "building tree 961 of 1000\n",
      "building tree 960 of 1000\n",
      "building tree 962 of 1000building tree 963 of 1000\n",
      "\n",
      "building tree 965 of 1000\n",
      "building tree 964 of 1000\n",
      "building tree 967 of 1000\n",
      "building tree 966 of 1000\n",
      "building tree 969 of 1000building tree 968 of 1000\n",
      "\n",
      "building tree 970 of 1000\n",
      "building tree 971 of 1000\n",
      "building tree 973 of 1000building tree 972 of 1000\n",
      "\n",
      "building tree 974 of 1000\n",
      "building tree 976 of 1000building tree 975 of 1000\n",
      "\n",
      "building tree 977 of 1000\n",
      "building tree 978 of 1000\n",
      "building tree 981 of 1000\n",
      "building tree 979 of 1000\n",
      "building tree 980 of 1000\n",
      "building tree 982 of 1000\n",
      "building tree 983 of 1000\n",
      "building tree 984 of 1000\n",
      "building tree 985 of 1000\n",
      "building tree 986 of 1000\n",
      "building tree 987 of 1000\n",
      "building tree 988 of 1000\n",
      "building tree 989 of 1000\n",
      "building tree 990 of 1000\n",
      "building tree 991 of 1000\n",
      "building tree 992 of 1000\n",
      "building tree 993 of 1000\n",
      "building tree 994 of 1000\n",
      "building tree 995 of 1000\n",
      "building tree 996 of 1000building tree 997 of 1000\n",
      "\n",
      "building tree 998 of 1000\n",
      "building tree 1000 of 1000building tree 999 of 1000\n",
      "\n"
     ]
    },
    {
     "name": "stderr",
     "output_type": "stream",
     "text": [
      "[Parallel(n_jobs=-1)]: Done 1000 out of 1000 | elapsed:   10.2s finished\n"
     ]
    },
    {
     "data": {
      "text/plain": [
       "BalancedRandomForestClassifier(class_weight='balanced_subsample',\n",
       "                               max_features='sqrt', min_samples_split=10,\n",
       "                               n_estimators=1000, n_jobs=-1, verbose=3)"
      ]
     },
     "execution_count": 18,
     "metadata": {},
     "output_type": "execute_result"
    }
   ],
   "source": [
    "rf_2.fit(newX_train_modelo1_rev2, y_train)"
   ]
  },
  {
   "cell_type": "code",
   "execution_count": 19,
   "metadata": {},
   "outputs": [
    {
     "name": "stderr",
     "output_type": "stream",
     "text": [
      "[Parallel(n_jobs=4)]: Using backend ThreadingBackend with 4 concurrent workers.\n",
      "[Parallel(n_jobs=4)]: Done  24 tasks      | elapsed:    0.0s\n",
      "[Parallel(n_jobs=4)]: Done 120 tasks      | elapsed:    0.0s\n",
      "[Parallel(n_jobs=4)]: Done 280 tasks      | elapsed:    0.1s\n",
      "[Parallel(n_jobs=4)]: Done 504 tasks      | elapsed:    0.3s\n",
      "[Parallel(n_jobs=4)]: Done 792 tasks      | elapsed:    0.5s\n",
      "[Parallel(n_jobs=4)]: Done 1000 out of 1000 | elapsed:    0.6s finished\n"
     ]
    },
    {
     "name": "stdout",
     "output_type": "stream",
     "text": [
      "[0 1 0 ... 1 0 0]\n"
     ]
    }
   ],
   "source": [
    "y_pred_modelo1_rev2 = rf_2.predict(newX_train_modelo1_rev2)\n",
    "print(y_pred_modelo1_rev2)"
   ]
  },
  {
   "cell_type": "code",
   "execution_count": 20,
   "metadata": {},
   "outputs": [
    {
     "name": "stderr",
     "output_type": "stream",
     "text": [
      "[Parallel(n_jobs=4)]: Using backend ThreadingBackend with 4 concurrent workers.\n",
      "[Parallel(n_jobs=4)]: Done  24 tasks      | elapsed:    0.0s\n",
      "[Parallel(n_jobs=4)]: Done 120 tasks      | elapsed:    0.0s\n",
      "[Parallel(n_jobs=4)]: Done 280 tasks      | elapsed:    0.2s\n",
      "[Parallel(n_jobs=4)]: Done 504 tasks      | elapsed:    0.3s\n",
      "[Parallel(n_jobs=4)]: Done 792 tasks      | elapsed:    0.6s\n",
      "[Parallel(n_jobs=4)]: Done 1000 out of 1000 | elapsed:    0.7s finished\n"
     ]
    },
    {
     "name": "stdout",
     "output_type": "stream",
     "text": [
      "[[0.88308259 0.11691741]\n",
      " [0.17814614 0.82185386]\n",
      " [0.8016484  0.1983516 ]\n",
      " ...\n",
      " [0.34985279 0.65014721]\n",
      " [0.83535411 0.16464589]\n",
      " [0.81494488 0.18505512]]\n"
     ]
    }
   ],
   "source": [
    "y_pred_prob_modelo1_rev2 = rf_2.predict_proba(newX_train_modelo1_rev2)\n",
    "print(y_pred_prob_modelo1_rev2)"
   ]
  },
  {
   "cell_type": "markdown",
   "metadata": {},
   "source": [
    "## 2.2 Prestaciones"
   ]
  },
  {
   "cell_type": "markdown",
   "metadata": {},
   "source": [
    "La **sensibilidad y la especificidad** son dos valores que nos indican la capacidad de nuestro estimador para discriminar los casos positivos, de los negativos. La sensibilidad es la fracción de verdaderos positivos, mientras que la especificidad, es la fracción de verdaderos negativos.\n",
    "\n",
    "-  **La sensibilidad** es la proporción de casos positivos que fueron correctamente identificadas por el algoritmo.\n",
    "-  **La especificidad** se trata de los casos negativos que el algoritmo ha clasificado correctamente.  Expresa cuan bien puede el modelo detectar esa clase.\n",
    "- **La Precisión** se refiere a la dispersión del conjunto de valores obtenidos a partir de mediciones repetidas de una magnitud. Cuanto menor es la dispersión mayor la precisión. Se representa por la proporción entre el número de predicciones correctas (tanto positivas como negativas) y el total de predicciones. En forma práctica es  el porcentaje de casos positivos detectados.\n"
   ]
  },
  {
   "cell_type": "markdown",
   "metadata": {},
   "source": [
    "### Prestaciones en train"
   ]
  },
  {
   "cell_type": "code",
   "execution_count": 21,
   "metadata": {},
   "outputs": [],
   "source": [
    "from sklearn.metrics import confusion_matrix, plot_confusion_matrix"
   ]
  },
  {
   "cell_type": "code",
   "execution_count": 22,
   "metadata": {},
   "outputs": [
    {
     "name": "stderr",
     "output_type": "stream",
     "text": [
      "[Parallel(n_jobs=4)]: Using backend ThreadingBackend with 4 concurrent workers.\n",
      "[Parallel(n_jobs=4)]: Done  24 tasks      | elapsed:    0.0s\n",
      "[Parallel(n_jobs=4)]: Done 120 tasks      | elapsed:    0.0s\n",
      "[Parallel(n_jobs=4)]: Done 280 tasks      | elapsed:    0.1s\n",
      "[Parallel(n_jobs=4)]: Done 504 tasks      | elapsed:    0.3s\n",
      "[Parallel(n_jobs=4)]: Done 792 tasks      | elapsed:    0.5s\n",
      "[Parallel(n_jobs=4)]: Done 1000 out of 1000 | elapsed:    0.7s finished\n"
     ]
    },
    {
     "data": {
      "image/png": "[encoded data removed]",
      "text/plain": [
       "<Figure size 432x288 with 2 Axes>"
      ]
     },
     "metadata": {
      "needs_background": "light"
     },
     "output_type": "display_data"
    },
    {
     "name": "stdout",
     "output_type": "stream",
     "text": [
      "Accuracy :  0.7053910402429765\n",
      "Sensitivity :  1.0\n",
      "Specificity :  0.6798679867986799\n",
      "                   pre       rec       spe        f1       geo       iba       sup\n",
      "\n",
      "          0       1.00      0.68      1.00      0.81      0.82      0.66      1212\n",
      "          1       0.21      1.00      0.68      0.35      0.82      0.70       105\n",
      "\n",
      "avg / total       0.94      0.71      0.97      0.77      0.82      0.66      1317\n",
      "\n"
     ]
    }
   ],
   "source": [
    "cm = confusion_matrix(y_train,y_pred_modelo1_rev2)\n",
    "\n",
    "plot_confusion_matrix(rf_2,newX_train_modelo1_rev2,y_train,cmap=plt.cm.Blues)\n",
    "\n",
    "plt.show()\n",
    "\n",
    "accuracy1=(cm[0,0]+cm[1,1])/(cm[1,0]+cm[1,1]+cm[0,0]+cm[0,1])\n",
    "print ('Accuracy : ', accuracy1)\n",
    "\n",
    "sensitivity1 = cm[1,1]/(cm[1,0]+cm[1,1])\n",
    "print('Sensitivity : ', sensitivity1 )\n",
    "\n",
    "specificity1 = cm[0,0]/(cm[0,0]+cm[0,1])  #ojo, creo que está al revés esto\n",
    "print('Specificity : ', specificity1)\n",
    "\n",
    "from imblearn.metrics import classification_report_imbalanced\n",
    "\n",
    "print(classification_report_imbalanced(y_train, y_pred_modelo1_rev2))"
   ]
  },
  {
   "cell_type": "markdown",
   "metadata": {},
   "source": [
    "### Prestaciones en test"
   ]
  },
  {
   "cell_type": "code",
   "execution_count": 23,
   "metadata": {},
   "outputs": [
    {
     "name": "stderr",
     "output_type": "stream",
     "text": [
      "[Parallel(n_jobs=4)]: Using backend ThreadingBackend with 4 concurrent workers.\n",
      "[Parallel(n_jobs=4)]: Done  24 tasks      | elapsed:    0.0s\n",
      "[Parallel(n_jobs=4)]: Done 120 tasks      | elapsed:    0.0s\n",
      "[Parallel(n_jobs=4)]: Done 280 tasks      | elapsed:    0.0s\n",
      "[Parallel(n_jobs=4)]: Done 504 tasks      | elapsed:    0.1s\n",
      "[Parallel(n_jobs=4)]: Done 792 tasks      | elapsed:    0.3s\n",
      "[Parallel(n_jobs=4)]: Done 1000 out of 1000 | elapsed:    0.4s finished\n",
      "[Parallel(n_jobs=4)]: Using backend ThreadingBackend with 4 concurrent workers.\n",
      "[Parallel(n_jobs=4)]: Done  24 tasks      | elapsed:    0.0s\n",
      "[Parallel(n_jobs=4)]: Done 120 tasks      | elapsed:    0.0s\n",
      "[Parallel(n_jobs=4)]: Done 280 tasks      | elapsed:    0.1s\n",
      "[Parallel(n_jobs=4)]: Done 504 tasks      | elapsed:    0.2s\n",
      "[Parallel(n_jobs=4)]: Done 792 tasks      | elapsed:    0.3s\n",
      "[Parallel(n_jobs=4)]: Done 1000 out of 1000 | elapsed:    0.4s finished\n",
      "[Parallel(n_jobs=4)]: Using backend ThreadingBackend with 4 concurrent workers.\n",
      "[Parallel(n_jobs=4)]: Done  24 tasks      | elapsed:    0.0s\n",
      "[Parallel(n_jobs=4)]: Done 120 tasks      | elapsed:    0.0s\n",
      "[Parallel(n_jobs=4)]: Done 280 tasks      | elapsed:    0.1s\n",
      "[Parallel(n_jobs=4)]: Done 504 tasks      | elapsed:    0.2s\n",
      "[Parallel(n_jobs=4)]: Done 792 tasks      | elapsed:    0.3s\n",
      "[Parallel(n_jobs=4)]: Done 1000 out of 1000 | elapsed:    0.4s finished\n"
     ]
    },
    {
     "data": {
      "image/png": "[encoded data removed]",
      "text/plain": [
       "<Figure size 432x288 with 2 Axes>"
      ]
     },
     "metadata": {
      "needs_background": "light"
     },
     "output_type": "display_data"
    }
   ],
   "source": [
    "#modify NaNs in X_test\n",
    "\n",
    "feature_names = ['Age','Weight','Size','IMC','Creatinine','Cystatin','HDL','LDL','Triglyciredes','GOT','GPT','GGT','Albuminuria','Ferritin','HOMA','Insulin','Blood_Glucose','Glycated-HB','PCR','Vitamin-D','TAS','TAD','Date']\n",
    "\n",
    "X_test_modelo1_rev2 = pd.DataFrame(X_test[:,1,:],columns = feature_names[:-1])\n",
    "\n",
    "X_test_modelo1_rev2 = X_test_modelo1_rev2.drop('Blood_Glucose',axis = 1)\n",
    "X_test_modelo1_rev2 = X_test_modelo1_rev2.drop('Glycated-HB',axis = 1)\n",
    "\n",
    "#impute\n",
    "\n",
    "X_test_modelo1_rev2 = X_test_modelo1_rev2.fillna(imputed_data[1])\n",
    "newX_test_modelo1_rev2 = np.concatenate((X_test_modelo1_rev2, Prob_test_without_BG_HB[:,np.newaxis]), axis=1)\n",
    "\n",
    "y_pred_test_modelo1_rev2 = rf_2.predict(newX_test_modelo1_rev2)\n",
    "y_pred_test_prob_modelo1_rev2 = rf_2.predict_proba(newX_test_modelo1_rev2)\n",
    "\n",
    "\n",
    "plot_confusion_matrix(rf_2,newX_test_modelo1_rev2,y_test,cmap=plt.cm.Blues)\n",
    "\n",
    "plt.show()"
   ]
  },
  {
   "cell_type": "code",
   "execution_count": 24,
   "metadata": {},
   "outputs": [
    {
     "name": "stdout",
     "output_type": "stream",
     "text": [
      "Accuracy :  0.5909090909090909\n",
      "Specificity :  0.5808580858085809\n",
      "Sensitivity :  0.7037037037037037\n"
     ]
    }
   ],
   "source": [
    "cm1 = confusion_matrix(y_test,y_pred_test_modelo1_rev2)\n",
    "\n",
    "accuracy1=(cm1[0,0]+cm1[1,1])/(cm1[0,0]+cm1[0,1]+cm1[1,0]+cm1[1,1])\n",
    "print ('Accuracy : ', accuracy1)\n",
    "\n",
    "specificity1 = cm1[0,0]/(cm1[0,0]+cm1[0,1])\n",
    "print('Specificity : ', specificity1 )\n",
    "\n",
    "sensitivity1 = cm1[1,1]/(cm1[1,0]+cm1[1,1])\n",
    "print('Sensitivity : ', sensitivity1)"
   ]
  },
  {
   "cell_type": "markdown",
   "metadata": {},
   "source": [
    "# Aplicamos el modelo eliminando las variables Vitamin-D, HOMA e Insulin"
   ]
  },
  {
   "cell_type": "markdown",
   "metadata": {},
   "source": [
    "# 1. PREPROCESADO"
   ]
  },
  {
   "cell_type": "code",
   "execution_count": 25,
   "metadata": {},
   "outputs": [
    {
     "name": "stdout",
     "output_type": "stream",
     "text": [
      "review 0\n",
      "review 1\n",
      "review 2\n"
     ]
    }
   ],
   "source": [
    "X_train_sin_NaN_modelo2_rev2_imputing,imputed_data = imputing_data(X_train,without_homa_vit_d=True)"
   ]
  },
  {
   "cell_type": "code",
   "execution_count": 26,
   "metadata": {},
   "outputs": [],
   "source": [
    "#Get the second review\n",
    "\n",
    "X_train_sin_NaN_modelo2_rev2 = X_train_sin_NaN_modelo2_rev2_imputing[1]"
   ]
  },
  {
   "cell_type": "code",
   "execution_count": 27,
   "metadata": {},
   "outputs": [],
   "source": [
    "newX_train_modelo2_rev2 = np.concatenate((X_train_sin_NaN_modelo2_rev2, Prob_train_1_without_BG_HB_VD_Ins_HOMA[:,np.newaxis]), axis=1)"
   ]
  },
  {
   "cell_type": "markdown",
   "metadata": {},
   "source": [
    "# 2. PREDICCIÓN"
   ]
  },
  {
   "cell_type": "markdown",
   "metadata": {},
   "source": [
    "## 2.1 Random Forest"
   ]
  },
  {
   "cell_type": "code",
   "execution_count": 28,
   "metadata": {},
   "outputs": [
    {
     "name": "stdout",
     "output_type": "stream",
     "text": [
      "{'max_features': ['auto', 'sqrt', 'log2'], 'min_samples_split': [2, 5, 10], 'min_samples_leaf': [1, 2, 4, 8, 10, 12, 14, 16, 18, 20]}\n"
     ]
    }
   ],
   "source": [
    "from sklearn.model_selection import RandomizedSearchCV\n",
    "# Number of features to consider at every split\n",
    "max_features = ['auto', 'sqrt','log2']\n",
    "# Minimum number of samples required to split a node\n",
    "min_samples_split = [2, 5, 10]\n",
    "# Minimum number of samples required at each leaf node\n",
    "min_samples_leaf = [1, 2, 4,8,10,12,14,16,18,20]\n",
    "# Create the random grid\n",
    "random_grid = {'max_features': max_features,\n",
    "               'min_samples_split': min_samples_split,\n",
    "               'min_samples_leaf': min_samples_leaf,}\n",
    "print(random_grid)"
   ]
  },
  {
   "cell_type": "code",
   "execution_count": 29,
   "metadata": {},
   "outputs": [],
   "source": [
    "# First create the base model to tune\n",
    "rf_11 = BalancedRandomForestClassifier(n_estimators=150, criterion='gini',  \n",
    "                   bootstrap=True, oob_score=False, class_weight = 'balanced_subsample')"
   ]
  },
  {
   "cell_type": "code",
   "execution_count": 30,
   "metadata": {},
   "outputs": [],
   "source": [
    "from sklearn.model_selection import GridSearchCV\n",
    "# Use the random grid to search for best hyperparameters\n",
    "# Grid search of parameters, using 7 fold cross validation,\n",
    "\n",
    "grid_random = GridSearchCV(rf_11, random_grid, cv=7 , n_jobs = -1, verbose = 5)"
   ]
  },
  {
   "cell_type": "code",
   "execution_count": 31,
   "metadata": {},
   "outputs": [
    {
     "name": "stdout",
     "output_type": "stream",
     "text": [
      "Fitting 7 folds for each of 90 candidates, totalling 630 fits\n"
     ]
    },
    {
     "data": {
      "text/plain": [
       "GridSearchCV(cv=7,\n",
       "             estimator=BalancedRandomForestClassifier(class_weight='balanced_subsample',\n",
       "                                                      n_estimators=150),\n",
       "             n_jobs=-1,\n",
       "             param_grid={'max_features': ['auto', 'sqrt', 'log2'],\n",
       "                         'min_samples_leaf': [1, 2, 4, 8, 10, 12, 14, 16, 18,\n",
       "                                              20],\n",
       "                         'min_samples_split': [2, 5, 10]},\n",
       "             verbose=5)"
      ]
     },
     "execution_count": 31,
     "metadata": {},
     "output_type": "execute_result"
    }
   ],
   "source": [
    "# Fit the random search model\n",
    "grid_random.fit(newX_train_modelo2_rev2, y_train)"
   ]
  },
  {
   "cell_type": "code",
   "execution_count": 32,
   "metadata": {},
   "outputs": [
    {
     "data": {
      "text/plain": [
       "{'max_features': 'auto', 'min_samples_leaf': 2, 'min_samples_split': 5}"
      ]
     },
     "execution_count": 32,
     "metadata": {},
     "output_type": "execute_result"
    }
   ],
   "source": [
    "grid_random.best_params_"
   ]
  },
  {
   "cell_type": "markdown",
   "metadata": {},
   "source": [
    "### Rebalancea dentro de cada árbol"
   ]
  },
  {
   "cell_type": "code",
   "execution_count": 33,
   "metadata": {},
   "outputs": [],
   "source": [
    "rf_22 = BalancedRandomForestClassifier(n_estimators=5000, criterion='gini', max_features = grid_random.best_params_['max_features'],\n",
    "                min_samples_leaf = grid_random.best_params_['min_samples_leaf'], min_samples_split = grid_random.best_params_['min_samples_split'],    \n",
    "                   bootstrap=True, oob_score=False, class_weight = 'balanced_subsample')"
   ]
  },
  {
   "cell_type": "code",
   "execution_count": 34,
   "metadata": {},
   "outputs": [
    {
     "data": {
      "text/plain": [
       "BalancedRandomForestClassifier(class_weight='balanced_subsample',\n",
       "                               min_samples_leaf=2, min_samples_split=5,\n",
       "                               n_estimators=5000)"
      ]
     },
     "execution_count": 34,
     "metadata": {},
     "output_type": "execute_result"
    }
   ],
   "source": [
    "rf_22.fit(newX_train_modelo2_rev2, y_train)"
   ]
  },
  {
   "cell_type": "code",
   "execution_count": 35,
   "metadata": {},
   "outputs": [],
   "source": [
    "y_pred_modelo2_rev2 = rf_22.predict(newX_train_modelo2_rev2)\n",
    "y_pred_1_prob_modelo2_rev2 = rf_22.predict_proba(newX_train_modelo2_rev2)"
   ]
  },
  {
   "cell_type": "markdown",
   "metadata": {},
   "source": [
    "## 2.2 Calibración de la probabilidad"
   ]
  },
  {
   "cell_type": "code",
   "execution_count": 36,
   "metadata": {},
   "outputs": [
    {
     "data": {
      "text/plain": [
       "\"from sklearn.calibration import CalibratedClassifierCV\\n\\nbase_clf = BalancedRandomForestClassifier(n_estimators=50, criterion='gini', max_features = grid_random.best_params_['max_features'],\\n                min_samples_leaf = grid_random.best_params_['min_samples_leaf'], min_samples_split = grid_random.best_params_['min_samples_split'],    \\n                   bootstrap=True, oob_score=False, class_weight = 'balanced_subsample')\\n\\n#vamos a calibrar training\\ncalibrated_clf = CalibratedClassifierCV(base_estimator=rf_22,cv='prefit', method = 'sigmoid',ensemble = False)\\n\\ncalibrated_clf.fit(X_train_11, y_train)\""
      ]
     },
     "execution_count": 36,
     "metadata": {},
     "output_type": "execute_result"
    }
   ],
   "source": [
    "'''from sklearn.calibration import CalibratedClassifierCV\n",
    "\n",
    "base_clf = BalancedRandomForestClassifier(n_estimators=50, criterion='gini', max_features = grid_random.best_params_['max_features'],\n",
    "                min_samples_leaf = grid_random.best_params_['min_samples_leaf'], min_samples_split = grid_random.best_params_['min_samples_split'],    \n",
    "                   bootstrap=True, oob_score=False, class_weight = 'balanced_subsample')\n",
    "\n",
    "#vamos a calibrar training\n",
    "calibrated_clf = CalibratedClassifierCV(base_estimator=rf_22,cv='prefit', method = 'sigmoid',ensemble = False)\n",
    "\n",
    "calibrated_clf.fit(X_train_11, y_train)'''"
   ]
  },
  {
   "cell_type": "code",
   "execution_count": 37,
   "metadata": {},
   "outputs": [
    {
     "data": {
      "text/plain": [
       "'#calibrated_clf.\\nfrom sklearn.calibration import calibration_curve\\n\\nfeature_names = [\\'Age\\',\\'Weight\\',\\'Size\\',\\'IMC\\',\\'Creatinine\\',\\'Cystatin\\',\\'HDL\\',\\'LDL\\',\\'Triglyciredes\\',\\'GOT\\',\\'GPT\\',\\'GGT\\',\\'Albuminuria\\',\\'Ferritin\\',\\'HOMA\\',\\'Insulin\\',\\'Blood_Glucose\\',\\'Glycated-HB\\',\\'PCR\\',\\'Vitamin-D\\',\\'TAS\\',\\'TAD\\',\\'Date\\']\\n\\nX_test_1 = pd.DataFrame(X_test[:,0,:],columns = feature_names[:-1])\\n\\nX_test_1 = X_test_1.drop(\\'Blood_Glucose\\',axis = 1)\\nX_test_1 = X_test_1.drop(\\'Glycated-HB\\',axis = 1)\\nX_test_1 = X_test_1.drop(\\'HOMA\\',axis = 1)\\nX_test_1 = X_test_1.drop(\\'Insulin\\',axis = 1)\\nX_test_1 = X_test_1.drop(\\'Vitamin-D\\',axis = 1)\\n\\nX_test_1 = X_test_1.fillna(X_train_1.median())\\n\\n\\ny_pred_cali = calibrated_clf.predict_proba(X_test_1)[:,1]\\n\\ny_train_cali = calibrated_clf.predict_proba(X_train_11)[:,1]\\n\\nfraction_of_positives, mean_predicted_value = calibration_curve(y_test, y_pred_cali, n_bins=10)\\nfraction_of_positives_train, mean_predicted_value_train = calibration_curve(y_train, y_train_cali, n_bins=10)\\n\\nplt.figure()\\nplt.plot([0, 1], [0, 1], \"k:\", label=\"Perfectly calibrated\")\\nplt.plot(mean_predicted_value, fraction_of_positives, \"s-\")\\nplt.plot(mean_predicted_value_train, fraction_of_positives_train, \"^-\")\\n\\n\\nplt.figure()\\nplt.hist(y_pred_cali, range=(0, 1), bins=10,histtype=\"step\", lw=2)\\nplt.hist(y_train_cali, range=(0, 1), bins=10,histtype=\"step\", lw=2)\\n\\n\\nplt.hist(rf_22.predict_proba(X_train_11)[:,1],bins = 10,histtype=\\'step\\')'"
      ]
     },
     "execution_count": 37,
     "metadata": {},
     "output_type": "execute_result"
    }
   ],
   "source": [
    "'''#calibrated_clf.\n",
    "from sklearn.calibration import calibration_curve\n",
    "\n",
    "feature_names = ['Age','Weight','Size','IMC','Creatinine','Cystatin','HDL','LDL','Triglyciredes','GOT','GPT','GGT','Albuminuria','Ferritin','HOMA','Insulin','Blood_Glucose','Glycated-HB','PCR','Vitamin-D','TAS','TAD','Date']\n",
    "\n",
    "X_test_1 = pd.DataFrame(X_test[:,0,:],columns = feature_names[:-1])\n",
    "\n",
    "X_test_1 = X_test_1.drop('Blood_Glucose',axis = 1)\n",
    "X_test_1 = X_test_1.drop('Glycated-HB',axis = 1)\n",
    "X_test_1 = X_test_1.drop('HOMA',axis = 1)\n",
    "X_test_1 = X_test_1.drop('Insulin',axis = 1)\n",
    "X_test_1 = X_test_1.drop('Vitamin-D',axis = 1)\n",
    "\n",
    "X_test_1 = X_test_1.fillna(X_train_1.median())\n",
    "\n",
    "\n",
    "y_pred_cali = calibrated_clf.predict_proba(X_test_1)[:,1]\n",
    "\n",
    "y_train_cali = calibrated_clf.predict_proba(X_train_11)[:,1]\n",
    "\n",
    "fraction_of_positives, mean_predicted_value = calibration_curve(y_test, y_pred_cali, n_bins=10)\n",
    "fraction_of_positives_train, mean_predicted_value_train = calibration_curve(y_train, y_train_cali, n_bins=10)\n",
    "\n",
    "plt.figure()\n",
    "plt.plot([0, 1], [0, 1], \"k:\", label=\"Perfectly calibrated\")\n",
    "plt.plot(mean_predicted_value, fraction_of_positives, \"s-\")\n",
    "plt.plot(mean_predicted_value_train, fraction_of_positives_train, \"^-\")\n",
    "\n",
    "\n",
    "plt.figure()\n",
    "plt.hist(y_pred_cali, range=(0, 1), bins=10,histtype=\"step\", lw=2)\n",
    "plt.hist(y_train_cali, range=(0, 1), bins=10,histtype=\"step\", lw=2)\n",
    "\n",
    "\n",
    "plt.hist(rf_22.predict_proba(X_train_11)[:,1],bins = 10,histtype='step')'''"
   ]
  },
  {
   "cell_type": "markdown",
   "metadata": {},
   "source": [
    "## 2.3 Prestaciones"
   ]
  },
  {
   "cell_type": "markdown",
   "metadata": {},
   "source": [
    "### Prestaciones en train"
   ]
  },
  {
   "cell_type": "code",
   "execution_count": 38,
   "metadata": {},
   "outputs": [],
   "source": [
    "from sklearn.metrics import confusion_matrix, plot_confusion_matrix"
   ]
  },
  {
   "cell_type": "code",
   "execution_count": 39,
   "metadata": {},
   "outputs": [
    {
     "name": "stdout",
     "output_type": "stream",
     "text": [
      "[[824 388]\n",
      " [  0 105]]\n"
     ]
    },
    {
     "data": {
      "image/png": "[encoded data removed]",
      "text/plain": [
       "<Figure size 432x288 with 2 Axes>"
      ]
     },
     "metadata": {
      "needs_background": "light"
     },
     "output_type": "display_data"
    },
    {
     "name": "stdout",
     "output_type": "stream",
     "text": [
      "Accuracy :  0.6932422171602126\n",
      "Sensitivity :  1.0\n",
      "Specificity :  0.6666666666666666\n"
     ]
    },
    {
     "data": {
      "image/png": "[encoded data removed]",
      "text/plain": [
       "<Figure size 432x288 with 1 Axes>"
      ]
     },
     "metadata": {
      "needs_background": "light"
     },
     "output_type": "display_data"
    }
   ],
   "source": [
    "cm2 = confusion_matrix(y_train,y_pred_modelo2_rev2)\n",
    "print(cm)\n",
    "\n",
    "plot_confusion_matrix(rf_22,newX_train_modelo2_rev2,y_train,cmap=plt.cm.Blues)\n",
    "\n",
    "plt.show()\n",
    "\n",
    "accuracy1=(cm2[0,0]+cm2[1,1])/(cm2[1,0]+cm2[1,1]+cm2[0,0]+cm2[0,1])\n",
    "print ('Accuracy : ', accuracy1)\n",
    "\n",
    "sensitivity1 = cm2[1,1]/(cm2[1,0]+cm2[1,1])\n",
    "print('Sensitivity : ', sensitivity1 )\n",
    "\n",
    "specificity1 = cm2[0,0]/(cm2[0,0]+cm2[0,1])\n",
    "print('Specificity : ', specificity1)\n",
    "\n",
    "\n",
    "from sklearn.metrics import roc_curve, auc\n",
    "from sklearn.metrics import plot_roc_curve\n",
    "\n",
    "plot_roc_curve(rf_22, newX_train_modelo2_rev2, y_train)\n",
    "plt.show()"
   ]
  },
  {
   "cell_type": "markdown",
   "metadata": {},
   "source": [
    "### Prestaciones en test"
   ]
  },
  {
   "cell_type": "code",
   "execution_count": 40,
   "metadata": {},
   "outputs": [
    {
     "data": {
      "image/png": "[encoded data removed]",
      "text/plain": [
       "<Figure size 432x288 with 2 Axes>"
      ]
     },
     "metadata": {
      "needs_background": "light"
     },
     "output_type": "display_data"
    }
   ],
   "source": [
    "#modify NaNs in X_test\n",
    "\n",
    "feature_names = ['Age','Weight','Size','IMC','Creatinine','Cystatin','HDL','LDL','Triglyciredes','GOT','GPT','GGT','Albuminuria','Ferritin','HOMA','Insulin','Blood_Glucose','Glycated-HB','PCR','Vitamin-D','TAS','TAD','Date']\n",
    "\n",
    "X_test_modelo2_rev2 = pd.DataFrame(X_test[:,1,:],columns = feature_names[:-1])\n",
    "\n",
    "X_test_modelo2_rev2 = X_test_modelo2_rev2.drop('Blood_Glucose',axis = 1)\n",
    "X_test_modelo2_rev2 = X_test_modelo2_rev2.drop('Glycated-HB',axis = 1)\n",
    "X_test_modelo2_rev2 = X_test_modelo2_rev2.drop('HOMA',axis = 1)\n",
    "X_test_modelo2_rev2 = X_test_modelo2_rev2.drop('Insulin',axis = 1)\n",
    "X_test_modelo2_rev2 = X_test_modelo2_rev2.drop('Vitamin-D',axis = 1)\n",
    "\n",
    "#impute\n",
    "\n",
    "X_test_modelo2_rev2 = X_test_modelo2_rev2.fillna(imputed_data[1])\n",
    "newX_test_modelo2_rev2 = np.concatenate((X_test_modelo2_rev2, Prob_test_1_without_BG_HB_VD_Ins_HOMA[:,np.newaxis]), axis=1)\n",
    "\n",
    "y_pred_test_modelo2_rev2 = rf_22.predict(newX_test_modelo2_rev2)\n",
    "y_pred_test_prob_modelo2_rev2 = rf_22.predict_proba(newX_test_modelo2_rev2) #Probabilidad de pertenecer a cada clase\n",
    "\n",
    "plot_confusion_matrix(rf_22,newX_test_modelo2_rev2,y_test,cmap=plt.cm.Blues)\n",
    "\n",
    "plt.show()"
   ]
  },
  {
   "cell_type": "code",
   "execution_count": 41,
   "metadata": {},
   "outputs": [
    {
     "name": "stdout",
     "output_type": "stream",
     "text": [
      "[[176 127]\n",
      " [  8  19]]\n",
      "Accuracy :  0.5969696969696969\n",
      "Specificity :  0.5874587458745875\n",
      "Sensitivity :  0.7037037037037037\n"
     ]
    },
    {
     "data": {
      "image/png": "[encoded data removed]",
      "text/plain": [
       "<Figure size 432x288 with 1 Axes>"
      ]
     },
     "metadata": {
      "needs_background": "light"
     },
     "output_type": "display_data"
    }
   ],
   "source": [
    "cm3 = confusion_matrix(y_test,y_pred_test_modelo2_rev2)\n",
    "print(cm1)\n",
    "\n",
    "accuracy1=(cm3[0,0]+cm3[1,1])/(cm3[1,0]+cm3[1,1]+cm3[0,0]+cm3[0,1])\n",
    "print ('Accuracy : ', accuracy1)\n",
    "\n",
    "specificity1 = cm3[0,0]/(cm3[0,0]+cm3[0,1])\n",
    "print('Specificity : ', specificity1)\n",
    "\n",
    "sensitivity1 = cm3[1,1]/(cm3[1,0]+cm3[1,1])\n",
    "print('Sensitivity : ', sensitivity1 )\n",
    "\n",
    "\n",
    "from sklearn.metrics import roc_curve, auc\n",
    "from sklearn.metrics import plot_roc_curve\n",
    "\n",
    "plot_roc_curve(rf_22, newX_test_modelo2_rev2, y_test)\n",
    "plt.show()"
   ]
  },
  {
   "cell_type": "markdown",
   "metadata": {},
   "source": [
    "## 4. Test with calibrated probabilities\n",
    "\n"
   ]
  },
  {
   "cell_type": "code",
   "execution_count": 42,
   "metadata": {},
   "outputs": [],
   "source": [
    "#Load calibrated probabilites for a model with all the available features\n",
    "proba_calib_train = np.load('Prob_calib_train_review_1_all_features.npy')\n",
    "\n",
    "proba_calib_test = np.load('Prob_calib_test_review_1_all_features.npy')\n",
    "\n",
    "\n",
    "#concatenate with the X_matrices for the review 2\n",
    "\n",
    "X_train_calib = np.concatenate((X_train_rev2_imputed, proba_calib_train[:,np.newaxis]), axis=1)\n",
    "X_test_calib = np.concatenate((X_test_modelo1_rev2, proba_calib_test[:,np.newaxis]), axis=1)\n",
    "\n",
    "# Train the randon forest model\n",
    "clf_calib = BalancedRandomForestClassifier(n_estimators=50, criterion='gini', max_features = 4,\n",
    "                min_samples_leaf = 20, min_samples_split = 20,    \n",
    "                   bootstrap=True, oob_score=False, class_weight = 'balanced_subsample',n_jobs=-1,verbose = 1)"
   ]
  },
  {
   "cell_type": "code",
   "execution_count": 43,
   "metadata": {},
   "outputs": [
    {
     "name": "stdout",
     "output_type": "stream",
     "text": [
      "{'max_features': ['auto', 'sqrt', 'log2'], 'min_samples_split': [5, 10, 15, 20, 25], 'min_samples_leaf': [4, 10, 14, 16, 18, 20, 25]}\n",
      "Fitting 7 folds for each of 105 candidates, totalling 735 fits\n"
     ]
    },
    {
     "name": "stderr",
     "output_type": "stream",
     "text": [
      "[Parallel(n_jobs=-1)]: Using backend ThreadingBackend with 4 concurrent workers.\n",
      "[Parallel(n_jobs=-1)]: Done  42 tasks      | elapsed:    0.3s\n",
      "[Parallel(n_jobs=-1)]: Done  50 out of  50 | elapsed:    0.3s finished\n"
     ]
    },
    {
     "data": {
      "text/plain": [
       "GridSearchCV(cv=7,\n",
       "             estimator=BalancedRandomForestClassifier(class_weight='balanced_subsample',\n",
       "                                                      max_features=4,\n",
       "                                                      min_samples_leaf=20,\n",
       "                                                      min_samples_split=20,\n",
       "                                                      n_estimators=50,\n",
       "                                                      n_jobs=-1, verbose=1),\n",
       "             n_jobs=-1,\n",
       "             param_grid={'max_features': ['auto', 'sqrt', 'log2'],\n",
       "                         'min_samples_leaf': [4, 10, 14, 16, 18, 20, 25],\n",
       "                         'min_samples_split': [5, 10, 15, 20, 25]},\n",
       "             verbose=1)"
      ]
     },
     "execution_count": 43,
     "metadata": {},
     "output_type": "execute_result"
    }
   ],
   "source": [
    "from sklearn.model_selection import RandomizedSearchCV\n",
    "# Number of features to consider at every split\n",
    "max_features = ['auto', 'sqrt','log2']\n",
    "# Minimum number of samples required to split a node\n",
    "min_samples_split = [5, 10,15,20,25]\n",
    "# Minimum number of samples required at each leaf node\n",
    "min_samples_leaf = [4,10,14,16,18,20,25]\n",
    "# Create the random grid\n",
    "random_grid = {'max_features': max_features,\n",
    "               'min_samples_split': min_samples_split,\n",
    "               'min_samples_leaf': min_samples_leaf,}\n",
    "print(random_grid)\n",
    "\n",
    "grid_random = GridSearchCV(clf_calib, random_grid, cv=7 , n_jobs = -1, verbose = 1)\n",
    "grid_random.fit(X_train_calib,y_train)"
   ]
  },
  {
   "cell_type": "code",
   "execution_count": 44,
   "metadata": {},
   "outputs": [
    {
     "name": "stderr",
     "output_type": "stream",
     "text": [
      "[Parallel(n_jobs=1)]: Using backend SequentialBackend with 1 concurrent workers.\n",
      "[Parallel(n_jobs=1)]: Done 10000 out of 10000 | elapsed:  1.1min finished\n"
     ]
    },
    {
     "data": {
      "text/plain": [
       "BalancedRandomForestClassifier(class_weight='balanced_subsample',\n",
       "                               min_samples_leaf=4, min_samples_split=5,\n",
       "                               n_estimators=10000, verbose=1)"
      ]
     },
     "execution_count": 44,
     "metadata": {},
     "output_type": "execute_result"
    }
   ],
   "source": [
    "#train\n",
    "clf_calib = BalancedRandomForestClassifier(n_estimators=10000, criterion='gini', max_features = grid_random.best_params_['max_features'],\n",
    "                min_samples_leaf = grid_random.best_params_['min_samples_leaf'], min_samples_split = grid_random.best_params_['min_samples_split'],    \n",
    "                   bootstrap=True, oob_score=False, class_weight = 'balanced_subsample',verbose = 1)\n",
    "\n",
    "clf_calib.fit(X_train_calib,y_train)"
   ]
  },
  {
   "cell_type": "code",
   "execution_count": 45,
   "metadata": {},
   "outputs": [
    {
     "name": "stderr",
     "output_type": "stream",
     "text": [
      "[Parallel(n_jobs=1)]: Using backend SequentialBackend with 1 concurrent workers.\n",
      "[Parallel(n_jobs=1)]: Done 10000 out of 10000 | elapsed:    4.3s finished\n",
      "[Parallel(n_jobs=1)]: Using backend SequentialBackend with 1 concurrent workers.\n",
      "[Parallel(n_jobs=1)]: Done 10000 out of 10000 | elapsed:    4.6s finished\n"
     ]
    },
    {
     "name": "stdout",
     "output_type": "stream",
     "text": [
      "Training performance\n",
      "Accuracy :  1.0\n",
      "Sensitivity :  1.0\n",
      "Specificity :  1.0\n"
     ]
    },
    {
     "data": {
      "image/png": "[encoded data removed]",
      "text/plain": [
       "<Figure size 432x288 with 2 Axes>"
      ]
     },
     "metadata": {
      "needs_background": "light"
     },
     "output_type": "display_data"
    }
   ],
   "source": [
    "#Prestaciones\n",
    "\n",
    "y_train_pred = clf_calib.predict(X_train_calib)\n",
    "\n",
    "#cm = confusion_matrix(y_train_adasyn,y_pred)\n",
    "cm = confusion_matrix(y_train,y_train_pred)\n",
    "\n",
    "#plot_confusion_matrix(rf_1,X_train_adasyn,y_train_adasyn,cmap=plt.cm.Blues)\n",
    "plot_confusion_matrix(clf_calib,X_train_calib,y_train,cmap=plt.cm.Blues)\n",
    "\n",
    "print(\"Training performance\")\n",
    "accuracy1=(cm[0,0]+cm[1,1])/(cm[1,0]+cm[1,1]+cm[0,0]+cm[0,1])\n",
    "print ('Accuracy : ', accuracy1)\n",
    "\n",
    "sensitivity1 = cm[1,1]/(cm[1,0]+cm[1,1])\n",
    "print('Sensitivity : ', sensitivity1 )\n",
    "\n",
    "specificity1 = cm[0,0]/(cm[0,0]+cm[0,1])  #ojo, creo que está al revés esto\n",
    "print('Specificity : ', specificity1)\n",
    "\n"
   ]
  },
  {
   "cell_type": "code",
   "execution_count": 46,
   "metadata": {},
   "outputs": [
    {
     "name": "stderr",
     "output_type": "stream",
     "text": [
      "[Parallel(n_jobs=1)]: Using backend SequentialBackend with 1 concurrent workers.\n",
      "[Parallel(n_jobs=1)]: Done 10000 out of 10000 | elapsed:    2.8s finished\n",
      "[Parallel(n_jobs=1)]: Using backend SequentialBackend with 1 concurrent workers.\n",
      "[Parallel(n_jobs=1)]: Done 10000 out of 10000 | elapsed:    3.1s finished\n"
     ]
    },
    {
     "name": "stdout",
     "output_type": "stream",
     "text": [
      "Training performance\n",
      "Accuracy :  0.9090909090909091\n",
      "Sensitivity :  0.0\n",
      "Specificity :  0.9900990099009901\n"
     ]
    },
    {
     "data": {
      "image/png": "[encoded data removed]",
      "text/plain": [
       "<Figure size 432x288 with 2 Axes>"
      ]
     },
     "metadata": {
      "needs_background": "light"
     },
     "output_type": "display_data"
    }
   ],
   "source": [
    "#Prestaciones\n",
    "\n",
    "y_test_pred = clf_calib.predict(X_test_calib)\n",
    "\n",
    "#cm = confusion_matrix(y_train_adasyn,y_pred)\n",
    "cm2 = confusion_matrix(y_test,y_test_pred)\n",
    "\n",
    "#plot_confusion_matrix(rf_1,X_train_adasyn,y_train_adasyn,cmap=plt.cm.Blues)\n",
    "plot_confusion_matrix(clf_calib,X_test_calib,y_test,cmap=plt.cm.Blues)\n",
    "\n",
    "print(\"Training performance\")\n",
    "accuracy1=(cm2[0,0]+cm2[1,1])/(cm2[1,0]+cm2[1,1]+cm2[0,0]+cm2[0,1])\n",
    "print ('Accuracy : ', accuracy1)\n",
    "\n",
    "sensitivity1 = cm2[1,1]/(cm2[1,0]+cm2[1,1])\n",
    "print('Sensitivity : ', sensitivity1 )\n",
    "\n",
    "specificity1 = cm2[0,0]/(cm2[0,0]+cm2[0,1])  #ojo, creo que está al revés esto\n",
    "print('Specificity : ', specificity1)"
   ]
  },
  {
   "cell_type": "code",
   "execution_count": 47,
   "metadata": {},
   "outputs": [
    {
     "name": "stderr",
     "output_type": "stream",
     "text": [
      "[Parallel(n_jobs=4)]: Using backend ThreadingBackend with 4 concurrent workers.\n",
      "[Parallel(n_jobs=4)]: Done  24 tasks      | elapsed:    0.0s\n",
      "[Parallel(n_jobs=4)]: Done 120 tasks      | elapsed:    0.0s\n",
      "[Parallel(n_jobs=4)]: Done 280 tasks      | elapsed:    0.0s\n",
      "[Parallel(n_jobs=4)]: Done 504 tasks      | elapsed:    0.1s\n",
      "[Parallel(n_jobs=4)]: Done 792 tasks      | elapsed:    0.3s\n",
      "[Parallel(n_jobs=4)]: Done 1000 out of 1000 | elapsed:    0.4s finished\n",
      "[Parallel(n_jobs=1)]: Using backend SequentialBackend with 1 concurrent workers.\n",
      "[Parallel(n_jobs=1)]: Done 10000 out of 10000 | elapsed:    3.3s finished\n"
     ]
    },
    {
     "data": {
      "text/plain": [
       "<sklearn.metrics._plot.roc_curve.RocCurveDisplay at 0x1f8e289ff48>"
      ]
     },
     "execution_count": 47,
     "metadata": {},
     "output_type": "execute_result"
    },
    {
     "data": {
      "image/png": "[encoded data removed]",
      "text/plain": [
       "<Figure size 720x576 with 1 Axes>"
      ]
     },
     "metadata": {
      "needs_background": "light"
     },
     "output_type": "display_data"
    }
   ],
   "source": [
    "#compare rocs\n",
    "\n",
    "#ideally we should compare rev1 with revi2\n",
    "\n",
    "#compare ROC curves\n",
    "\n",
    "#fpr[\"micro\"], tpr[\"micro\"], _ = roc_curve(y_test.ravel(), y_score.ravel())\n",
    "\n",
    "fig, ax = plt.subplots(figsize = (10,8))\n",
    "\n",
    "\n",
    "plot_roc_curve(rf_2, newX_test_modelo1_rev2,y_test,ax= ax)\n",
    "plot_roc_curve(rf_22, newX_test_modelo2_rev2,y_test,ax = ax)\n",
    "plot_roc_curve(clf_calib,X_test_calib,y_test,ax = ax)\n"
   ]
  },
  {
   "cell_type": "code",
   "execution_count": 48,
   "metadata": {},
   "outputs": [
    {
     "data": {
      "text/plain": [
       "\"np.save('Prob_calib_train_review_1_all_features', y_train_cali)\\nnp.save('Prob_calib_test_review_1_all_features', y_pred_cali)\""
      ]
     },
     "execution_count": 48,
     "metadata": {},
     "output_type": "execute_result"
    }
   ],
   "source": [
    "#save decisions\n",
    "\n",
    "np.save('Dec_train_review_2_all_features', y_pred_modelo1_rev2)\n",
    "np.save('Dec_test_review_2_all_features', y_pred_test_modelo1_rev2)\n",
    "np.save('Dec_train_review_2_without_homa_vit_d', y_pred_modelo2_rev2)\n",
    "np.save('Dec_test_review_2_without_homa_vit_d', y_pred_test_modelo2_rev2)\n",
    "\n",
    "\n",
    "#save probabilities\n",
    "np.save('Prob_train_review_2_all_features', y_pred_prob_modelo1_rev2[:,1])\n",
    "np.save('Prob_test_review_2_all_features', y_pred_test_prob_modelo1_rev2[:,1])\n",
    "np.save('Prob_train_review_2_without_homa_vit_d', y_pred_1_prob_modelo2_rev2[:,1])\n",
    "np.save('Prob_test_review_2_without_homa_vit_d', y_pred_test_prob_modelo2_rev2[:,1])\n",
    "\n",
    "#save models\n",
    "\n",
    "\n",
    "#save calibrated probabilities\n",
    "'''np.save('Prob_calib_train_review_1_all_features', y_train_cali)\n",
    "np.save('Prob_calib_test_review_1_all_features', y_pred_cali)'''"
   ]
  }
 ],
 "metadata": {
  "kernelspec": {
   "display_name": "Python 3",
   "language": "python",
   "name": "python3"
  },
  "language_info": {
   "codemirror_mode": {
    "name": "ipython",
    "version": 3
   },
   "file_extension": ".py",
   "mimetype": "text/x-python",
   "name": "python",
   "nbconvert_exporter": "python",
   "pygments_lexer": "ipython3",
   "version": "3.7.4"
  }
 },
 "nbformat": 4,
 "nbformat_minor": 2
}
