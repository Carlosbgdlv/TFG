{
 "cells": [
  {
   "cell_type": "code",
   "execution_count": 1,
   "metadata": {},
   "outputs": [
    {
     "name": "stderr",
     "output_type": "stream",
     "text": [
      "C:\\Users\\ywen2\\Anaconda3\\lib\\site-packages\\statsmodels\\tools\\_testing.py:19: FutureWarning: pandas.util.testing is deprecated. Use the functions in the public API at pandas.testing instead.\n",
      "  import pandas.util.testing as tm\n"
     ]
    }
   ],
   "source": [
    "import pandas as pd \n",
    "import seaborn as sns\n",
    "import matplotlib.pyplot as plt\n",
    "import pylab\n",
    "import scipy.stats as ss\n",
    "import csv\n",
    "import numpy as np\n",
    "import sklearn\n",
    "import glob\n",
    "from io import StringIO\n",
    "from sklearn.model_selection import train_test_split\n",
    "from sklearn import datasets\n",
    "from sklearn import svm\n",
    "from sklearn.neighbors import KNeighborsClassifier\n",
    "from sklearn.tree import DecisionTreeClassifier\n",
    "from sklearn.metrics import classification_report\n",
    "from sklearn.metrics import confusion_matrix\n",
    "from sklearn.model_selection import cross_val_score\n",
    "from sklearn.preprocessing import StandardScaler\n",
    "from sklearn.ensemble import RandomForestClassifier\n",
    "from collections import Counter"
   ]
  },
  {
   "cell_type": "markdown",
   "metadata": {},
   "source": [
    "# Análisis:\n",
    "\n",
    "**Carlos, Por favor, intenta escribir en estas celdas markdown, como si estuvieses escribiendo la memoria del TFG. De otra forma, llegará un momento en que no te acuerdes de lo que estás queriendo hacer. Es fundamental que vayas documentando todo lo que haces. Siento ser tan insistente sobre esto, pero es que es fundamental para poder terminar con un buen trabajo.**\n",
    "\n",
    "Básicamente tienes que se capaz de contar lo que vamos a realizar. No es trabajo en vano, porque luego lo tienes que hacer en la memoria del TFG.\n",
    "\n",
    "Todo lo que hicimos anteriormente para generar los conjuntos de entrenamiento y de test también deberías ir documentándolo, si no va a ser imposible que sólo revisando el código de acuerdes de todo y vas a perder mucho tiempo intentando entender que hacían las líneas de código."
   ]
  },
  {
   "cell_type": "markdown",
   "metadata": {},
   "source": [
    "Cargamos las matrices anteriormente creadas y que fueron divididas en train y test. Cargamos tanto los pacientes con sus variables y revisiones como las etiquetas asociadas a cada paciente"
   ]
  },
  {
   "cell_type": "code",
   "execution_count": 2,
   "metadata": {},
   "outputs": [],
   "source": [
    "X_train = np.load('Conjunto_train.npy')\n",
    "X_test = np.load('Conjunto_test.npy')\n",
    "y_train = np.load('Labels_train.npy')\n",
    "y_test = np.load('Labels_test.npy')"
   ]
  },
  {
   "cell_type": "markdown",
   "metadata": {},
   "source": [
    "Comprobamos las dimensiones de cada matriz, tenemos 1317 pacientes para train y 330 para test (partición 80/20).\n",
    "\n",
    "El 13 hace referencia al número de revisiones que nosotros mismos decicimos como idóneas. 22 son el número de features."
   ]
  },
  {
   "cell_type": "code",
   "execution_count": 3,
   "metadata": {},
   "outputs": [
    {
     "name": "stdout",
     "output_type": "stream",
     "text": [
      "(1317,)\n",
      "(1317, 13, 22)\n",
      "(330,)\n",
      "(330, 13, 22)\n"
     ]
    }
   ],
   "source": [
    "print(y_train.shape)\n",
    "print(X_train.shape)\n",
    "print(y_test.shape)\n",
    "print(X_test.shape)"
   ]
  },
  {
   "cell_type": "markdown",
   "metadata": {},
   "source": [
    "1º Comenzaremos con dos instantes temporales (nos será más fácil trabajar así, será extrapolable a cuando tengamos un mayor número de revisiones):\n",
    "\n",
    "X_train_1[:,0,:] hace referencia al primer instante temporal (1º revisión), cogemos todos los pacientes y todas las features para ese primer instante.\n",
    "\n",
    "X_train_1[:,1,:] hace referencia al segundo instante temporal (2º revisión), cogemos todos los pacientes y todas las features para ese segundo instante."
   ]
  },
  {
   "cell_type": "code",
   "execution_count": 4,
   "metadata": {},
   "outputs": [],
   "source": [
    "X_train_1 = X_train[:,0,:]\n",
    "X_train_2 = X_train[:,1,:]"
   ]
  },
  {
   "cell_type": "markdown",
   "metadata": {},
   "source": [
    "Como observamos el el histograma, los datos estás desbalanceados por lo que debemos aplicar oversampling (aumentando la clase minoritaria)"
   ]
  },
  {
   "cell_type": "code",
   "execution_count": null,
   "metadata": {},
   "outputs": [],
   "source": [
    "plt.hist(y_train)\n",
    "plt.show()"
   ]
  },
  {
   "cell_type": "markdown",
   "metadata": {},
   "source": [
    "No entiendo lo que haces aquí?? (en la celda que está debajo)\n",
    "\n",
    "Hay que tratar los datos que tenemos a NaN, pero no podemos ponerlos símplemente a 0.\n",
    "\n",
    "habría que hacer una función que nos permitiese tratar los NaNs. Vamos a hacer lo siguiente en la función:\n",
    "\n",
    "1. Revisar si hay alguna característica que tenga más del 50% a NaN, entonces habría que considerar eliminarla. Tenemos un problema, porque hay que revisar que tengo más de 50% en todas las revisiones. Para no complicar las cosas, vamos a considerar que trabajamos sólo con tres revisiones (vamos a ver si llegamos rápido a ese punto, en otro caso deberíamos ver si paramos en tres revisiones, que ya es bastante).\n",
    "\n",
    "1. Revisar si hay algún paciente con más de 8 características NaN, con que esto ocurra en cualquiera de las tres revisiones, deberíamos considerarlo que se elimina, en todas las revisiones.\n",
    "\n",
    "## Features con problemas:\n",
    "\n",
    "Revisando la información rápidamente hay varias features con problemas:\n",
    "\n",
    "1. **Importante**: las variables *Blood_Glucose* y *Glycated-HB* hay que sacarlas fuera de la base de datos, porque son las que se utilizan para determinar si un pacientes diabético o no.\n",
    "1. Hay cuatro variables que tiene muchos NaN, así que lo que intentaría sería centrarnos en cómo imputarlas, tanto en training como en test. Esto es un poco más complicado de lo que hacemos habitualmente con las bases de datos normales, porque aquí tenemos más datos y de forma un poco más complicada.\n",
    "    * HOMA\n",
    "    * Insulin\n",
    "    * Vitamin-D\n",
    "   \n",
    "Estas son las que más tienen en las tres primeras revisiones. Lo que vamos a hacer es lo siguiente, aprovechando que tenemos un montón de datos y datos temporales vamos a utilizar un esquema diferente para hacer la imputación de forma que sea más razonable, intentando perder el menor número de datos posibles, por ejemplo: \n",
    " * Regresión lineal múltiple con respecto a todas las variables temporales. Otra cosa\n",
    " * Verificar cuál es la correlación entre variables, para una misma revisión, y buscar con las que mayor correlación tengan y proponer un modelo de regresión lineal. \n",
    " \n",
    "Mi propuesta para el TFG: \n",
    " * Vamos a hacer imputación por la mediana (en el caso de Vitamin-D, HOMA e Insulin) casi seguro que vamos a empeorar un poco porque hay muchos NaN, pero la esperanza es que todo se compense.\n",
    " * Si te ves con fuerzas y ganas probamos lo que he comentado anteriormente\n",
    "\n"
   ]
  },
  {
   "cell_type": "code",
   "execution_count": 5,
   "metadata": {},
   "outputs": [],
   "source": [
    "feature_names = ['Age','Weight','Size','IMC','Creatinine','Cystatin','HDL','LDL','Triglyciredes','GOT','GPT','GGT','Albuminuria','Ferritin','HOMA','Insulin','Blood_Glucose','Glycated-HB','PCR','Vitamin-D','TAS','TAD','Date']\n",
    "    \n",
    "df = pd.DataFrame(X_train_1,columns = feature_names[:-1])"
   ]
  },
  {
   "cell_type": "code",
   "execution_count": 6,
   "metadata": {},
   "outputs": [
    {
     "name": "stdout",
     "output_type": "stream",
     "text": [
      "Weight 15\n",
      "Size 6\n",
      "IMC 19\n",
      "Creatinine 21\n",
      "Cystatin 263\n",
      "HDL 115\n",
      "LDL 135\n",
      "Triglyciredes 24\n",
      "GOT 198\n",
      "GPT 26\n",
      "GGT 54\n",
      "Albuminuria 209\n",
      "Ferritin 133\n",
      "HOMA 958\n",
      "Insulin 939\n",
      "Blood_Glucose 27\n",
      "Glycated-HB 740\n",
      "PCR 231\n",
      "Vitamin-D 1079\n"
     ]
    }
   ],
   "source": [
    "for index,value in enumerate (df.isnull().sum()):\n",
    "        if value !=0:\n",
    "            print(df.columns[index],value)"
   ]
  },
  {
   "cell_type": "code",
   "execution_count": null,
   "metadata": {},
   "outputs": [],
   "source": [
    "def data_nan_review_analysis(X):\n",
    "    \"\"\"\n",
    "    Function that takes as input a matrix with pats and features for one review, and gets back\n",
    "    X_train_rev_imputed,pats_to_drop,feature_to_drop,imputation_data\n",
    "    \"\"\"\n",
    "    feature_names = ['Age','Weight','Size','IMC','Creatinine','Cystatin','HDL','LDL','Triglyciredes','GOT','GPT','GGT','Albuminuria','Ferritin','HOMA','Insulin','Blood_Glucose','Glycated-HB','PCR','Vitamin-D','TAS','TAD','Date']\n",
    "    \n",
    "    df = pd.DataFrame(X,columns = feature_names[:-1]) #convert it to df #delete date [:-1]\n",
    "    \n",
    "    print(df.columns)\n",
    "    df = df.drop('Blood_Glucose',axis = 1)\n",
    "    df = df.drop('Glycated-HB',axis = 1)\n",
    "    \n",
    "    \n",
    "    #initialize vars to return\n",
    "    X_train_rev_imputed = []\n",
    "    pats_to_drop = []\n",
    "    feature_to_drop = []\n",
    "    imputation_data = []\n",
    "    #check number of NaNs per feature\n",
    "    \n",
    "    for index,value in enumerate (df.isnull().sum()):\n",
    "        if value !=0:\n",
    "            print(df.columns[index],value)\n",
    "            \n",
    "    #Drop features: Blood_Glucose and Glycated_HB\n",
    "    \n",
    "\n",
    "    ##reemplazar cada valor por la mediana \n",
    "    \n",
    "    X_train_rev_imputed = df.fillna(df.median()) \n",
    "    \n",
    "    return X_train_rev_imputed,pats_to_drop,feature_to_drop,imputation_data\n",
    "\n",
    "def imputing_data(X):\n",
    "    \"\"\" \n",
    "    Function that check data with nans and replace them with appropriate imputation\n",
    "    \"\"\"\n",
    "    X_train_aux = X_train.copy()\n",
    "    num_review = X_train_aux.shape[1]\n",
    "    \n",
    "    X_train_imp = []\n",
    "    \n",
    "    #run over the reviews and get the X_train_imputed, pats_to_drop, feature_to_drop, and imputation values\n",
    "    for i in range(3):\n",
    "        print(\"review\",i)\n",
    "        print(\"----------\")\n",
    "        X_train_rev_imputed,pats_to_drop,feature_to_drop,imputation_data = data_nan_review_analysis(X_train_aux[:,i,:])\n",
    "        print(\"----------\")\n",
    "        print(\"----------\")\n",
    "        \n",
    "        X_train_imp.append(X_train_rev_imputed)\n",
    "        \n",
    "    return X_train_imp"
   ]
  },
  {
   "cell_type": "markdown",
   "metadata": {},
   "source": [
    "Creamos una nueva variable: **X_train_imp**, obtenida de aplicar la función imputing_data a X_train. Devuelve lo siguiente\n",
    "\n",
    "- Nº de revisión\n",
    "- Features\n",
    "- Features con sus respectivos NaN (no aparecen la features eliminadas previamente por la función)"
   ]
  },
  {
   "cell_type": "code",
   "execution_count": null,
   "metadata": {},
   "outputs": [],
   "source": [
    "X_train_imp = imputing_data(X_train)"
   ]
  },
  {
   "cell_type": "code",
   "execution_count": null,
   "metadata": {},
   "outputs": [],
   "source": [
    "#review imputed data #Values for Revision 1 for vitamin D\n",
    "X_train_imp[1]['Vitamin-D']"
   ]
  },
  {
   "cell_type": "code",
   "execution_count": null,
   "metadata": {},
   "outputs": [],
   "source": [
    "#Get the two first reviews\n",
    "\n",
    "X_train_1 = X_train_imp[0]\n",
    "X_train_2 = X_train_imp[1]"
   ]
  },
  {
   "cell_type": "markdown",
   "metadata": {},
   "source": [
    "### Oversampling"
   ]
  },
  {
   "cell_type": "code",
   "execution_count": null,
   "metadata": {},
   "outputs": [],
   "source": []
  },
  {
   "cell_type": "code",
   "execution_count": null,
   "metadata": {},
   "outputs": [],
   "source": [
    "from imblearn.over_sampling import SMOTE, ADASYN\n",
    "#X_resampled, y_resampled = SMOTE().fit_resample(X, y)\n",
    "#print(sorted(Counter(y_resampled).items()))\n",
    "\n",
    "X_train_adasyn,y_train_adasyn = ADASYN(n_neighbors = 11).fit_resample(X_train_1,y_train)\n",
    "counter = sorted(Counter(y_train_adasyn).items())\n",
    "print(sorted(Counter(y_train_adasyn).items()))"
   ]
  },
  {
   "cell_type": "code",
   "execution_count": null,
   "metadata": {},
   "outputs": [],
   "source": [
    "plt.hist(y_train_adasyn)\n",
    "plt.show()"
   ]
  },
  {
   "cell_type": "code",
   "execution_count": null,
   "metadata": {},
   "outputs": [],
   "source": [
    "from imblearn.over_sampling import SMOTE, ADASYN\n",
    "X_train_smote, y_t_smote = SMOTE(k_neighbors = 11).fit_resample(X_train_1, y_train)\n",
    "print(sorted(Counter(y_t_smote).items()))"
   ]
  },
  {
   "cell_type": "code",
   "execution_count": null,
   "metadata": {},
   "outputs": [],
   "source": [
    "plt.hist(y_t_smote)\n",
    "plt.show()"
   ]
  },
  {
   "cell_type": "markdown",
   "metadata": {},
   "source": [
    "### Random Forest"
   ]
  },
  {
   "cell_type": "code",
   "execution_count": null,
   "metadata": {},
   "outputs": [],
   "source": [
    "rf_1 = RandomForestClassifier(n_estimators=100, criterion='gini', min_samples_split=2, min_samples_leaf=1, \n",
    "                    max_features='auto', bootstrap=True, oob_score=True,class_weight = 'balanced_subsample')"
   ]
  },
  {
   "cell_type": "code",
   "execution_count": null,
   "metadata": {},
   "outputs": [],
   "source": [
    "rf_1.fit(X_train_adasyn, y_train_adasyn)"
   ]
  },
  {
   "cell_type": "code",
   "execution_count": null,
   "metadata": {},
   "outputs": [],
   "source": [
    "y_pred = rf_1.predict(X_train_adasyn)\n",
    "\n",
    "print(y_pred)"
   ]
  },
  {
   "cell_type": "markdown",
   "metadata": {},
   "source": [
    "### Prestaciones"
   ]
  },
  {
   "cell_type": "code",
   "execution_count": 23,
   "metadata": {},
   "outputs": [],
   "source": [
    "from sklearn.metrics import confusion_matrix, plot_confusion_matrix"
   ]
  },
  {
   "cell_type": "code",
   "execution_count": null,
   "metadata": {},
   "outputs": [],
   "source": [
    "cm = confusion_matrix(y_train_adasyn,y_pred)\n",
    "\n",
    "\n",
    "plot_confusion_matrix(rf_1,X_train_adasyn,y_train_adasyn,cmap=plt.cm.Blues)\n",
    "\n",
    "\"\"\"\n",
    "fig, ax = plt.subplots(figsize=(10,5))\n",
    "ax.matshow(cm)\n",
    "plt.title('Matriz de confusion', fontsize = 20)\n",
    "plt.xlabel('Etiqueta verdadera', fontsize = 15)\n",
    "plt.ylabel('Etiqueta predicha', fontsize = 15)\n",
    "for (i,j), z in np.ndenumerate(cm):\n",
    "    ax.text(j, i, '{:0.1f}'.format(z), ha = 'center', va = 'center')\n",
    "\"\"\"\n",
    "\n",
    "plt.show()"
   ]
  },
  {
   "cell_type": "code",
   "execution_count": null,
   "metadata": {},
   "outputs": [],
   "source": [
    "#modify NaNs in X_test\n",
    "\n",
    "feature_names = ['Age','Weight','Size','IMC','Creatinine','Cystatin','HDL','LDL','Triglyciredes','GOT','GPT','GGT','Albuminuria','Ferritin','HOMA','Insulin','Blood_Glucose','Glycated-HB','PCR','Vitamin-D','TAS','TAD','Date']\n",
    "\n",
    "X_test_1 = pd.DataFrame(X_test[:,0,:],columns = feature_names[:-1])\n",
    "\n",
    "X_test_1 = X_test_1.drop('Blood_Glucose',axis = 1)\n",
    "X_test_1 = X_test_1.drop('Glycated-HB',axis = 1)\n",
    "\n",
    "#impute\n",
    "\n",
    "X_test_1 = X_test_1.fillna(X_train_1.median())\n",
    "\n",
    "y_pred_test = rf_1.predict(X_test_1)\n",
    "\n",
    "plot_confusion_matrix(rf_1,X_test_1,y_test,cmap=plt.cm.Blues)\n",
    "\n",
    "plt.show()"
   ]
  },
  {
   "cell_type": "markdown",
   "metadata": {},
   "source": [
    "### Aplicamos el modelo eliminando los variables Vitamin-D, HOMA e Insulin"
   ]
  },
  {
   "cell_type": "code",
   "execution_count": 7,
   "metadata": {},
   "outputs": [],
   "source": [
    "def data_nan_review_analysis_1(X):\n",
    "    \"\"\"\n",
    "    Function that takes as input a matrix with pats and features for one review, and gets back\n",
    "    X_train_rev_imputed,pats_to_drop,feature_to_drop,imputation_data\n",
    "    \"\"\"\n",
    "    feature_names = ['Age','Weight','Size','IMC','Creatinine','Cystatin','HDL','LDL','Triglyciredes','GOT','GPT','GGT','Albuminuria','Ferritin','HOMA','Insulin','Blood_Glucose','Glycated-HB','PCR','Vitamin-D','TAS','TAD','Date']\n",
    "    \n",
    "    df = pd.DataFrame(X,columns = feature_names[:-1]) #convert it to df #delete date [:-1]\n",
    "    \n",
    "    print(df.columns)\n",
    "    df = df.drop('HOMA',axis = 1)\n",
    "    df = df.drop('Insulin',axis = 1)\n",
    "    df = df.drop('Blood_Glucose',axis = 1)\n",
    "    df = df.drop('Glycated-HB',axis = 1)\n",
    "    df = df.drop('Vitamin-D',axis = 1)\n",
    "    \n",
    "    \n",
    "    \n",
    "    #initialize vars to return\n",
    "    X_train_rev_imputed = []\n",
    "    pats_to_drop = []\n",
    "    feature_to_drop = []\n",
    "    imputation_data = []\n",
    "    #check number of NaNs per feature\n",
    "    \n",
    "    for index,value in enumerate (df.isnull().sum()):\n",
    "        if value !=0:\n",
    "            print(df.columns[index],value)\n",
    "            \n",
    "    #Drop features: Blood_Glucose and Glycated_HB\n",
    "    \n",
    "\n",
    "    ##reemplazar cada valor por la mediana \n",
    "    \n",
    "    X_train_rev_imputed = df.fillna(df.median()) \n",
    "    \n",
    "    return X_train_rev_imputed,pats_to_drop,feature_to_drop,imputation_data\n",
    "\n",
    "def imputing_data_1(X):\n",
    "    \"\"\" \n",
    "    Function that check data with nans and replace them with appropriate imputation\n",
    "    \"\"\"\n",
    "    X_train_aux = X_train.copy()\n",
    "    num_review = X_train_aux.shape[1]\n",
    "    \n",
    "    X_train_imp = []\n",
    "    \n",
    "    #run over the reviews and get the X_train_imputed, pats_to_drop, feature_to_drop, and imputation values\n",
    "    for i in range(3):\n",
    "        print(\"review\",i)\n",
    "        print(\"----------\")\n",
    "        X_train_rev_imputed,pats_to_drop,feature_to_drop,imputation_data = data_nan_review_analysis_1(X_train_aux[:,i,:])\n",
    "        print(\"----------\")\n",
    "        print(\"----------\")\n",
    "        \n",
    "        X_train_imp.append(X_train_rev_imputed)\n",
    "        \n",
    "    return X_train_imp"
   ]
  },
  {
   "cell_type": "code",
   "execution_count": 8,
   "metadata": {},
   "outputs": [
    {
     "name": "stdout",
     "output_type": "stream",
     "text": [
      "review 0\n",
      "----------\n",
      "Index(['Age', 'Weight', 'Size', 'IMC', 'Creatinine', 'Cystatin', 'HDL', 'LDL',\n",
      "       'Triglyciredes', 'GOT', 'GPT', 'GGT', 'Albuminuria', 'Ferritin', 'HOMA',\n",
      "       'Insulin', 'Blood_Glucose', 'Glycated-HB', 'PCR', 'Vitamin-D', 'TAS',\n",
      "       'TAD'],\n",
      "      dtype='object')\n",
      "Weight 15\n",
      "Size 6\n",
      "IMC 19\n",
      "Creatinine 21\n",
      "Cystatin 263\n",
      "HDL 115\n",
      "LDL 135\n",
      "Triglyciredes 24\n",
      "GOT 198\n",
      "GPT 26\n",
      "GGT 54\n",
      "Albuminuria 209\n",
      "Ferritin 133\n",
      "PCR 231\n",
      "----------\n",
      "----------\n",
      "review 1\n",
      "----------\n",
      "Index(['Age', 'Weight', 'Size', 'IMC', 'Creatinine', 'Cystatin', 'HDL', 'LDL',\n",
      "       'Triglyciredes', 'GOT', 'GPT', 'GGT', 'Albuminuria', 'Ferritin', 'HOMA',\n",
      "       'Insulin', 'Blood_Glucose', 'Glycated-HB', 'PCR', 'Vitamin-D', 'TAS',\n",
      "       'TAD'],\n",
      "      dtype='object')\n",
      "Age 2\n",
      "Weight 13\n",
      "Size 4\n",
      "IMC 15\n",
      "Creatinine 5\n",
      "Cystatin 141\n",
      "HDL 100\n",
      "LDL 119\n",
      "Triglyciredes 8\n",
      "GOT 200\n",
      "GPT 8\n",
      "GGT 35\n",
      "Albuminuria 166\n",
      "Ferritin 81\n",
      "PCR 132\n",
      "----------\n",
      "----------\n",
      "review 2\n",
      "----------\n",
      "Index(['Age', 'Weight', 'Size', 'IMC', 'Creatinine', 'Cystatin', 'HDL', 'LDL',\n",
      "       'Triglyciredes', 'GOT', 'GPT', 'GGT', 'Albuminuria', 'Ferritin', 'HOMA',\n",
      "       'Insulin', 'Blood_Glucose', 'Glycated-HB', 'PCR', 'Vitamin-D', 'TAS',\n",
      "       'TAD'],\n",
      "      dtype='object')\n",
      "Age 112\n",
      "Weight 121\n",
      "Size 112\n",
      "IMC 123\n",
      "Creatinine 119\n",
      "Cystatin 250\n",
      "HDL 206\n",
      "LDL 227\n",
      "Triglyciredes 126\n",
      "GOT 338\n",
      "GPT 124\n",
      "GGT 147\n",
      "Albuminuria 276\n",
      "Ferritin 186\n",
      "PCR 252\n",
      "TAS 109\n",
      "TAD 109\n",
      "----------\n",
      "----------\n"
     ]
    }
   ],
   "source": [
    "X_train_imp_1 = imputing_data_1(X_train)"
   ]
  },
  {
   "cell_type": "code",
   "execution_count": 9,
   "metadata": {},
   "outputs": [],
   "source": [
    "#Get the two first reviews\n",
    "\n",
    "X_train_1 = X_train_imp_1[0]\n",
    "X_train_2 = X_train_imp_1[1]"
   ]
  },
  {
   "cell_type": "code",
   "execution_count": 17,
   "metadata": {},
   "outputs": [
    {
     "name": "stdout",
     "output_type": "stream",
     "text": [
      "[(0, 1212), (1, 1238)]\n"
     ]
    }
   ],
   "source": [
    "from imblearn.over_sampling import SMOTE, ADASYN\n",
    "\n",
    "X_train_adasyn_1,y_train_adasyn_1 = ADASYN(n_neighbors = 11).fit_resample(X_train_1,y_train)\n",
    "print(sorted(Counter(y_train_adasyn_1).items()))"
   ]
  },
  {
   "cell_type": "code",
   "execution_count": 18,
   "metadata": {},
   "outputs": [],
   "source": [
    "rf_1 = RandomForestClassifier(n_estimators=100, criterion='gini', min_samples_split=2, min_samples_leaf=1, \n",
    "                    max_features='auto', bootstrap=True, oob_score=True,class_weight = 'balanced_subsample')"
   ]
  },
  {
   "cell_type": "code",
   "execution_count": 19,
   "metadata": {},
   "outputs": [
    {
     "data": {
      "text/plain": [
       "RandomForestClassifier(class_weight='balanced_subsample', oob_score=True)"
      ]
     },
     "execution_count": 19,
     "metadata": {},
     "output_type": "execute_result"
    }
   ],
   "source": [
    "rf_1.fit(X_train_adasyn_1, y_train_adasyn_1)"
   ]
  },
  {
   "cell_type": "code",
   "execution_count": 20,
   "metadata": {},
   "outputs": [
    {
     "name": "stdout",
     "output_type": "stream",
     "text": [
      "[0 1 0 ... 1 1 1]\n"
     ]
    }
   ],
   "source": [
    "y_pred = rf_1.predict(X_train_adasyn_1)\n",
    "\n",
    "print(y_pred)"
   ]
  },
  {
   "cell_type": "code",
   "execution_count": 25,
   "metadata": {},
   "outputs": [
    {
     "data": {
      "image/png": "[encoded data removed]",
      "text/plain": [
       "<Figure size 432x288 with 2 Axes>"
      ]
     },
     "metadata": {
      "needs_background": "light"
     },
     "output_type": "display_data"
    }
   ],
   "source": [
    "cm = confusion_matrix(y_train_adasyn_1,y_pred)\n",
    "\n",
    "plot_confusion_matrix(rf_1,X_train_adasyn_1,y_train_adasyn_1,cmap=plt.cm.Blues)\n",
    "\n",
    "plt.show()"
   ]
  },
  {
   "cell_type": "code",
   "execution_count": null,
   "metadata": {},
   "outputs": [],
   "source": [
    "#modify NaNs in X_test\n",
    "\n",
    "feature_names = ['Age','Weight','Size','IMC','Creatinine','Cystatin','HDL','LDL','Triglyciredes','GOT','GPT','GGT','Albuminuria','Ferritin','HOMA','Insulin','Blood_Glucose','Glycated-HB','PCR','Vitamin-D','TAS','TAD','Date']\n",
    "\n",
    "X_test_1 = pd.DataFrame(X_test[:,0,:],columns = feature_names[:-1])\n",
    "\n",
    "\n",
    "X_test_1 = X_test_1.drop('Blood_Glucose',axis = 1)\n",
    "X_test_1 = X_test_1.drop('Glycated-HB',axis = 1)\n",
    "X_test_1 = X_test_1.drop('HOMA',axis = 1)\n",
    "X_test_1 = X_test_1.drop('Insulin',axis = 1)\n",
    "X_test_1 = X_test_1.drop('Vitamin-D',axis = 1)\n",
    "\n",
    "\n",
    "\n",
    "#impute\n",
    "\n",
    "X_test_1 = X_test_1.fillna(X_train_1.median())\n",
    "\n",
    "y_pred_test = rf_1.predict(X_test_1)\n",
    "\n",
    "plot_confusion_matrix(rf_1,X_test_1,y_test,cmap=plt.cm.Blues)\n",
    "\n",
    "plt.show()"
   ]
  },
  {
   "cell_type": "markdown",
   "metadata": {},
   "source": [
    "## Cosas que faltarían por hacer\n",
    "\n",
    "1. Habría que hacer una búsqueda de hiperparámetros utilizando oob score, sobre los parámetros que hablamos el otro día.\n",
    "1. Habría que comparar los resultados con la otra técnica de hacer oversampling. Quizá convendría utilizar alguna técnica diferente como undersampling, me parece que los resultados van a estar superajustados en otro caso.\n",
    "1. Hacer un calibrado de la probabilidad de predicción.\n",
    "1. Yo haría una prueba eliminando las variables: Vitamin-D, HOMA, Insulin y ver que sale sin ellas."
   ]
  },
  {
   "cell_type": "code",
   "execution_count": null,
   "metadata": {},
   "outputs": [],
   "source": []
  }
 ],
 "metadata": {
  "kernelspec": {
   "display_name": "Python 3",
   "language": "python",
   "name": "python3"
  },
  "language_info": {
   "codemirror_mode": {
    "name": "ipython",
    "version": 3
   },
   "file_extension": ".py",
   "mimetype": "text/x-python",
   "name": "python",
   "nbconvert_exporter": "python",
   "pygments_lexer": "ipython3",
   "version": "3.7.4"
  }
 },
 "nbformat": 4,
 "nbformat_minor": 2
}
